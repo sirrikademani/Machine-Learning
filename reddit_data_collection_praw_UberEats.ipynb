{
 "cells": [
  {
   "cell_type": "code",
   "execution_count": 2,
   "id": "97d4b3d8",
   "metadata": {},
   "outputs": [
    {
     "name": "stdout",
     "output_type": "stream",
     "text": [
      "Processed 45 comments.\n",
      "Processed 51 comments.\n",
      "Processed 51 comments.\n",
      "Processed 57 comments.\n",
      "Processed 74 comments.\n",
      "Processed 76 comments.\n",
      "Processed 76 comments.\n",
      "Processed 80 comments.\n",
      "Processed 87 comments.\n",
      "Processed 97 comments.\n",
      "Processed 113 comments.\n",
      "Processed 113 comments.\n",
      "Processed 117 comments.\n",
      "Processed 122 comments.\n",
      "Processed 135 comments.\n",
      "Processed 140 comments.\n",
      "Processed 164 comments.\n",
      "Processed 184 comments.\n",
      "Processed 192 comments.\n",
      "Processed 304 comments.\n",
      "Processed 309 comments.\n",
      "Processed 313 comments.\n",
      "Processed 319 comments.\n",
      "Processed 330 comments.\n",
      "Processed 369 comments.\n",
      "Processed 369 comments.\n",
      "Processed 378 comments.\n",
      "Processed 387 comments.\n",
      "Processed 392 comments.\n",
      "Processed 396 comments.\n",
      "Processed 535 comments.\n",
      "Processed 546 comments.\n",
      "Processed 566 comments.\n",
      "Processed 566 comments.\n",
      "Processed 577 comments.\n",
      "Processed 579 comments.\n",
      "Processed 583 comments.\n",
      "Processed 588 comments.\n",
      "Processed 612 comments.\n",
      "Processed 624 comments.\n",
      "Processed 627 comments.\n",
      "Processed 627 comments.\n",
      "Processed 631 comments.\n",
      "Processed 638 comments.\n",
      "Processed 640 comments.\n",
      "Processed 641 comments.\n",
      "Processed 657 comments.\n",
      "Processed 658 comments.\n",
      "Processed 664 comments.\n",
      "Processed 664 comments.\n",
      "Processed 669 comments.\n",
      "Processed 676 comments.\n",
      "Processed 689 comments.\n",
      "Processed 692 comments.\n",
      "Processed 746 comments.\n",
      "Processed 746 comments.\n",
      "Processed 747 comments.\n",
      "Processed 748 comments.\n",
      "Processed 770 comments.\n",
      "Processed 775 comments.\n",
      "Processed 776 comments.\n",
      "Processed 783 comments.\n",
      "Processed 786 comments.\n",
      "Processed 792 comments.\n",
      "Processed 796 comments.\n",
      "Processed 800 comments.\n",
      "Processed 830 comments.\n",
      "Processed 836 comments.\n",
      "Processed 848 comments.\n",
      "Processed 864 comments.\n",
      "Processed 864 comments.\n",
      "Processed 871 comments.\n",
      "Processed 882 comments.\n",
      "Processed 887 comments.\n",
      "Processed 891 comments.\n",
      "Processed 900 comments.\n",
      "Processed 911 comments.\n",
      "Processed 915 comments.\n",
      "Processed 920 comments.\n",
      "Processed 929 comments.\n",
      "Processed 929 comments.\n",
      "Processed 943 comments.\n",
      "Processed 986 comments.\n",
      "Processed 1151 comments.\n",
      "Processed 1163 comments.\n",
      "Processed 1166 comments.\n",
      "Processed 1167 comments.\n",
      "Processed 1167 comments.\n",
      "Processed 1171 comments.\n",
      "Processed 1173 comments.\n",
      "Processed 1178 comments.\n",
      "Processed 1216 comments.\n",
      "Processed 1243 comments.\n",
      "Processed 1245 comments.\n",
      "Processed 1319 comments.\n",
      "Processed 1365 comments.\n",
      "Processed 1371 comments.\n",
      "Processed 1378 comments.\n",
      "Processed 1402 comments.\n",
      "Processed 1407 comments.\n",
      "Processed 1413 comments.\n",
      "Processed 1430 comments.\n",
      "Processed 1434 comments.\n",
      "Processed 1445 comments.\n",
      "Processed 1448 comments.\n",
      "Processed 1451 comments.\n",
      "Processed 1453 comments.\n",
      "Processed 1460 comments.\n",
      "Processed 1493 comments.\n",
      "Processed 1494 comments.\n",
      "Processed 1496 comments.\n",
      "Processed 1498 comments.\n",
      "Processed 1506 comments.\n",
      "Processed 1509 comments.\n",
      "Processed 1510 comments.\n",
      "Processed 1524 comments.\n",
      "Processed 1532 comments.\n",
      "Processed 1535 comments.\n",
      "Processed 1594 comments.\n",
      "Processed 1600 comments.\n",
      "Processed 1621 comments.\n",
      "Processed 1624 comments.\n",
      "Processed 1628 comments.\n",
      "Processed 1633 comments.\n",
      "Processed 1641 comments.\n",
      "Processed 1643 comments.\n",
      "Processed 1645 comments.\n",
      "Processed 1672 comments.\n",
      "Processed 1681 comments.\n",
      "Processed 1686 comments.\n",
      "Processed 1722 comments.\n",
      "Processed 1722 comments.\n",
      "Processed 1739 comments.\n",
      "Processed 1740 comments.\n",
      "Processed 1747 comments.\n",
      "Processed 1756 comments.\n",
      "Processed 1938 comments.\n",
      "Processed 1948 comments.\n",
      "Processed 1955 comments.\n",
      "Processed 1955 comments.\n",
      "Processed 1959 comments.\n",
      "Processed 1961 comments.\n",
      "Processed 1964 comments.\n",
      "Processed 1968 comments.\n",
      "Processed 1972 comments.\n",
      "Processed 1988 comments.\n",
      "Processed 1996 comments.\n",
      "Processed 2001 comments.\n",
      "     Comment ID                Author            Timestamp  \\\n",
      "0       jd0njqz               jack2ho  2023-03-20 16:46:16   \n",
      "1       jd0p20u             gtaeast91  2023-03-20 16:57:02   \n",
      "2       jd0qwgl               noersls  2023-03-20 17:10:14   \n",
      "3       jd0q46i               noersls  2023-03-20 17:04:40   \n",
      "4       jd0tula  lDontFuckWithCondoms  2023-03-20 17:31:20   \n",
      "...         ...                   ...                  ...   \n",
      "1996    jcv8ya6            alraptor23  2023-03-19 13:40:25   \n",
      "1997    jcvfc8p  EconomyCriticism7584  2023-03-19 14:24:11   \n",
      "1998    jcx4h8k         CapitalAd1570  2023-03-19 23:08:22   \n",
      "1999    jcvfzfx         Global_Ad4715  2023-03-19 14:28:38   \n",
      "2000    jcvfk8i         Global_Ad4715  2023-03-19 14:25:42   \n",
      "\n",
      "     Comment is a reply to Comment Thread ID  \\\n",
      "0               t3_11x0892           11x0892   \n",
      "1               t3_11x0892           11x0892   \n",
      "2               t3_11x0892           11x0892   \n",
      "3               t3_11x0892           11x0892   \n",
      "4               t3_11x0892           11x0892   \n",
      "...                    ...               ...   \n",
      "1996            t3_11vw4pk           11vw4pk   \n",
      "1997            t3_11vw4pk           11vw4pk   \n",
      "1998            t3_11vw4pk           11vw4pk   \n",
      "1999            t1_jcv8ya6           11vw4pk   \n",
      "2000            t1_jcvfc8p           11vw4pk   \n",
      "\n",
      "                                         Thread Title  \\\n",
      "0     How much do you make from Uber Eats with E-Bike   \n",
      "1     How much do you make from Uber Eats with E-Bike   \n",
      "2     How much do you make from Uber Eats with E-Bike   \n",
      "3     How much do you make from Uber Eats with E-Bike   \n",
      "4     How much do you make from Uber Eats with E-Bike   \n",
      "...                                               ...   \n",
      "1996                      Where’s Sam A, B, and D lol   \n",
      "1997                      Where’s Sam A, B, and D lol   \n",
      "1998                      Where’s Sam A, B, and D lol   \n",
      "1999                      Where’s Sam A, B, and D lol   \n",
      "2000                      Where’s Sam A, B, and D lol   \n",
      "\n",
      "                                           Comment Body  \\\n",
      "0                  Bike mode is dead. I'm in Vancouver.   \n",
      "1     The common response is that people are making ...   \n",
      "2                                 Three dollars per day   \n",
      "3                                           Three fiddy   \n",
      "4                                      Bout three fiddy   \n",
      "...                                                 ...   \n",
      "1996         You removed them cause they didn't tip lol   \n",
      "1997  I once had two Johns order from the same place...   \n",
      "1998  They each ordered 14-29 custom items from taco...   \n",
      "1999  😂😂 solid tips from both, usually I end up gett...   \n",
      "2000  Oof that sucks haha! Yeah these two were both ...   \n",
      "\n",
      "                                      Comment Permalink  \n",
      "0     /r/UberEATS/comments/11x0892/how_much_do_you_m...  \n",
      "1     /r/UberEATS/comments/11x0892/how_much_do_you_m...  \n",
      "2     /r/UberEATS/comments/11x0892/how_much_do_you_m...  \n",
      "3     /r/UberEATS/comments/11x0892/how_much_do_you_m...  \n",
      "4     /r/UberEATS/comments/11x0892/how_much_do_you_m...  \n",
      "...                                                 ...  \n",
      "1996  /r/UberEATS/comments/11vw4pk/wheres_sam_a_b_an...  \n",
      "1997  /r/UberEATS/comments/11vw4pk/wheres_sam_a_b_an...  \n",
      "1998  /r/UberEATS/comments/11vw4pk/wheres_sam_a_b_an...  \n",
      "1999  /r/UberEATS/comments/11vw4pk/wheres_sam_a_b_an...  \n",
      "2000  /r/UberEATS/comments/11vw4pk/wheres_sam_a_b_an...  \n",
      "\n",
      "[2001 rows x 8 columns]\n"
     ]
    }
   ],
   "source": [
    "import praw\n",
    "import pandas as pd\n",
    "import datetime\n",
    "import concurrent.futures\n",
    "\n",
    "reddit = praw.Reddit(client_id='_37znztIqSaRtA8ZWOCRXg', client_secret=\"0wz5rUMlMjJBSCwUuXhuDt_64OOCyA\",\n",
    "                     user_agent='CIS509')\n",
    "\n",
    "subreddit = reddit.subreddit('UberEats')\n",
    "\n",
    "def process_submission(submission):\n",
    "    try:\n",
    "        submission.comments.replace_more(limit=0)\n",
    "        comments_data = []\n",
    "        for comment in submission.comments.list():\n",
    "            timestamp = datetime.datetime.fromtimestamp(comment.created_utc).strftime('%Y-%m-%d %H:%M:%S')\n",
    "            comments_data.append([comment.id,\n",
    "                                 comment.author,\n",
    "                                 timestamp,\n",
    "                                 comment.parent_id,\n",
    "                                 submission.id,\n",
    "                                 submission.title,\n",
    "                                 comment.body,\n",
    "                                 comment.permalink])\n",
    "        return comments_data\n",
    "    except Exception as e:\n",
    "        print(f\"Error processing submission with id {submission.id}: {e}\")\n",
    "        return []\n",
    "\n",
    "comments_data = []\n",
    "count = 0\n",
    "with concurrent.futures.ThreadPoolExecutor() as executor:\n",
    "    submission_futures = [executor.submit(process_submission, submission) for submission in subreddit.new(limit=1000)]\n",
    "    for submission_future in concurrent.futures.as_completed(submission_futures):\n",
    "        comments_data += submission_future.result()\n",
    "        count += len(submission_future.result())\n",
    "        print(f\"Processed {count} comments.\")\n",
    "        if count >= 2000:\n",
    "            break\n",
    "\n",
    "comments_df = pd.DataFrame(comments_data, columns=['Comment ID', 'Author', 'Timestamp',\n",
    "                                                    'Comment is a reply to', 'Comment Thread ID',\n",
    "                                                    'Thread Title', 'Comment Body', 'Comment Permalink'])\n",
    "\n",
    "print(comments_df)\n"
   ]
  },
  {
   "cell_type": "code",
   "execution_count": 3,
   "id": "4712cfa5",
   "metadata": {},
   "outputs": [],
   "source": [
    "comments_df.to_csv('UberEats_comments_21_03.csv',index=False)"
   ]
  },
  {
   "cell_type": "code",
   "execution_count": null,
   "id": "80b1a002",
   "metadata": {},
   "outputs": [],
   "source": []
  },
  {
   "cell_type": "code",
   "execution_count": null,
   "id": "9015dedd",
   "metadata": {},
   "outputs": [],
   "source": []
  },
  {
   "cell_type": "code",
   "execution_count": null,
   "id": "7186f2c3",
   "metadata": {},
   "outputs": [],
   "source": []
  },
  {
   "cell_type": "code",
   "execution_count": 4,
   "id": "7aa968d1",
   "metadata": {},
   "outputs": [
    {
     "name": "stdout",
     "output_type": "stream",
     "text": [
      "Requirement already satisfied: textblob in c:\\users\\sirik\\anaconda3\\lib\\site-packages (0.17.1)\n",
      "Requirement already satisfied: nltk>=3.1 in c:\\users\\sirik\\anaconda3\\lib\\site-packages (from textblob) (3.7)\n",
      "Requirement already satisfied: tqdm in c:\\users\\sirik\\anaconda3\\lib\\site-packages (from nltk>=3.1->textblob) (4.64.0)\n",
      "Requirement already satisfied: regex>=2021.8.3 in c:\\users\\sirik\\anaconda3\\lib\\site-packages (from nltk>=3.1->textblob) (2022.3.15)\n",
      "Requirement already satisfied: click in c:\\users\\sirik\\anaconda3\\lib\\site-packages (from nltk>=3.1->textblob) (8.0.4)\n",
      "Requirement already satisfied: joblib in c:\\users\\sirik\\anaconda3\\lib\\site-packages (from nltk>=3.1->textblob) (1.1.0)\n",
      "Requirement already satisfied: colorama in c:\\users\\sirik\\anaconda3\\lib\\site-packages (from click->nltk>=3.1->textblob) (0.4.4)\n"
     ]
    }
   ],
   "source": [
    "!pip install textblob"
   ]
  },
  {
   "cell_type": "code",
   "execution_count": 5,
   "id": "964b1eb3",
   "metadata": {},
   "outputs": [
    {
     "name": "stdout",
     "output_type": "stream",
     "text": [
      "Requirement already satisfied: nltk in c:\\users\\sirik\\anaconda3\\lib\\site-packages (3.7)\n",
      "Requirement already satisfied: tqdm in c:\\users\\sirik\\anaconda3\\lib\\site-packages (from nltk) (4.64.0)\n",
      "Requirement already satisfied: click in c:\\users\\sirik\\anaconda3\\lib\\site-packages (from nltk) (8.0.4)\n",
      "Requirement already satisfied: regex>=2021.8.3 in c:\\users\\sirik\\anaconda3\\lib\\site-packages (from nltk) (2022.3.15)\n",
      "Requirement already satisfied: joblib in c:\\users\\sirik\\anaconda3\\lib\\site-packages (from nltk) (1.1.0)\n",
      "Requirement already satisfied: colorama in c:\\users\\sirik\\anaconda3\\lib\\site-packages (from click->nltk) (0.4.4)\n"
     ]
    }
   ],
   "source": [
    "!pip install nltk"
   ]
  },
  {
   "cell_type": "code",
   "execution_count": 6,
   "id": "78e83fea",
   "metadata": {},
   "outputs": [
    {
     "name": "stdout",
     "output_type": "stream",
     "text": [
      "Requirement already satisfied: pandas in c:\\users\\sirik\\anaconda3\\lib\\site-packages (1.4.2)\n",
      "Requirement already satisfied: python-dateutil>=2.8.1 in c:\\users\\sirik\\anaconda3\\lib\\site-packages (from pandas) (2.8.2)\n",
      "Requirement already satisfied: numpy>=1.18.5 in c:\\users\\sirik\\anaconda3\\lib\\site-packages (from pandas) (1.21.5)\n",
      "Requirement already satisfied: pytz>=2020.1 in c:\\users\\sirik\\anaconda3\\lib\\site-packages (from pandas) (2021.3)\n",
      "Requirement already satisfied: six>=1.5 in c:\\users\\sirik\\anaconda3\\lib\\site-packages (from python-dateutil>=2.8.1->pandas) (1.16.0)\n"
     ]
    }
   ],
   "source": [
    "!pip install pandas"
   ]
  },
  {
   "cell_type": "code",
   "execution_count": 7,
   "id": "fd690548",
   "metadata": {},
   "outputs": [
    {
     "data": {
      "text/html": [
       "<div>\n",
       "<style scoped>\n",
       "    .dataframe tbody tr th:only-of-type {\n",
       "        vertical-align: middle;\n",
       "    }\n",
       "\n",
       "    .dataframe tbody tr th {\n",
       "        vertical-align: top;\n",
       "    }\n",
       "\n",
       "    .dataframe thead th {\n",
       "        text-align: right;\n",
       "    }\n",
       "</style>\n",
       "<table border=\"1\" class=\"dataframe\">\n",
       "  <thead>\n",
       "    <tr style=\"text-align: right;\">\n",
       "      <th></th>\n",
       "      <th>Comment ID</th>\n",
       "      <th>Author</th>\n",
       "      <th>Timestamp</th>\n",
       "      <th>Comment is a reply to</th>\n",
       "      <th>Comment Thread ID</th>\n",
       "      <th>Thread Title</th>\n",
       "      <th>Comment Body</th>\n",
       "      <th>Comment Permalink</th>\n",
       "    </tr>\n",
       "  </thead>\n",
       "  <tbody>\n",
       "    <tr>\n",
       "      <th>0</th>\n",
       "      <td>jd0njqz</td>\n",
       "      <td>jack2ho</td>\n",
       "      <td>2023-03-20 16:46:16</td>\n",
       "      <td>t3_11x0892</td>\n",
       "      <td>11x0892</td>\n",
       "      <td>How much do you make from Uber Eats with E-Bike</td>\n",
       "      <td>Bike mode is dead. I'm in Vancouver.</td>\n",
       "      <td>/r/UberEATS/comments/11x0892/how_much_do_you_m...</td>\n",
       "    </tr>\n",
       "    <tr>\n",
       "      <th>1</th>\n",
       "      <td>jd0p20u</td>\n",
       "      <td>gtaeast91</td>\n",
       "      <td>2023-03-20 16:57:02</td>\n",
       "      <td>t3_11x0892</td>\n",
       "      <td>11x0892</td>\n",
       "      <td>How much do you make from Uber Eats with E-Bike</td>\n",
       "      <td>The common response is that people are making ...</td>\n",
       "      <td>/r/UberEATS/comments/11x0892/how_much_do_you_m...</td>\n",
       "    </tr>\n",
       "  </tbody>\n",
       "</table>\n",
       "</div>"
      ],
      "text/plain": [
       "  Comment ID     Author            Timestamp Comment is a reply to  \\\n",
       "0    jd0njqz    jack2ho  2023-03-20 16:46:16            t3_11x0892   \n",
       "1    jd0p20u  gtaeast91  2023-03-20 16:57:02            t3_11x0892   \n",
       "\n",
       "  Comment Thread ID                                     Thread Title  \\\n",
       "0           11x0892  How much do you make from Uber Eats with E-Bike   \n",
       "1           11x0892  How much do you make from Uber Eats with E-Bike   \n",
       "\n",
       "                                        Comment Body  \\\n",
       "0               Bike mode is dead. I'm in Vancouver.   \n",
       "1  The common response is that people are making ...   \n",
       "\n",
       "                                   Comment Permalink  \n",
       "0  /r/UberEATS/comments/11x0892/how_much_do_you_m...  \n",
       "1  /r/UberEATS/comments/11x0892/how_much_do_you_m...  "
      ]
     },
     "execution_count": 7,
     "metadata": {},
     "output_type": "execute_result"
    }
   ],
   "source": [
    "import pandas as pd\n",
    "data = pd.read_csv('UberEats_comments_21_03.csv')\n",
    "data.head(2)"
   ]
  },
  {
   "cell_type": "code",
   "execution_count": 8,
   "id": "435f0c1f",
   "metadata": {},
   "outputs": [],
   "source": [
    "#Parse csv's to only extract column called 'message'\n",
    "messages = data['Comment Body']"
   ]
  },
  {
   "cell_type": "code",
   "execution_count": 9,
   "id": "87b266f7",
   "metadata": {},
   "outputs": [
    {
     "name": "stderr",
     "output_type": "stream",
     "text": [
      "[nltk_data] Downloading package wordnet to\n",
      "[nltk_data]     C:\\Users\\sirik\\AppData\\Roaming\\nltk_data...\n",
      "[nltk_data]   Package wordnet is already up-to-date!\n",
      "[nltk_data] Downloading package stopwords to\n",
      "[nltk_data]     C:\\Users\\sirik\\AppData\\Roaming\\nltk_data...\n",
      "[nltk_data]   Package stopwords is already up-to-date!\n",
      "[nltk_data] Downloading package punkt to\n",
      "[nltk_data]     C:\\Users\\sirik\\AppData\\Roaming\\nltk_data...\n",
      "[nltk_data]   Package punkt is already up-to-date!\n",
      "[nltk_data] Downloading package omw-1.4 to\n",
      "[nltk_data]     C:\\Users\\sirik\\AppData\\Roaming\\nltk_data...\n",
      "[nltk_data]   Package omw-1.4 is already up-to-date!\n"
     ]
    }
   ],
   "source": [
    "from textblob import TextBlob\n",
    "import re\n",
    "import nltk\n",
    "nltk.download('wordnet')\n",
    "nltk.download('stopwords')\n",
    "nltk.download('punkt')\n",
    "nltk.download('omw-1.4')\n",
    "from nltk.corpus import stopwords\n",
    "from nltk.stem.wordnet import WordNetLemmatizer\n",
    "#Text pre-processing functions\n",
    "def text_processing(message):\n",
    "    \n",
    "    #Generating the list of words in the message (hastags and other punctuations removed) and convert to lowercase\n",
    "    def form_sentence(message):\n",
    "        message = message.lower() #Make messages lowercase \n",
    "        message_blob = TextBlob(message.lower()) #Convert to 'textblob' which provides a simple API for NLP tasks\n",
    "        return ' '.join(message_blob.words)\n",
    "    new_message = form_sentence(message)\n",
    "    \n",
    "    #Removing stopwords and words with unusual symbols\n",
    "    def no_user_alpha(message):\n",
    "        message_list = [item for item in message.split()] \n",
    "        clean_words = [word for word in message_list if re.match(r'[^\\W\\d]*$', word)] #remove punctuation and strange characters\n",
    "        clean_sentence = ' '.join(clean_words) \n",
    "        clean_mess = [stopword for stopword in clean_sentence.split() if stopword not in stopwords.words('english')] #remove stopwords\n",
    "        return clean_mess\n",
    "    no_punc_message = no_user_alpha(new_message)\n",
    "    \n",
    "    #Normalizing the words in messages \n",
    "    def normalization(message_list):\n",
    "        lem = WordNetLemmatizer()\n",
    "        normalized_message = []\n",
    "        for word in message_list:\n",
    "            normalized_text = lem.lemmatize(word,'v') #lemmatize words\n",
    "            normalized_message.append(normalized_text)\n",
    "        return normalized_message\n",
    "    return normalization(no_punc_message)"
   ]
  },
  {
   "cell_type": "code",
   "execution_count": 10,
   "id": "4e321b5a",
   "metadata": {},
   "outputs": [],
   "source": [
    "#Print to console and write to file\n",
    "f = open('processed_text_ubereats.csv','w', encoding='utf8')\n",
    "for message in messages: \n",
    "\tmessage = text_processing(message)\n",
    "\tfor term in message:\n",
    "\t\tf.write(term+\" \")\n",
    "\tf.write(\"\\n\")"
   ]
  },
  {
   "cell_type": "code",
   "execution_count": 11,
   "id": "834f6493",
   "metadata": {},
   "outputs": [],
   "source": [
    "f.close()"
   ]
  },
  {
   "cell_type": "code",
   "execution_count": 12,
   "id": "785d027e",
   "metadata": {},
   "outputs": [
    {
     "name": "stdout",
     "output_type": "stream",
     "text": [
      "Requirement already satisfied: spacy in c:\\users\\sirik\\anaconda3\\lib\\site-packages (3.3.1)\n",
      "Requirement already satisfied: jinja2 in c:\\users\\sirik\\anaconda3\\lib\\site-packages (from spacy) (2.11.3)\n",
      "Requirement already satisfied: setuptools in c:\\users\\sirik\\anaconda3\\lib\\site-packages (from spacy) (61.2.0)\n",
      "Requirement already satisfied: langcodes<4.0.0,>=3.2.0 in c:\\users\\sirik\\anaconda3\\lib\\site-packages (from spacy) (3.3.0)\n",
      "Requirement already satisfied: packaging>=20.0 in c:\\users\\sirik\\anaconda3\\lib\\site-packages (from spacy) (21.3)\n",
      "Requirement already satisfied: tqdm<5.0.0,>=4.38.0 in c:\\users\\sirik\\anaconda3\\lib\\site-packages (from spacy) (4.64.0)\n",
      "Requirement already satisfied: srsly<3.0.0,>=2.4.3 in c:\\users\\sirik\\anaconda3\\lib\\site-packages (from spacy) (2.4.3)\n",
      "Requirement already satisfied: thinc<8.1.0,>=8.0.14 in c:\\users\\sirik\\anaconda3\\lib\\site-packages (from spacy) (8.0.15)\n",
      "Requirement already satisfied: pydantic!=1.8,!=1.8.1,<1.9.0,>=1.7.4 in c:\\users\\sirik\\anaconda3\\lib\\site-packages (from spacy) (1.8.2)\n",
      "Requirement already satisfied: cymem<2.1.0,>=2.0.2 in c:\\users\\sirik\\anaconda3\\lib\\site-packages (from spacy) (2.0.6)\n",
      "Requirement already satisfied: blis<0.8.0,>=0.4.0 in c:\\users\\sirik\\anaconda3\\lib\\site-packages (from spacy) (0.7.7)\n",
      "Requirement already satisfied: catalogue<2.1.0,>=2.0.6 in c:\\users\\sirik\\anaconda3\\lib\\site-packages (from spacy) (2.0.8)\n",
      "Requirement already satisfied: pathy>=0.3.5 in c:\\users\\sirik\\anaconda3\\lib\\site-packages (from spacy) (0.10.1)\n",
      "Requirement already satisfied: murmurhash<1.1.0,>=0.28.0 in c:\\users\\sirik\\anaconda3\\lib\\site-packages (from spacy) (1.0.7)\n",
      "Requirement already satisfied: spacy-loggers<2.0.0,>=1.0.0 in c:\\users\\sirik\\anaconda3\\lib\\site-packages (from spacy) (1.0.4)\n",
      "Requirement already satisfied: typer<0.5.0,>=0.3.0 in c:\\users\\sirik\\anaconda3\\lib\\site-packages (from spacy) (0.4.2)\n",
      "Requirement already satisfied: preshed<3.1.0,>=3.0.2 in c:\\users\\sirik\\anaconda3\\lib\\site-packages (from spacy) (3.0.6)\n",
      "Requirement already satisfied: requests<3.0.0,>=2.13.0 in c:\\users\\sirik\\anaconda3\\lib\\site-packages (from spacy) (2.27.1)\n",
      "Requirement already satisfied: spacy-legacy<3.1.0,>=3.0.9 in c:\\users\\sirik\\anaconda3\\lib\\site-packages (from spacy) (3.0.10)\n",
      "Requirement already satisfied: numpy>=1.15.0 in c:\\users\\sirik\\anaconda3\\lib\\site-packages (from spacy) (1.21.5)\n",
      "Requirement already satisfied: wasabi<1.1.0,>=0.9.1 in c:\\users\\sirik\\anaconda3\\lib\\site-packages (from spacy) (0.10.1)\n",
      "Requirement already satisfied: pyparsing!=3.0.5,>=2.0.2 in c:\\users\\sirik\\anaconda3\\lib\\site-packages (from packaging>=20.0->spacy) (3.0.4)\n",
      "Requirement already satisfied: smart-open<7.0.0,>=5.2.1 in c:\\users\\sirik\\anaconda3\\lib\\site-packages (from pathy>=0.3.5->spacy) (6.3.0)\n",
      "Requirement already satisfied: typing-extensions>=3.7.4.3 in c:\\users\\sirik\\anaconda3\\lib\\site-packages (from pydantic!=1.8,!=1.8.1,<1.9.0,>=1.7.4->spacy) (4.1.1)\n",
      "Requirement already satisfied: charset-normalizer~=2.0.0 in c:\\users\\sirik\\anaconda3\\lib\\site-packages (from requests<3.0.0,>=2.13.0->spacy) (2.0.4)\n",
      "Requirement already satisfied: idna<4,>=2.5 in c:\\users\\sirik\\anaconda3\\lib\\site-packages (from requests<3.0.0,>=2.13.0->spacy) (3.3)\n",
      "Requirement already satisfied: urllib3<1.27,>=1.21.1 in c:\\users\\sirik\\anaconda3\\lib\\site-packages (from requests<3.0.0,>=2.13.0->spacy) (1.26.9)\n",
      "Requirement already satisfied: certifi>=2017.4.17 in c:\\users\\sirik\\anaconda3\\lib\\site-packages (from requests<3.0.0,>=2.13.0->spacy) (2021.10.8)\n",
      "Requirement already satisfied: colorama in c:\\users\\sirik\\anaconda3\\lib\\site-packages (from tqdm<5.0.0,>=4.38.0->spacy) (0.4.4)\n",
      "Requirement already satisfied: click<9.0.0,>=7.1.1 in c:\\users\\sirik\\anaconda3\\lib\\site-packages (from typer<0.5.0,>=0.3.0->spacy) (8.0.4)\n",
      "Requirement already satisfied: MarkupSafe>=0.23 in c:\\users\\sirik\\anaconda3\\lib\\site-packages (from jinja2->spacy) (2.0.1)\n"
     ]
    }
   ],
   "source": [
    "!pip install spacy"
   ]
  },
  {
   "cell_type": "code",
   "execution_count": 13,
   "id": "6b4f07c1",
   "metadata": {},
   "outputs": [
    {
     "name": "stdout",
     "output_type": "stream",
     "text": [
      "Collecting en-core-web-lg==3.3.0\n",
      "  Downloading https://github.com/explosion/spacy-models/releases/download/en_core_web_lg-3.3.0/en_core_web_lg-3.3.0-py3-none-any.whl (400.7 MB)\n",
      "Requirement already satisfied: spacy<3.4.0,>=3.3.0.dev0 in c:\\users\\sirik\\anaconda3\\lib\\site-packages (from en-core-web-lg==3.3.0) (3.3.1)\n",
      "Requirement already satisfied: requests<3.0.0,>=2.13.0 in c:\\users\\sirik\\anaconda3\\lib\\site-packages (from spacy<3.4.0,>=3.3.0.dev0->en-core-web-lg==3.3.0) (2.27.1)\n",
      "Requirement already satisfied: typer<0.5.0,>=0.3.0 in c:\\users\\sirik\\anaconda3\\lib\\site-packages (from spacy<3.4.0,>=3.3.0.dev0->en-core-web-lg==3.3.0) (0.4.2)\n",
      "Requirement already satisfied: wasabi<1.1.0,>=0.9.1 in c:\\users\\sirik\\anaconda3\\lib\\site-packages (from spacy<3.4.0,>=3.3.0.dev0->en-core-web-lg==3.3.0) (0.10.1)\n",
      "Requirement already satisfied: pathy>=0.3.5 in c:\\users\\sirik\\anaconda3\\lib\\site-packages (from spacy<3.4.0,>=3.3.0.dev0->en-core-web-lg==3.3.0) (0.10.1)\n",
      "Requirement already satisfied: jinja2 in c:\\users\\sirik\\anaconda3\\lib\\site-packages (from spacy<3.4.0,>=3.3.0.dev0->en-core-web-lg==3.3.0) (2.11.3)\n",
      "Requirement already satisfied: srsly<3.0.0,>=2.4.3 in c:\\users\\sirik\\anaconda3\\lib\\site-packages (from spacy<3.4.0,>=3.3.0.dev0->en-core-web-lg==3.3.0) (2.4.3)\n",
      "Requirement already satisfied: packaging>=20.0 in c:\\users\\sirik\\anaconda3\\lib\\site-packages (from spacy<3.4.0,>=3.3.0.dev0->en-core-web-lg==3.3.0) (21.3)\n",
      "Requirement already satisfied: spacy-legacy<3.1.0,>=3.0.9 in c:\\users\\sirik\\anaconda3\\lib\\site-packages (from spacy<3.4.0,>=3.3.0.dev0->en-core-web-lg==3.3.0) (3.0.10)\n",
      "Requirement already satisfied: spacy-loggers<2.0.0,>=1.0.0 in c:\\users\\sirik\\anaconda3\\lib\\site-packages (from spacy<3.4.0,>=3.3.0.dev0->en-core-web-lg==3.3.0) (1.0.4)\n",
      "Requirement already satisfied: numpy>=1.15.0 in c:\\users\\sirik\\anaconda3\\lib\\site-packages (from spacy<3.4.0,>=3.3.0.dev0->en-core-web-lg==3.3.0) (1.21.5)\n",
      "Requirement already satisfied: thinc<8.1.0,>=8.0.14 in c:\\users\\sirik\\anaconda3\\lib\\site-packages (from spacy<3.4.0,>=3.3.0.dev0->en-core-web-lg==3.3.0) (8.0.15)\n",
      "Requirement already satisfied: pydantic!=1.8,!=1.8.1,<1.9.0,>=1.7.4 in c:\\users\\sirik\\anaconda3\\lib\\site-packages (from spacy<3.4.0,>=3.3.0.dev0->en-core-web-lg==3.3.0) (1.8.2)\n",
      "Requirement already satisfied: setuptools in c:\\users\\sirik\\anaconda3\\lib\\site-packages (from spacy<3.4.0,>=3.3.0.dev0->en-core-web-lg==3.3.0) (61.2.0)\n",
      "Requirement already satisfied: langcodes<4.0.0,>=3.2.0 in c:\\users\\sirik\\anaconda3\\lib\\site-packages (from spacy<3.4.0,>=3.3.0.dev0->en-core-web-lg==3.3.0) (3.3.0)\n",
      "Requirement already satisfied: blis<0.8.0,>=0.4.0 in c:\\users\\sirik\\anaconda3\\lib\\site-packages (from spacy<3.4.0,>=3.3.0.dev0->en-core-web-lg==3.3.0) (0.7.7)\n",
      "Requirement already satisfied: cymem<2.1.0,>=2.0.2 in c:\\users\\sirik\\anaconda3\\lib\\site-packages (from spacy<3.4.0,>=3.3.0.dev0->en-core-web-lg==3.3.0) (2.0.6)\n",
      "Requirement already satisfied: preshed<3.1.0,>=3.0.2 in c:\\users\\sirik\\anaconda3\\lib\\site-packages (from spacy<3.4.0,>=3.3.0.dev0->en-core-web-lg==3.3.0) (3.0.6)\n",
      "Requirement already satisfied: murmurhash<1.1.0,>=0.28.0 in c:\\users\\sirik\\anaconda3\\lib\\site-packages (from spacy<3.4.0,>=3.3.0.dev0->en-core-web-lg==3.3.0) (1.0.7)\n",
      "Requirement already satisfied: catalogue<2.1.0,>=2.0.6 in c:\\users\\sirik\\anaconda3\\lib\\site-packages (from spacy<3.4.0,>=3.3.0.dev0->en-core-web-lg==3.3.0) (2.0.8)\n",
      "Requirement already satisfied: tqdm<5.0.0,>=4.38.0 in c:\\users\\sirik\\anaconda3\\lib\\site-packages (from spacy<3.4.0,>=3.3.0.dev0->en-core-web-lg==3.3.0) (4.64.0)\n",
      "Requirement already satisfied: pyparsing!=3.0.5,>=2.0.2 in c:\\users\\sirik\\anaconda3\\lib\\site-packages (from packaging>=20.0->spacy<3.4.0,>=3.3.0.dev0->en-core-web-lg==3.3.0) (3.0.4)\n",
      "Requirement already satisfied: smart-open<7.0.0,>=5.2.1 in c:\\users\\sirik\\anaconda3\\lib\\site-packages (from pathy>=0.3.5->spacy<3.4.0,>=3.3.0.dev0->en-core-web-lg==3.3.0) (6.3.0)\n",
      "Requirement already satisfied: typing-extensions>=3.7.4.3 in c:\\users\\sirik\\anaconda3\\lib\\site-packages (from pydantic!=1.8,!=1.8.1,<1.9.0,>=1.7.4->spacy<3.4.0,>=3.3.0.dev0->en-core-web-lg==3.3.0) (4.1.1)\n",
      "Requirement already satisfied: idna<4,>=2.5 in c:\\users\\sirik\\anaconda3\\lib\\site-packages (from requests<3.0.0,>=2.13.0->spacy<3.4.0,>=3.3.0.dev0->en-core-web-lg==3.3.0) (3.3)\n",
      "Requirement already satisfied: urllib3<1.27,>=1.21.1 in c:\\users\\sirik\\anaconda3\\lib\\site-packages (from requests<3.0.0,>=2.13.0->spacy<3.4.0,>=3.3.0.dev0->en-core-web-lg==3.3.0) (1.26.9)\n",
      "Requirement already satisfied: charset-normalizer~=2.0.0 in c:\\users\\sirik\\anaconda3\\lib\\site-packages (from requests<3.0.0,>=2.13.0->spacy<3.4.0,>=3.3.0.dev0->en-core-web-lg==3.3.0) (2.0.4)\n",
      "Requirement already satisfied: certifi>=2017.4.17 in c:\\users\\sirik\\anaconda3\\lib\\site-packages (from requests<3.0.0,>=2.13.0->spacy<3.4.0,>=3.3.0.dev0->en-core-web-lg==3.3.0) (2021.10.8)\n",
      "Requirement already satisfied: colorama in c:\\users\\sirik\\anaconda3\\lib\\site-packages (from tqdm<5.0.0,>=4.38.0->spacy<3.4.0,>=3.3.0.dev0->en-core-web-lg==3.3.0) (0.4.4)\n",
      "Requirement already satisfied: click<9.0.0,>=7.1.1 in c:\\users\\sirik\\anaconda3\\lib\\site-packages (from typer<0.5.0,>=0.3.0->spacy<3.4.0,>=3.3.0.dev0->en-core-web-lg==3.3.0) (8.0.4)\n",
      "Requirement already satisfied: MarkupSafe>=0.23 in c:\\users\\sirik\\anaconda3\\lib\\site-packages (from jinja2->spacy<3.4.0,>=3.3.0.dev0->en-core-web-lg==3.3.0) (2.0.1)\n",
      "[+] Download and installation successful\n",
      "You can now load the package via spacy.load('en_core_web_lg')\n"
     ]
    }
   ],
   "source": [
    "!python -m spacy download en_core_web_lg"
   ]
  },
  {
   "cell_type": "code",
   "execution_count": 14,
   "id": "507d9912",
   "metadata": {},
   "outputs": [
    {
     "name": "stdout",
     "output_type": "stream",
     "text": [
      "Requirement already satisfied: pydantic in c:\\users\\sirik\\anaconda3\\lib\\site-packages (1.8.2)"
     ]
    },
    {
     "name": "stderr",
     "output_type": "stream",
     "text": [
      "ERROR: Could not install packages due to an OSError: [WinError 5] Access is denied: 'C:\\\\Users\\\\sirik\\\\anaconda3\\\\Lib\\\\site-packages\\\\~ydantic\\\\annotated_types.cp39-win_amd64.pyd'\n",
      "Consider using the `--user` option or check the permissions.\n",
      "\n"
     ]
    },
    {
     "name": "stdout",
     "output_type": "stream",
     "text": [
      "\n",
      "Collecting pydantic\n",
      "  Downloading pydantic-1.10.6-cp39-cp39-win_amd64.whl (2.2 MB)\n",
      "Collecting typing-extensions>=4.2.0\n",
      "  Downloading typing_extensions-4.5.0-py3-none-any.whl (27 kB)\n",
      "Installing collected packages: typing-extensions, pydantic\n",
      "  Attempting uninstall: typing-extensions\n",
      "    Found existing installation: typing-extensions 4.1.1\n",
      "    Uninstalling typing-extensions-4.1.1:\n",
      "      Successfully uninstalled typing-extensions-4.1.1\n",
      "  Attempting uninstall: pydantic\n",
      "    Found existing installation: pydantic 1.8.2\n",
      "    Uninstalling pydantic-1.8.2:\n",
      "      Successfully uninstalled pydantic-1.8.2\n"
     ]
    }
   ],
   "source": [
    "!pip install pydantic --upgrade"
   ]
  },
  {
   "cell_type": "code",
   "execution_count": 15,
   "id": "ccd7fdf4",
   "metadata": {},
   "outputs": [
    {
     "name": "stdout",
     "output_type": "stream",
     "text": [
      "Requirement already satisfied: blis in c:\\users\\sirik\\anaconda3\\lib\\site-packages (0.7.7)\n",
      "Requirement already satisfied: numpy>=1.15.0 in c:\\users\\sirik\\anaconda3\\lib\\site-packages (from blis) (1.21.5)\n"
     ]
    }
   ],
   "source": [
    "!pip install blis"
   ]
  },
  {
   "cell_type": "code",
   "execution_count": 16,
   "id": "883ff771",
   "metadata": {},
   "outputs": [
    {
     "name": "stdout",
     "output_type": "stream",
     "text": [
      "Requirement already satisfied: thinc in c:\\users\\sirik\\anaconda3\\lib\\site-packages (8.0.15)\n",
      "Requirement already satisfied: setuptools in c:\\users\\sirik\\anaconda3\\lib\\site-packages (from thinc) (61.2.0)\n",
      "Requirement already satisfied: numpy>=1.15.0 in c:\\users\\sirik\\anaconda3\\lib\\site-packages (from thinc) (1.21.5)\n",
      "Collecting pydantic!=1.8,!=1.8.1,<1.9.0,>=1.7.4\n",
      "  Using cached pydantic-1.8.2-cp39-cp39-win_amd64.whl (1.9 MB)\n",
      "Requirement already satisfied: cymem<2.1.0,>=2.0.2 in c:\\users\\sirik\\anaconda3\\lib\\site-packages (from thinc) (2.0.6)\n",
      "Requirement already satisfied: srsly<3.0.0,>=2.4.0 in c:\\users\\sirik\\anaconda3\\lib\\site-packages (from thinc) (2.4.3)\n",
      "Requirement already satisfied: blis<0.8.0,>=0.4.0 in c:\\users\\sirik\\anaconda3\\lib\\site-packages (from thinc) (0.7.7)\n",
      "Requirement already satisfied: catalogue<2.1.0,>=2.0.4 in c:\\users\\sirik\\anaconda3\\lib\\site-packages (from thinc) (2.0.8)\n",
      "Requirement already satisfied: murmurhash<1.1.0,>=1.0.2 in c:\\users\\sirik\\anaconda3\\lib\\site-packages (from thinc) (1.0.7)\n",
      "Requirement already satisfied: preshed<3.1.0,>=3.0.2 in c:\\users\\sirik\\anaconda3\\lib\\site-packages (from thinc) (3.0.6)\n",
      "Requirement already satisfied: wasabi<1.1.0,>=0.8.1 in c:\\users\\sirik\\anaconda3\\lib\\site-packages (from thinc) (0.10.1)\n",
      "Requirement already satisfied: typing-extensions>=3.7.4.3 in c:\\users\\sirik\\anaconda3\\lib\\site-packages (from pydantic!=1.8,!=1.8.1,<1.9.0,>=1.7.4->thinc) (4.5.0)\n",
      "Installing collected packages: pydantic\n",
      "  Attempting uninstall: pydantic\n",
      "    Found existing installation: pydantic 1.10.6\n",
      "    Uninstalling pydantic-1.10.6:\n",
      "      Successfully uninstalled pydantic-1.10.6\n",
      "Successfully installed pydantic-1.8.2\n"
     ]
    }
   ],
   "source": [
    "!pip install thinc"
   ]
  },
  {
   "cell_type": "code",
   "execution_count": 17,
   "id": "6a590c94",
   "metadata": {},
   "outputs": [],
   "source": [
    "!pip install typing_extensions>=3.7.4"
   ]
  },
  {
   "cell_type": "code",
   "execution_count": 18,
   "id": "dfa66335",
   "metadata": {},
   "outputs": [],
   "source": [
    "import spacy\n",
    "nlp = spacy.load(\"en_core_web_lg\")\n",
    "docs = list(nlp.pipe(data['Comment Body']))"
   ]
  },
  {
   "cell_type": "code",
   "execution_count": 19,
   "id": "39658ad5",
   "metadata": {},
   "outputs": [
    {
     "name": "stdout",
     "output_type": "stream",
     "text": [
      "[('I', 1823), ('it', 955), ('you', 821), ('they', 410), ('that', 337), ('me', 295), ('It', 183), ('them', 165), ('this', 146), ('i', 142), ('what', 133), ('You', 113), ('They', 104), ('That', 101), ('we', 82), ('people', 65), ('the order', 60), ('the customer', 60), ('Uber', 59), ('who', 55), ('all', 52), ('This', 51), ('he', 50), ('the food', 50), ('the app', 48), ('which', 46), ('something', 46), ('someone', 43), ('anything', 38), ('support', 38), ('the tip', 37), ('the restaurant', 33), ('food', 32), ('she', 31), ('orders', 30), ('us', 30), ('UE', 28), ('What', 28), ('drivers', 27), ('a lot', 27), ('an order', 24), ('nothing', 22), ('time', 22), ('the time', 21), ('the driver', 20), ('the end', 18), ('customers', 18), ('money', 17), ('door', 16), ('my car', 15), ('my area', 15), ('tip', 15), ('those', 15), ('yourself', 14), ('some', 14), ('everything', 14), ('a supervisor', 14), ('We', 14), ('him', 14), ('the door', 14), ('the day', 13), ('car', 13), ('shop', 13), ('order', 13), ('a customer', 13), ('an hour', 12), ('u', 12), ('your time', 12), ('work', 12), ('anyone', 12), ('no one', 12), ('the store', 12), ('the same thing', 12), ('Celsius', 12), ('tips', 11), ('the way', 11), ('DD', 11), ('the car', 11), ('supervisor', 11), ('a car', 10), ('a bunch', 10), ('a driver', 10), ('these', 10), ('delivery', 10), ('LA', 10), ('bike', 9), ('Thanks', 9), ('Instacart', 9), ('Lol', 9), ('OP', 9), ('a restaurant', 9), ('sense', 9), ('the system', 9), ('People', 9), ('the person', 9), ('myself', 9), ('lol', 9), ('shit', 9), ('deliveries', 9), ('your food', 9), ('the rain', 9), ('the pay', 8), ('minimum wage', 8), ('the one', 8), ('the amount', 8), ('everyone', 8), ('her', 8), ('’d', 8), ('groceries', 8), ('my order', 8), ('UberEats', 8), ('😂', 8), ('mine', 8), ('the address', 8), ('an accident', 8), ('No one', 8), ('the timer', 8), ('water', 8), ('hours', 7), ('restaurants', 7), ('🤣', 7), ('She', 7), ('exactly what', 7), ('whatever', 7), ('the rest', 7), ('♂', 7), ('the point', 7), ('my money', 7), ('the fact', 7), ('any questions', 7), ('concerns', 7), ('customer', 7), ('no tip', 7), ('your car', 7), ('both', 7), ('the road', 7), ('the phone', 7), ('things', 7), ('a tip', 7), ('instructions', 7), ('energy', 7), ('Toronto', 6), ('day', 6), ('the bag', 6), ('a month', 6), ('-', 6), ('half', 6), ('your area', 6), ('the drivers', 6), ('California', 6), ('home', 6), ('the delivery', 6), ('the customers', 6), ('He', 6), ('the tips', 6), ('times', 6), ('a couple', 6), ('pay', 6), ('the orders', 6), ('100%', 6), ('taxes', 6), ('night', 6), ('a picture', 6), ('fraud', 6), ('Your content', 6), ('very low comment karma', 6), ('spam', 6), ('a bot', 6), ('this action', 6), ('the moderators', 6), ('this subreddit](/message/compose/?to=/r/UberEATS', 6), ('your order', 6), ('20 minutes', 6), ('nobody', 6), ('coffee', 6), ('no idea', 6), ('Some', 6), ('my account', 6), ('their food', 6), ('itself', 6), ('mile', 6), ('the box', 6), ('the same time', 6), ('that shit', 6), ('items', 6), ('Santa Monica', 6), ('dinner', 5), ('a week', 5), ('the city', 5), ('lots', 5), ('the people', 5), ('gas', 5), ('active time', 5), ('directions', 5), ('the camels', 5), ('the option', 5), ('your', 5), ('my market', 5), ('Panera', 5), ('a while', 5), ('no way', 5), ('one', 5), ('a stacked order', 5), ('10 minutes', 5), ('the case', 5), ('a shop', 5), ('text', 5), ('Doordash', 5), ('its', 5), ('my time', 5), ('these orders', 5), ('rides', 5), ('part', 5), ('the number', 5), ('insurance fraud', 5), ('a way', 5), ('All', 5), ('yours', 5), ('NYC', 5), ('the delivery address', 5), ('Support', 5), ('plenty', 5), ('themselves', 5), ('Red Bull', 5), ('Monster', 5), ('Alani', 5), ('Vancouver', 4), ('bikes', 4), ('your ass', 4), ('e', 4), ('a ping', 4), ('your market', 4), ('Uber Eats', 4), ('some people', 4), ('y’', 4), ('apartments', 4), ('the front door', 4), ('the top', 4), ('the question', 4), ('lack', 4), ('months', 4), ('IT', 4), ('this one', 4), ('the others', 4), ('the guy', 4), ('a', 4), ('their door', 4), ('a glitch', 4), ('the money', 4), ('the reason', 4), ('a guy', 4), (\"'s\", 4), ('my experience', 4), ('stuff', 4), ('the trip', 4), ('front', 4), ('your account', 4), ('top', 4), ('em', 4), ('ubereats', 4), ('Nobody', 4), ('doordash', 4), ('Target', 4), ('the', 4), ('an item', 4), ('op', 4), ('the receipt', 4), ('hold', 4), ('an issue', 4), ('this order', 4), ('drinks', 4), ('the bottom', 4), ('sarcasm', 4), ('quests', 4), ('the steering wheel', 4), ('the map', 4), ('offers', 4), ('food delivery', 4), ('a claim', 4), ('mind', 4), ('Which', 4), ('driver', 4), ('location', 4), ('the US', 4), ('no reason', 4), ('my job', 4), ('Reddit', 4), ('the notes', 4), ('this shit', 4), ('some customers', 4), ('calls', 4), ('their job', 4), ('strangers', 4), ('the only way', 4), ('three orders', 4), ('proof', 4), ('Pay', 4), ('my question', 4), ('N-Out', 4), ('DoorDash', 4), ('others', 4), ('a thumbs', 4), ('a text', 4), ('my way', 4), ('fast food', 4), ('their order', 4), ('a code', 4), ('ya', 4), ('the morning', 4), ('Sunday', 4), ('my acceptance rate', 4), ('a big event', 4), ('the wrong turn', 4), ('about 10 minutes', 4), ('the chin', 4), ('a Jewish religious ceremony', 4), ('candles', 4), ('expenses', 4), ('my daughter', 4), ('the trip radar', 4), ('sugar', 4), ('flavors', 4), ('monster', 4), ('lunch', 3), ('no orders', 3), ('some money', 3), ('bikers', 3), ('no issues', 3), ('hour', 3), ('24 hours', 3), ('the trips', 3), ('this guy', 3), ('Most people', 3), ('an area', 3), ('prop', 3), ('the entrance', 3), ('business', 3), ('30 minutes', 3), ('any', 3), ('the same amount', 3), ('midnight', 3), ('many drivers', 3), ('a bike', 3), ('a job', 3), ('What city', 3), ('New Zealand', 3), ('his place', 3), ('the gate', 3), ('ass', 3), ('a gate', 3), ('your delivery', 3), ('the situation', 3), ('a tip bait', 3), ('a fact', 3), ('whatever reason', 3), ('y', 3), ('The app', 3), ('the thing', 3), ('their tip', 3), ('hell', 3), ('years', 3), ('their tips', 3), ('💀', 3), ('which one', 3), ('the first time', 3), ('the right thing', 3), ('a reason', 3), ('today', 3), ('the location', 3), ('HEB', 3), ('the picture', 3), ('a refund', 3), ('Someone', 3), ('the item', 3), ('parking', 3), ('miles', 3), ('the items', 3), ('Amazon', 3), ('the answer', 3), ('you guys', 3), ('a pic', 3), ('fact', 3), ('most people', 3), ('this case', 3), ('a photo', 3), ('another order', 3), ('the destination', 3), ('pings', 3), ('trash', 3), ('another driver', 3), ('my rating', 3), ('all times', 3), ('payout', 3), ('a mile', 3), ('Customer', 3), ('nyc', 3), ('cherry', 3), ('your steering wheel', 3), ('life', 3), ('that order', 3), ('the place', 3), ('another', 3), ('cars', 3), ('a stick', 3), ('thing', 3), ('my phone', 3), ('Trip radar', 3), ('trips', 3), ('A lot', 3), ('the OP', 3), ('Those', 3), ('4 hours', 3), ('every order', 3), ('the world', 3), ('dollars', 3), ('thanks', 3), ('the job', 3), ('course', 3), ('the only thing', 3), ('a case', 3), ('that money', 3), ('homeless people', 3), ('a few minutes', 3), ('your way', 3), ('DFW', 3), ('fries', 3), ('fees', 3), ('Seattle', 3), ('places', 3), ('a good day', 3), ('an apartment', 3), ('the right', 3), ('2 minutes', 3), ('the fare', 3), ('an address', 3), ('folks', 3), ('a scam', 3), ('7 minutes', 3), ('his', 3), ('an app', 3), ('These', 3), ('accident', 3), ('the idea', 3), ('a row', 3), ('Cane', 3), ('Shop', 3), ('Prop', 3), ('more orders', 3), ('Lots', 3), ('some reason', 3), ('ppl', 3), ('a hotel', 3), ('just me', 3), ('an emergency', 3), ('a safe place', 3), ('5 minutes', 3), ('covid', 3), ('the street', 3), ('the window', 3), ('your door', 3), ('a favor', 3), ('The driver', 3), ('person', 3), ('The button', 3), ('Drivers Car', 3), ('case', 3), ('Uber support', 3), ('their car', 3), ('confusion', 3), ('communication', 3), ('the problem', 3), ('mopeds', 3), ('the weekends', 3), ('Cali', 3), ('other people', 3), ('weather', 3), ('the face', 3), ('Walmart', 3), ('2 hours', 3), ('the heat map', 3), ('Who', 3), ('a luxury', 3), ('a bag', 3), ('us drivers', 3), ('the first agent', 3), ('an eye', 3), ('pepper spray', 3), ('Reign', 3), ('Bang', 3), ('energy drinks', 3), ('an energy drink', 3), ('Bike mode', 2), ('bike mode', 2), ('Chicago', 2), ('Canada', 2), ('shit orders', 2), ('the USA', 2), ('your location', 2), ('traffic', 2), ('Best way', 2), ('the weather', 2), ('1 trip', 2), ('a new account', 2), ('dinner time', 2), ('the reality', 2), ('the month', 2), ('insurance', 2), ('eats', 2), ('Uber eats', 2), ('an offer', 2), ('any time', 2), ('my day', 2), ('IC', 2), ('timer', 2), ('a batch', 2), ('the clock', 2), ('counts', 2), ('my house', 2), ('this community', 2), ('a hill', 2), ('What a joke', 2), ('their instructions', 2), ('a maze', 2), ('that screen', 2), ('their end', 2), ('my insurance', 2), ('the one hour mark', 2), ('Something', 2), ('any orders', 2), ('new people', 2), ('taxis', 2), ('your week', 2), ('a tipping culture', 2), ('promotions', 2), ('a location', 2), ('12 miles', 2), ('the issues', 2), ('a base', 2), ('none', 2), ('GH', 2), ('a system', 2), ('place', 2), ('a tip glitch', 2), ('my tips', 2), ('this customer', 2), ('baits', 2), ('a meet', 2), ('this instance', 2), ('Indian names', 2), ('way', 2), ('this point', 2), ('the entire thing', 2), ('Mine', 2), ('a fee', 2), ('the future', 2), ('Boost', 2), ('the boost', 2), ('clout', 2), ('ourselves', 2), ('2 miles', 2), ('Lmao', 2), ('15 min', 2), ('the chipotle', 2), ('the hard way', 2), ('slave labor', 2), ('️', 2), ('the majority', 2), ('a stack order', 2), ('the wrong order', 2), ('a decent amount', 2), ('the offer', 2), ('big orders', 2), ('slaves', 2), ('a slave', 2), ('slavery', 2), ('past', 2), ('(license', 2), ('(permit', 2), ('a guess', 2), ('taco bell', 2), ('$400 worth', 2), ('this story', 2), ('Whatever', 2), ('total', 2), ('Anyone', 2), ('my life', 2), ('a trip', 2), ('the groceries', 2), ('a few hours', 2), ('your house', 2), ('idk', 2), ('shopping', 2), ('that price', 2), ('Shipt', 2), ('heb', 2), ('dog crate furniture piece', 2), ('those lines', 2), ('a playpen', 2), ('The only thing', 2), ('locations', 2), ('the compensation', 2), ('a story', 2), ('stores', 2), ('their money', 2), ('your job', 2), ('a half hour', 2), ('free time', 2), ('stock', 2), ('low pay', 2), ('app', 2), ('their system', 2), ('no human input', 2), ('cases', 2), ('so much money', 2), ('tipping', 2), ('companies', 2), ('service', 2), ('example', 2), ('gps', 2), ('the gps', 2), ('multi apping', 2), ('about 20 minutes', 2), ('the inconvenience', 2), ('Lesson', 2), ('the fuck', 2), ('my uber app', 2), ('these customers', 2), ('The only reason', 2), ('a order', 2), ('2 things', 2), ('the drinks', 2), ('burger king', 2), ('2 catering bags', 2), ('a knife', 2), ('my head', 2), ('this situation', 2), ('Mines', 2), ('Ubers', 2), ('Colorado', 2), ('This post', 2), ('an option', 2), ('any pings', 2), ('xy', 2), ('majority', 2), ('my fare', 2), ('the comments', 2), ('a steering wheel', 2), ('a quick release', 2), ('America', 2), ('👍', 2), ('a unicorn', 2), ('the extra tip', 2), ('this post', 2), ('First thing', 2), ('no sterrkng wheel', 2), ('that big tip', 2), ('THAT', 2), ('😅', 2), ('12 boxes', 2), ('the ones', 2), ('a stick shift', 2), ('theft', 2), ('brains', 2), ('long legs', 2), ('a cop', 2), ('my fault', 2), ('the route', 2), ('stacked orders', 2), ('google maps', 2), ('distance', 2), ('the sound', 2), ('your phone', 2), ('the difference', 2), ('month', 2), ('your insurance company', 2), ('liability insurance', 2), ('part time', 2), ('requests', 2), ('my city', 2), ('state', 2), ('any coverage', 2), ('a delivery bag', 2), ('your insurance', 2), ('uber', 2), ('Wtf', 2), ('my own food', 2), ('a flat tire', 2), ('somethin', 2), ('Wingstop', 2), ('the employee', 2), ('😭', 2), ('1 order', 2), ('CA', 2), ('that tip', 2), ('a profit', 2), ('many people', 2), ('those fees', 2), ('no sense', 2), ('the delivery fee', 2), ('a cut', 2), ('tip bait', 2), ('a chance', 2), ('a hidden tip', 2), ('the food price', 2), ('extra tips', 2), ('common sense', 2), ('the market', 2), ('the account', 2), ('about 80%', 2), ('the last turn', 2), (\"the customer's street\", 2), ('70%', 2), ('a highway', 2), ('ramp', 2), ('the code', 2), ('their app', 2), ('\\n\\nGood luck', 2), ('your trips', 2), ('duty', 2), ('fault', 2), ('your tip', 2), ('3.9 miles', 2), ('the miles', 2), ('cash app', 2), (' order', 2), ('NJ', 2), ('the gym', 2), ('trip', 2), ('each', 2), ('apartment orders', 2), ('notes', 2), ('a wait', 2), ('car order', 2), ('the lobby', 2), ('street', 2), ('Tip', 2), ('god', 2), ('the fountain', 2), ('the northwest side', 2), ('well shit', 2), ('my compass', 2), ('trees', 2), ('One guy', 2), ('the left', 2), ('the roads', 2), ('your right', 2), ('a compass', 2), ('one asshole', 2), ('a house', 2), ('my opinion', 2), ('an apt building', 2), ('the para app', 2), ('Para', 2), ('para', 2), ('the good ones', 2), ('a new job', 2), ('a decent tip', 2), ('Priority', 2), ('single orders', 2), ('priority deliveries', 2), ('base pay', 2), ('yesterday', 2), ('the nerve', 2), ('reddit', 2), ('\\n\\n🍻', 2), ('help', 2), ('the second drop', 2), ('the right spot', 2), ('the information', 2), ('some orders', 2), ('specific directions', 2), ('10+ minutes', 2), ('a pain', 2), ('stairs', 2), ('Nothing', 2), ('the restaurants', 2), ('those customers', 2), ('my hand', 2), ('YOU', 2), ('dog shit', 2), ('Congratulations', 2), ('bullshit', 2), ('the requirements', 2), ('a screenshot', 2), ('messages', 2), ('this lol', 2), ('those orders', 2), ('your tax info', 2), ('any sense', 2), ('tip baiting', 2), ('posts', 2), ('a chargeback', 2), ('a problem', 2), ('the service', 2), ('8 trips', 2), ('99%', 2), ('a complete waste', 2), ('an email', 2), ('the line', 2), ('transfer', 2), ('my point', 2), ('your question', 2), ('that decision', 2), ('A customer', 2), ('multiple orders', 2), ('The order', 2), ('my tip', 2), ('my gf', 2), ('my food', 2), ('the app lol', 2), ('that 8 minutes', 2), ('8 minutes', 2), ('Driver', 2), ('What kind', 2), ('the house', 2), ('a hold', 2), ('these apps', 2), ('concierge', 2), ('The restaurant', 2), ('Same thing', 2), ('a friend', 2), ('Outback', 2), ('full payment', 2), ('a free medium-rare 18oz ribeye', 2), ('the photo', 2), ('address', 2), ('the hood', 2), ('Vegas', 2), ('salsa', 2), ('tacos', 2), ('someone’s food', 2), ('\"Meet Outside', 2), ('Car', 2), ('a) Uber', 2), ('their office building', 2), ('delivery drivers', 2), ('apartment building', 2), ('a key', 2), ('the mall', 2), ('\"The Sunglass Spot', 2), ('clarification', 2), ('the delivery instructions', 2), ('Uber Support', 2), ('a full refund', 2), ('most drivers', 2), ('These people', 2), ('this kind', 2), ('the alcohol', 2), ('the need', 2), ('no room', 2), ('interpretation', 2), ('the courier', 2), ('🤔', 2), ('the drop', 2), ('Friday', 2), ('Today', 2), ('Texas', 2), ('coolant', 2), ('the kid', 2), ('Saturday', 2), ('a day', 2), ('good money', 2), ('CT', 2), ('MA', 2), ('Boston', 2), ('my wallet', 2), ('the public', 2), ('the worst customer service', 2), ('the hell', 2), ('problems', 2), ('cheap orders', 2), ('Its nothing', 2), ('tiny-brained selfish fucks', 2), ('dangerous conditions', 2), ('a pittance', 2), ('Los Angeles', 2), ('that reason', 2), ('Happy rain', 2), ('Yikes', 2), ('the same way', 2), ('the area', 2), ('this gig', 2), ('Shit', 2), ('the relay guys', 2), ('north', 2), ('a full time', 2), ('that sauce', 2), ('the shit', 2), ('my zone', 2), ('$2 mile', 2), ('pickup', 2), ('Uber Connect', 2), ('packages', 2), ('new drivers', 2), ('percents', 2), ('Drivers', 2), ('20%', 2), ('a sandwich', 2), ('a great deal', 2), ('several hours', 2), ('a 100% premium', 2), ('your money', 2), ('a $5 sandwich', 2), ('Chick-fil', 2), ('the IRS', 2), ('their orders', 2), ('the supply', 2), (\"a driver's license\", 2), ('some point', 2), ('3 miles', 2), ('a penny', 2), ('The question', 2), ('the business', 2), ('Low skill jobs', 2), ('his order', 2), ('the hotel name', 2), ('the parking lot', 2), ('another delivery', 2), ('Walmart orders', 2), ('this issue', 2), ('a pop', 2), ('3 hours', 2), ('the same restaurant', 2), ('two orders', 2), ('a second pickup', 2), ('chat', 2), ('supervisors', 2), ('the right one', 2), ('B.S', 2), ('the court', 2), ('the first driver', 2), ('a manager', 2), ('a choice', 2), ('coyotes', 2), ('danger', 2), ('my bag', 2), ('many others', 2), ('a gun', 2), ('a man', 2), ('2 years', 2), ('bad areas', 2), ('a dangerous gig', 2), ('any reason', 2), ('that area', 2), ('13 miles', 2), ('Kroger', 2), ('200mg caffeine', 2), ('No sugar', 2), ('Yerba Mate', 2), ('different flavors', 2), ('the rock', 2), ('Ghost', 2), ('Coffee', 2), ('🤷🏻\\u200d', 2), ('Prime', 2), ('caffeine', 2), ('Rockstar', 2), ('redbull', 2), ('starchy', 2), ('C4', 2), ('the size', 2), ('a reusable bottle', 2), ('Sprouts', 2), ('a try', 2), ('her lunch', 2), ('Shame', 2), ('the catch', 2), ('a hot bag', 2), ('The common response', 1), ('Three dollars', 1), ('week', 1), ('5-10 maple syrup monopoly dollars', 1), ('This job', 1), ('-10 hours', 1), ('busy areas', 1), ('one ping', 1), ('a 6hr period', 1), ('a really nice way', 1), ('ebike option', 1), ('my surron', 1), ('crappy Mcdonalds orders', 1), ('the bike lol', 1), ('bike / ebike', 1), ('road', 1), ('my ebike', 1), ('the trouble', 1), ('the bigger trouble', 1), ('a rented bike', 1), ('Any place', 1), ('a larger city', 1), ('offices', 1), ('less expenses', 1), ('toronto', 1), ('8 AM', 1), ('downtown Toronto', 1), ('Monopoly dollars', 1), ('Chiraq', 1), ('any market', 1), ('your home market', 1), ('their asses', 1), ('more slice', 1), ('the cake', 1), ('your other days', 1), ('bike or normal bike', 1), ('less than $10/hr', 1), ('some promotions', 1), ('\\n\\nWorst time', 1), ('the Chiraq parts', 1), ('flipping burgers', 1), ('a Uber biker', 1), ('expensive bike repairs', 1), ('the forecast map', 1), ('a market', 1), ('a good town', 1), ('a bit', 1), ('11 am', 1), ('2 pm', 1), ('hrs', 1), ('an hr', 1), ('how many trips', 1), ('Danforth / Spadina', 1), ('now Christie', 1), ('no freaking pings', 1), ('the other days earnings', 1), ('150 everyday', 1), ('What time', 1), ('12 hrs', 1), ('1 whole hour', 1), ('a step', 1), ('a deep breath', 1), ('a quest', 1), ('4-10-16 dollar', 1), ('4 delivery', 1), ('the help', 1), ('the quest', 1), ('all pings', 1), ('5cad', 1), ('12-6pm', 1), ('the students', 1), ('Ahh figures', 1), ('quest', 1), ('working bike', 1), ('about $6-12 an hr', 1), ('op question', 1), ('30 bux', 1), ('2 hrs', 1), ('another 2 hrs', 1), ('$5 dollars', 1), ('\\n\\nhttps://preview.redd.it/46oeiw9vy6pa1.png?width=720&format=png&auto=webp&v=enabled&s=f46d99f23c7fc179ed67fcafca7af2c857a76067', 1), ('an enterprise rental', 1), ('that rental', 1), ('a minimum age', 1), ('the fine print', 1), ('a rental', 1), ('profit', 1), ('enough orders', 1), ('my best day', 1), ('the reviews', 1), ('50+ hour weeks', 1), ('their slave', 1), ('online time', 1), ('the active time', 1), (\"my previous job's day length\", 1), ('commute time', 1), ('a baseline', 1), ('a shorter time frame', 1), ('your online time', 1), ('a w2 job', 1), ('multi-app w/UE', 1), ('the moment', 1), ('an active IC order', 1), ('an accurate measure', 1), ('my pay/hour', 1), ('a W-2', 1), ('an apples', 1), ('apples comparison', 1), ('a good data', 1), ('a starting location', 1), ('\"active\" hours', 1), ('a restaurant hub', 1), ('Maybe multiple active times', 1), ('Your battery level', 1), ('this AVA community', 1), ('the camel', 1), ('entitled customers', 1), ('that note', 1), ('all luxury communities', 1), ('those reading', 1), ('his instruction', 1), ('his front door', 1), ('A-Z buildings', 1), ('buildings', 1), ('a journal entry', 1), ('Apartment dwellers', 1), ('your kidney', 1), ('this reason', 1), ('every Halloween hay maze location', 1), ('you prob', 1), ('Mission', 1), ('an epic journey', 1), ('a lost arc', 1), ('a map', 1), ('a sword', 1), ('shield', 1), ('a captive princess', 1), ('the castle', 1), ('canada', 1), ('your required insurance', 1), ('this map', 1), ('not one trip', 1), ('surge areas', 1), ('a policy', 1), ('enough money', 1), ('The estimate', 1), ('this trip', 1), ('_', 1), ('an extra hour', 1), ('glitch', 1), ('The only time', 1), ('a different app', 1), ('(ie Drizzly', 1), ('an operational business', 1), ('å construction crew', 1), ('Pomona', 1), ('Ca', 1), ('11:38pm', 1), ('11pm', 1), ('\\n\\nhttps://preview.redd.it/buxwyt7ssvoa1.jpeg?width=828&format=pjpg&auto=webp&v=enabled&s=7d6c7046e1ce61f3dc29d2e0bfea7feebd7fda74', 1), ('the time change', 1), ('a firehouse', 1), ('just people’s houses', 1), ('the restaurant notes', 1), ('the 3rd time', 1), ('that McDonald', 1), ('ones', 1), ('a McDonald', 1), ('Boston Market', 1), ('what McDonald', 1), ('bike deliveries', 1), ('Market', 1), ('people walkers bikers scooters', 1), ('endless posts', 1), ('certain markets', 1), ('the biking', 1), ('takeaway', 1), ('(thuisbezorgd', 1), ('its just a chill easy job', 1), ('stress', 1), ('contract', 1), ('the communication', 1), ('hope', 1), ('the best 👌', 1), ('Best thing', 1), ('the same orders', 1), ('your bike', 1), ('the bike', 1), ('less orders', 1), ('not a good use', 1), ('no car', 1), ('\\n\\nDoes app', 1), ('focus', 1), ('Good job', 1), ('our earnings', 1), ('more people', 1), ('a really good market', 1), ('a strategy', 1), ('🤝', 1), ('Cleveland', 1), ('Ohio', 1), ('more post', 1), ('bad earnings', 1), ('good earnings', 1), ('any strategy', 1), ('another area', 1), ('the “6 trips', 1), ('“2 trips', 1), ('5 hours', 1), ('One $4 tip lol', 1), ('a country', 1), ('the hard work bro', 1), ('good luck', 1), ('🏾\\U0001fae1', 1), ('Thai food', 1), ('just the rice', 1), ('online orders', 1), ('the interface', 1), ('attention', 1), ('3 other ones', 1), ('one last night', 1), ('the Taco Bell', 1), (' Order', 1), ('decent money', 1), ('this dumb shit', 1), ('one question', 1), ('this whole situation', 1), ('a phone number', 1), ('None', 1), ('all costs', 1), ('One base', 1), ('a parking lot', 1), ('the guard station', 1), ('gate', 1), ('Third', 1), ('a huge base', 1), ('a gate meet', 1), ('a book', 1), ('your nappy pillow', 1), ('every one', 1), ('the apps', 1), ('the bases', 1), ('UE’s algorithm', 1), ('that base', 1), ('a no go', 1), ('base orders', 1), ('a couple months', 1), ('civilians', 1), ('your info', 1), ('each customer', 1), ('various reasons', 1), ('that information', 1), ('12 hours', 1), ('a $10 fee', 1), ('the customer names', 1), ('your shift', 1), ('a name', 1), ('this particular customer', 1), ('the last month', 1), ('5 times', 1), ('1 tip', 1), ('the last year', 1), ('door order', 1), ('a shitty neighborhood', 1), ('required PIN verification', 1), ('possibly / supposely legitimate reasons', 1), ('its multiple times', 1), ('$20 and $25 reimbursements', 1), ('Website', 1), ('the two buttons', 1), ('an online trip', 1), ('the best option', 1), ('our chat support', 1), ('My only option', 1), ('the chat', 1), ('the robots', 1), ('the tip glitch', 1), ('a $14 delivery', 1), ('future reference', 1), ('the insane amount', 1), ('no tip/low paying orders', 1), ('the last one or two orders', 1), ('a true tip bait', 1), ('every single time', 1), ('The tip glitch', 1), ('Uber’s system', 1), ('the entire tip', 1), ('no point', 1), ('as much feedback', 1), ('this glitch/bait BS', 1), ('the hour mark', 1), ('the info', 1), ('This tip glitch', 1), ('a hard time', 1), ('b/c', 1), ('the four years', 1), ('some lie', 1), ('a feature', 1), ('missing tips', 1), ('the trip supplement portion', 1), ('the “boost', 1), ('Bait', 1), ('a boost', 1), ('such an asshole', 1), ('kudos', 1), ('my customers', 1), ('these boosts', 1), ('all week', 1), ('The map', 1), ('no boost', 1), ('4x boost', 1), ('a lot more money', 1), ('a lot more orders', 1), ('a bad thing', 1), ('low tipping customers', 1), ('better faster service', 1), ('more clout tippers', 1), ('about 3 clout tippers', 1), ('your lil trash ass 3 and 4 dollar orders', 1), ('our name', 1), ('ya mf mouth', 1), ('26% max tip', 1), ('Huhh', 1), ('The drivers', 1), ('good customers', 1), ('\"good customers', 1), (' No special cookie', 1), ('a considerate person', 1), ('hot food', 1), ('a whole song', 1), ('clout tippers', 1), ('Clout', 1), ('🤣😂🤣', 1), ('Gold 🤣', 1), ('his first time', 1), ('$150 ish', 1), ('a percentage', 1), ('’s', 1), ('our heads', 1), ('some bomb ass orders', 1), ('a small one', 1), ('all the sudden my thumb juta insta', 1), ('the decline button', 1), ('Oops maybe netxtime', 1), ('Most customers', 1), ('the tipbaiting', 1), ('animosity', 1), (' People', 1), ('dumbass complaints', 1), ('the impression', 1), ('a dick', 1), ('some bars', 1), ('the chat king', 1), ('a 3 dollar order', 1), ('a $20 order', 1), ('7 miles two deliveries', 1), ('\\n\\n1.  Chipotle', 1), ('Local Seafood Place', 1), ('Big Order', 1), ('the executive decision', 1), ('the seafood place', 1), ('the seafood order', 1), ('15 Min', 1), ('a $7 incoming Tip', 1), ('The bitch', 1), ('\"Lavish', 1), ('crab legs', 1), ('all stacked orders', 1), ('Bro', 1), ('total amount', 1), ('the tip amount', 1), ('a noble peace prize', 1), ('2 other people', 1), ('the single item', 1), ('3 deliveries', 1), ('the 3rd', 1), ('just 1 small item', 1), ('the bundle info', 1), ('a bundled ping', 1), ('the breakdown', 1), ('1 or more parts', 1), ('a chic fil', 1), ('a lobby', 1), ('Shaniqua order', 1), ('her big burley hands', 1), ('raspy voice', 1), ('the ghetto', 1), ('big upfront payouts', 1), ('the two customers', 1), ('Its', 1), ('a second order', 1), ('the right order', 1), ('the mines', 1), ('your will', 1), ('a “slave', 1), ('the suffering', 1), ('the historical context', 1), ('extra work', 1), ('peanuts', 1), ('Almost everyone', 1), ('this country', 1), ('a jail', 1), ('property taxes', 1), ('your home', 1), ('All your seeing', 1), ('the slavemasters', 1), ('whips', 1), ('chains', 1), ('voluntary slavery', 1), ('Harriet Tubman', 1), (\"Today's slavemasters\", 1), ('your eyes', 1), ('the past', 1), ('the slavery', 1), ('permission', 1), ('registration', 1), ('hair', 1), ('a toilet', 1), ('a rally', 1), ('a garden', 1), ('(zoning laws', 1), ('the horror', 1), ('our past slaves', 1), ('your own eyes', 1), ('the u.s', 1), ('.', 1), ('each person', 1), ('worth', 1), ('the high tipper', 1), ('one burrito', 1), ('your areas', 1), ('every street', 1), ('an ice cream', 1), ('frostie', 1), ('tf people', 1), ('the other 2 deliveries', 1), ('The ones', 1), ('hot spots', 1), ('your own submersible', 1), ('those underwater communities', 1), ('high delivery requests', 1), ('a Walmart', 1), ('crap fares', 1), ('Poor thing', 1), ('an egg cell', 1), ('some long lost treasure', 1), ('the Uber driver app', 1), ('sad lol', 1), ('Wtf 😂', 1), ('The store', 1), ('her money', 1), ('Some customers', 1), ('the biggest shop', 1), ('a huge time', 1), ('Unrelated question', 1), ('the crate', 1), ('\\U0001f979', 1), ('that table', 1), ('$150 tops', 1), ('more stuff', 1), ('a Really cool dog crate', 1), ('the entire story', 1), ('Not a chance', 1), ('the “Uber', 1), ('canceled grocery orders', 1), (' Uber', 1), ('these brands', 1), ('😆', 1), (\"Whole Foods .... g'head\", 1), ('gluten-free, healthy, expensive-ass rich people food', 1), (\"the 'ole one-finger salute\", 1), ('🖕🤣', 1), ('based god', 1), ('Free groceries', 1), ('Swagg', 1), ('so much stuff', 1), ('insta cart', 1), ('The Mother lode', 1), ('What store', 1), ('walgreens', 1), ('a beer run', 1), ('the client', 1), ('a large order', 1), ('her mind', 1), ('Those Meyer products', 1), ('yiu', 1), ('My wife', 1), ('this grocery', 1), ('free lol', 1), ('the Chia Seeds', 1), ('Hemp Hearts', 1), ('other keto friendly items', 1), ('chia seeds', 1), ('smoothies', 1), ('price', 1), ('organic / health conscious foods', 1), ('a rip', 1), ('the prices', 1), ('these \"organic\" products', 1), ('two pick ups', 1), ('whom', 1), ('other places', 1), ('a second pickup lmao', 1), ('the dumbest shit', 1), ('voice logs', 1), ('this shitshow', 1), ('prepared foods', 1), ('a deactivation', 1), ('waste', 1), ('workers time', 1), ('merchant resources', 1), ('Dooope', 1), ('their own grocery shopping', 1), ('Woo', 1), ('great free food', 1), ('funny lol', 1), ('any deli meats', 1), (' Sad state', 1), ('affairs', 1), ('but man', 1), ('the stuff', 1), ('every unavailable item', 1), ('what substitution', 1), ('Tom thumb', 1), ('Albertsons', 1), ('good orders', 1), ('their apps', 1), ('what isle', 1), ('the middle', 1), ('more money', 1), ('a bigger order', 1), ('small orders', 1), ('businesses/houses', 1), ('my W2 job', 1), ('my per-item time', 1), ('a minute', 1), ('your brain', 1), ('a half', 1), ('45 item shop', 1), ('10 miles', 1), ('AF', 1), ('the store layout', 1), ('less than an hour shop', 1), ('maybe less than 45 minutes', 1), ('specific items', 1), ('pads', 1), ('Midol', 1), ('just fruits', 1), ('veggies', 1), ('a BIG tip', 1), ('if I', 1), ('don´t', 1), ('a good reason', 1), ('huge orders', 1), ('the $15 orders', 1), ('Walgreens', 1), ('toothpaste', 1), ('at least some', 1), ('a $400 L', 1), ('broccoli bag', 1), ('a dog crate', 1), ('a side table', 1), ('🏼\\u200d♀️', 1), ('$200 worth', 1), ('this lady', 1), ('an Uber', 1), ('West Austin', 1), ('return trips', 1), ('the stores', 1), ('my autocorrect', 1), ('the same 🤣🤣', 1), ('the free groceries', 1), ('check', 1), ('the few canceled orders', 1), ('the years', 1), ('the contents', 1), ('all those orders', 1), (\"' Doritos' lmao\", 1), ('prices', 1), ('the peppers', 1), ('pickles', 1), ('maybe the coconut nut whip', 1), ('vegan stuff', 1), ('the aisles', 1), ('certain stuff', 1), ('a store', 1), ('a big shopping list', 1), ('brand new stores', 1), ('50-100$ worth', 1), ('10 mins', 1), ('better tips', 1), ('a sack', 1), ('some lazy fucks shopping', 1), ('the patience', 1), ('the substitutions', 1), ('replacements', 1), ('Favor', 1), ('Dallas-Fort Worth area', 1), ('their own groceries', 1), ('any other reason', 1), ('Tysm ❤️', 1), ('100% bs', 1), ('the original total pay', 1), ('uber markup', 1), ('so much laziness', 1), ('a big time saver', 1), ('a shopper', 1), ('$200-300 worth', 1), ('An industrious and intelligent use', 1), ('$40/hr', 1), ('a benefit', 1), ('wealth', 1), ('more free time', 1), ('their jobs', 1), ('chores', 1), ('these supposedly lazy people', 1), ('cleaning fryers', 1), ('angry retail customers', 1), ('Covid', 1), ('my knee', 1), ('walk', 1), (' DD', 1), ('that game', 1), ('a huge wait list', 1), ('Instacart orders', 1), ('high item', 1), ('high mileage', 1), ('an instacart order', 1), ('The prices', 1), ('grocery delivery', 1), ('a few stores', 1), ('their costs', 1), ('approx 1min/item', 1), ('the store/item', 1), ('30-45sec', 1), ('$100 worth', 1), ('$10 items', 1), ('exactly the 10min', 1), ('only about 6 stores', 1), ('Spark', 1), ('about the same rate', 1), ('Most likely Instacart', 1), ('Ubereats', 1), ('Texas based companies', 1), ('the only exception', 1), ('store price', 1), ('Uber price', 1), ('Jesus people', 1), ('most employees', 1), ('the other side', 1), ('my duty', 1), ('responsibility', 1), ('the standards', 1), ('the reputation', 1), ('a driver issue', 1), ('a large chain restaurant', 1), ('their POS systems', 1), ('UE/DD/ETC', 1), ('your name', 1), ('the only human', 1), ('this entire process', 1), ('the UE system', 1), ('an integration issue', 1), ('that specific item', 1), ('a smaller restaurant(perhaps', 1), ('a table', 1), ('complaints', 1), ('info', 1), ('the counter', 1), ('the territory', 1), ('my receipt', 1), ('the screenshot', 1), ('this insight', 1), ('The expectations', 1), ('salaries', 1), ('hand', 1), ('drive', 1), ('the delivery destination feature', 1), ('a destination', 1), ('your address', 1), ('that destination', 1), ('the set destination', 1), ('the opposite direction', 1), ('that feature', 1), ('my dashes', 1), ('a UE order', 1), ('another app', 1), ('his house', 1), ('his car record', 1), ('your arms', 1), ('slow motion', 1), ('a similar experience', 1), ('Fat Joe', 1), ('our short interaction', 1), ('🤣🤣🤣🤣🤣🤣🤣', 1), ('Oh Kimberly', 1), ('The Uber app', 1), ('the wrong address', 1), ('other navigation', 1), ('future orders', 1), ('a DD batch', 1), ('the non tipper order', 1), ('The App based delivery', 1), ('a bridge', 1), ('Interstate', 1), ('3 weeks', 1), ('not our problem', 1), ('Spoiler alert - no supervisor', 1), ('three more times', 1), ('their customers', 1), ('equal measures', 1), ('only a cherry picker', 1), ('Better luck', 1), ('mileage estimate', 1), ('a couple rough rural trips', 1), ('Caitlin', 1), ('Kimbo-slice', 1), ('waze', 1), ('much help', 1), ('navigation system', 1), ('its crap', 1), ('Hustling', 1), ('a pretty study setup', 1), ('so much anxiety', 1), ('tanker trucks', 1), ('an anxiety', 1), ('Master delivery', 1), (' Respect', 1), ('a good idea', 1), ('14 watered-ass-down drinks', 1), ('a few bottles', 1), ('soda', 1), ('a normal person', 1), ('a Wendy’s order', 1), ('7 drinks', 1), ('the 8th floor', 1), ('a gated community', 1), ('secured building doors', 1), ('One road bump', 1), ('a pool party', 1), ('Drinks', 1), ('Kudos', 1), ('the set', 1), ('a drink box', 1), ('the hit', 1), ('a perfect example', 1), ('that rare huge drink order', 1), ('a nice tip', 1), ('the diet soda', 1), ('my grandmother', 1), ('the family reunion', 1), ('this 🤣', 1), ('32 drinks', 1), ('an EBike', 1), ('no spillage', 1), ('2L bottles', 1), ('ffs', 1), ('5 drinks', 1), ('slow drivers', 1), ('straws', 1), ('edge', 1), ('a very short trip', 1), ('At least one driver', 1), ('a short drive', 1), ('edge lol', 1), ('4 drinks', 1), ('bullets', 1), ('credit', 1), ('at least 2 standard size', 1), ('GrubHub bags', 1), ('a gun fight', 1), ('not my problem', 1), ('a mile drive', 1), ('The drinks', 1), ('a box', 1), ('the catering bag', 1), ('17 fiddy', 1), ('✊', 1), ('a longer drive or difficult drop', 1), ('a mile straight shot', 1), ('a good job', 1), ('Tis', 1), ('Saves', 1), ('floormat cleanup', 1), ('especially if its milkshakes', 1), ('2 trips', 1), ('Drink holder', 1), ('a potential 4th floor apartment', 1), ('Montreal', 1), ('no change', 1), ('a couple days', 1), ('the GA area', 1), ('this feature', 1), ('sarcasm guys', 1), ('a substitution', 1), ('the sarcasm', 1), ('downvotes', 1), ('A substitution', 1), ('the age', 1), ('a joke', 1), ('percentage', 1), ('the substitution', 1), (' Ppl', 1), ('.64 cents', 1), ('priority', 1), ('last summer', 1), ('The option', 1), ('your app', 1), ('xy restaurant', 1), ('https://www.reddit.com/r/UberEATS/comments/11w9fxz/to_all_drivers_help_needed/jcznfbh/?utm_source=share&utm_medium=ios_app&utm_name=iossmf&context=3', 1), ('instance', 1), ('other friends', 1), ('one dude', 1), ('10 pings', 1), ('less than 10 mins', 1), ('same dude', 1), ('a coincidence', 1), ('1pm', 1), ('whatever country', 1), ('a call center', 1), ('India', 1), ('the chat option', 1), ('8pm', 1), ('the earnings team', 1), ('https://preview.redd.it/ea0mkshboyoa1.jpeg?width=1080&format=pjpg&auto=webp&v=enabled&s=9f86561f595166fb03381a9907606ef02912050e', 1), ('$50 tip', 1), ('Dunkin', 1), ('park', 1), ('a drag', 1), ('Congrats', 1), ('the munchkin boxes', 1), ('their large plastic bags', 1), ('at least 4-6 boxes', 1), ('each bag', 1), ('Real question', 1), ('money honey', 1), ('Those desk jockeys', 1), ('their crack', 1), ('a cup lol', 1), ('That person', 1), ('their life', 1), ('the toilet lol', 1), ('Dannnng', 1), ('Hey ricer elantra', 1), ('cai', 1), ('my 20 year old car', 1), (\"those' drivers\", 1), ('too 🙂', 1), ('Patience', 1), ('Nice grab', 1), ('a wheel', 1), ('Momo', 1), ('that name', 1), ('props', 1), ('an old ass Hyundai Elantra', 1), ('Damn bro', 1), ('the Duncan order', 1), ('good tips', 1), ('\\n\\n*sizzle', 1), ('the long wait', 1), ('a manual elantra', 1), ('a momo quick release', 1), ('the build', 1), ('their age', 1), ('How many miles', 1), ('the initial pay', 1), ('Quick release steering wheel', 1), ('coolness', 1), ('the Steering wheel', 1), ('hey manual transmission', 1), ('an easy steal', 1), ('no steering wheel', 1), ('\\n\\nTough market', 1), ('your trunk', 1), ('that junk', 1), ('ya douche', 1), ('a lot more than 12 boxes', 1), ('boxes', 1), ('not cups', 1), ('a bigger boxes', 1), ('How does this work', 1), ('many trips', 1), ('that delivery', 1), ('any asses', 1), ('Good shit man', 1), ('Cheers', 1), ('Just the tip', 1), ('Nice one dawg 😎', 1), ('😎', 1), ('his car', 1), ('You guys', 1), ('steering wheels', 1), ('a quick release steering wheel', 1), ('My car', 1), ('some mods', 1), ('a turbo', 1), ('that thing', 1), ('the red buttons', 1), ('quick release', 1), ('the Green button', 1), ('Start engine', 1), ('a cart', 1), ('the office', 1), ('Bluetooth', 1), ('A.I.', 1), ('an', 1), ('the road driver', 1), ('trucks', 1), ('Coffee tweakers', 1), ('our VQ brothers', 1), ('all the heat', 1), ('https://preview.redd.it/azuwqaln40pa1.jpeg?width=1053&format=pjpg&auto=webp&v=enabled&s=327075c28bf10501242fcecdfd83980b61bc35c2', 1), ('fuckin VQ mfs', 1), ('a quick release race style wheel', 1), ('a few donuts', 1), ('coffees', 1), ('a 4 door', 1), ('tip 6.8mi', 1), ('a ricer bro', 1), ('little man', 1), ('cups/lids/creamer', 1), ('a guy order', 1), ('6 large coffees', 1), ('the afternoon', 1), ('a mystery', 1), ('3 steering wheels', 1), ('this car', 1), ('enough coffee boxes', 1), ('loading', 1), ('unloading', 1), ('a big deal', 1), ('Any idiot', 1), ('the brains', 1), ('the clutch, right bro', 1), ('Jesus', 1), ('the wheel', 1), ('Tradeoffs', 1), ('car friends', 1), ('just quick release', 1), ('\\n*\\nRed buttons', 1), ('horn', 1), ('boost scramble', 1), ('the steering wheel releases', 1), ('the hub', 1), ('https://preview.redd.it/hme6m0mn20pa1.jpeg?width=1053&format=pjpg&auto=webp&v=enabled&s=fed77d800930209ec41a98a9e05f1bba5366eaff', 1), ('Ahh gotcha', 1), ('Amazing answer', 1), ('as good an answer', 1), ('Cruise control', 1), ('the laugh', 1), ('a Tesla', 1), ('sisters', 1), ('a ricer girl 🙂', 1), ('The deception', 1), ('what kind', 1), ('steering wheel', 1), ('that brother', 1), ('Serious question', 1), ('(Blonde female', 1), ('Ya gotcha', 1), ('the dunkin', 1), ('6 coffees', 1), ('a bagel', 1), ('donut', 1), ('their like 4 times', 1), ('The lady', 1), ('the same think', 1), ('😳', 1), ('1 drift wheel', 1), ('1 daily driver', 1), ('Next ones', 1), ('the jiggalo wheel', 1), ('a dream', 1), ('My only concern', 1), ('the donuts', 1), ('https://preview.redd.it/irnvp90180pa1.jpeg?width=1079&format=pjpg&auto=webp&v=enabled&s=8d6eaf9f2047c7afad744164f5ea5d71567ddabb', 1), ('https://preview.redd.it/tle589f5jzoa1.jpeg?width=1053&format=pjpg&auto=webp&v=enabled&s=5fb858d4d80e0392fb3695b84d02867a212eed33', 1), ('the extra room', 1), ('situations', 1), ('a small car', 1), ('extra room', 1), (' Theft prevention', 1), ('just a plus', 1), ('No donuts', 1), ('just 12 boxes', 1), ('simple math', 1), ('https://preview.redd.it/byhupb7zlzoa1.jpeg?width=4032&format=pjpg&auto=webp&v=enabled&s=b0371a7f0ec6477ec29d8cec145e8bd1ca8125a8', 1), ('https://preview.redd.it/pueydq8tb1pa1.png?width=2988&format=png&auto=webp&v=enabled&s=81cd48de1fa73bea1fbcedd4d38292923e7c7ec5', 1), ('the muscle cars', 1), ('my twin turbo', 1), ('curiosity', 1), ('what car', 1), ('Ye most old heads', 1), ('cheaper cars', 1), ('My point', 1), ('the dumber people', 1), ('the smartest people', 1), ('cop explorers', 1), ('no roof rack', 1), (\"the world's quickest 2004 Hyundai Elantra ig @ricer.elantra\", 1), ('Good point', 1), ('intelligence', 1), ('some nuances', 1), ('that knowledge', 1), ('\\n\\nKnowledge and Education =/= Intelligence', 1), ('lights', 1), ('their rear view', 1), ('brakes', 1), ('https://preview.redd.it/ktto3ctz60pa1.jpeg?width=1053&format=pjpg&auto=webp&v=enabled&s=2eb608008001bb2bf413e23de21f5b04e6dd06a9', 1), ('Any external mods', 1), ('Ig @ricer.elantra', 1), ('a contract', 1), ('screen shots', 1), ('the random muting', 1), ('my stereo', 1), ('1\\\\. HATE', 1), ('piece', 1), ('s**t app', 1), ('a tanrtuming baby', 1), ('The customer', 1), ('2\\\\. PIN orders', 1), ('the PIN', 1), ('customer notes', 1), ('a PIN', 1), ('the background', 1), ('a trace', 1), ('no accept button', 1), ('add-on offers', 1), ('the address field', 1), ('addon', 1), ('an addon', 1), ('\"0 miles', 1), ('your battery', 1), ('other apps', 1), ('me - screen', 1), ('every couple', 1), ('second', 1), ('some hard-to-find ways', 1), ('all this behavior', 1), (' \\n\\nNo issue', 1), ('Trip Radar', 1), ('Offers', 1), ('a huge deal', 1), ('the superior app', 1), ('even worse customer support', 1), ('their backend', 1), ('a broken state', 1), ('the offer screen', 1), ('like 40%', 1), ('the screen', 1), ('the GPS', 1), ('a tricky turn', 1), ('an exit', 1), ('8 MILES', 1), ('that annoying notification sound', 1), ('chargers', 1), ('2 clicks', 1), ('Hand gesture', 1), ('Battery life', 1), ('a car charger', 1), ('issues', 1), ('the GPS part', 1), ('battery drain', 1), ('every delivery', 1), ('some time', 1), ('the X', 1), ('\\n\\nHonestly the worst part', 1), ('the YT video', 1), ('the Uber app', 1), ('an iphone thing', 1), ('other ones', 1), ('how tf', 1), ('the first customer', 1), ('some respect', 1), ('the stop new orders button', 1), ('ons', 1), ('the mileage and time estimate', 1), ('a lie', 1), ('the estimated distance', 1), ('batch order', 1), ('a accident', 1), ('your working', 1), ('your destination', 1), ('full-time', 1), ('UberEATS', 1), ('your rates', 1), ('a my original 25 year old car', 1), ('comprehensive insurance', 1), ('my old car', 1), ('crap', 1), ('the Uber liability insurance', 1), ('3-4 spots', 1), ('a 3 miles radius', 1), ('tons', 1), ('an wait', 1), ('the next one', 1), ('a newer car', 1), ('comprehensive auto insurance', 1), ('my insurance company', 1), ('more and more insurance companies', 1), ('gig workers', 1), ('higher rates', 1), ('advantage', 1), ('Their reasoning', 1), ('longer periods', 1), ('higher risks', 1), ('The changes', 1), ('Uber passenger ride drivers', 1), ('A good driver', 1), ('3-4 hours', 1), ('more time', 1), ('a gig worker', 1), ('no one’s business', 1), ('ride policy', 1), ('self', 1), ('any trouble', 1), ('ride share coverage', 1), ('a big claim', 1), ('your driving record', 1), ('your record', 1), ('the red flag', 1), ('oath', 1), ('the records', 1), ('the process', 1), ('the safe route', 1), ('Some companies', 1), ('Others', 1), ('the app working', 1), ('coverage', 1), ('rideshare coverage', 1), ('the food delivery usage', 1), ('omission', 1), ('your own insurance', 1), ('THey', 1), ('the insurance company', 1), ('Goddamn bro', 1), ('.Just', 1), ('Geico', 1), ('my own bags', 1), ('your policy', 1), ('what conditions', 1), (\"Uber's insurance\", 1), ('their own insurance company', 1), ('the Uber insurance', 1), ('decent coverage', 1), ('your own company', 1), ('Not insurance fraud', 1), ('their common sense', 1), ('the context', 1), ('Buffalo Wild Wing', 1), ('Supposely', 1), ('5- 6 orders', 1), ('a known delay issue', 1), ('the merchant end system', 1), ('The representative', 1), ('pretty big payouts', 1), ('previous drivers', 1), ('a couple orders', 1), ('$31 bucks', 1), ('a few miles', 1), ('a extra 10 min', 1), ('chipotle', 1), (\"don't\", 1), ('the restaurant workers', 1), ('Bww', 1), ('$1.5/mile', 1), ('the Chipolte', 1), ('the 2nd time', 1), ('the same look', 1), ('5-6 orders', 1), ('your situation', 1), ('My situation', 1), ('the to-go shelf', 1), ('where the counter', 1), ('the cooks', 1), ('very good english', 1), ('Patient', 1), ('Half', 1), ('my stats', 1), ('the profile icon', 1), ('+1800', 1), ('a specific number', 1), ('their fraud dept', 1), ('charge', 1), ('the customer service', 1), ('a live agent', 1), ('your nearest Greenlight hub', 1), ('a shit ton', 1), ('Prop 22 money', 1), ('my state', 1), ('a Greenlight', 1), ('\"fraud', 1), ('a diamond driver', 1), ('any other apps', 1), ('insult', 1), ('injury', 1), ('a 0.5 mile trip', 1), ('Fun', 1), ('assholes', 1), ('some figure', 1), ('the restaurant(had', 1), ('And so no tip', 1), ('just a dollar', 1), ('a nice gesture', 1), ('$0 dollars', 1), ('how much the food cost', 1), ('the big cut', 1), ('those celebrities', 1), ('there commercials', 1), ('25%', 1), ('absolutely zero sense', 1), ('an app platform', 1), ('the chain', 1), ('The only work', 1), ('a middleman', 1), ('the least amount', 1), ('the largest cut', 1), ('The food', 1), ('a pretty thick cut', 1), ('a $2.60 fare', 1), ('their way', 1), ('tax losses', 1), ('a dodgy company', 1), ('an American company', 1), ('their headquarters', 1), ('the Netherlands', 1), ('a known tax haven', 1), ('a pricey restaurant', 1), ('that delivery fee', 1), ('WHICH', 1), ('the total', 1), ('no hidden tips', 1), ('the food total', 1), ('https://preview.redd.it/ijypvdir96pa1.jpeg?width=3024&format=pjpg&auto=webp&v=enabled&s=b969133f8b443946f4807fbd362aca98803731ee', 1), ('the estimate', 1), ('factors', 1), ('terrible orders', 1), ('not cherry', 1), ('Eg', 1), ('a minimum', 1), ('B', 1), ('their market', 1), ('better orders', 1), ('less competition', 1), ('earnings', 1), ('quite a bit', 1), ('every single order', 1), ('The market', 1), ('a big part', 1), ('Those numbers', 1), ('several factors', 1), ('even days', 1), ('what part', 1), ('even what state', 1), ('your dollar signs', 1), ('your questions', 1), ('america', 1), ('some things', 1), ('the front page', 1), ('these huge numbers', 1), ('markets', 1), ('a great market', 1), ('\\n\\nExperiment', 1), ('some traveling', 1), ('a big city', 1), ('Just factor', 1), ('all the cost', 1), ('your budget', 1), ('What state', 1), ('“100 dollars', 1), ('jersey', 1), ('Bergen county nj', 1), ('a new card', 1), ('What restaurant', 1), ('the year plan', 1), ('Everything', 1), ('dangerous driving', 1), ('any lawsuit', 1), ('a class-action', 1), ('\"intellectual property', 1), ('modern stuff', 1), ('apps', 1), ('the evidence', 1), ('unsafe driving conditions', 1), ('surface-level stuff', 1), ('the \"trip radar', 1), ('IANAL', 1), ('fingers', 1), ('your hopes', 1), ('a big payout', 1), ('changes', 1), ('trip radar', 1), ('a negligence suit', 1), ('a comparative fault jurisdiction', 1), ('the legal stuff', 1), ('Negligence', 1), ('4 elements', 1), ('breach', 1), ('cause', 1), ('injury/harm', 1), ('a court', 1), ('a duty', 1), ('the duty', 1), (\"the trip radar's extreme incentivization\", 1), ('The optimist', 1), ('a jury', 1), ('a lawyer', 1), ('law school', 1), ('the bar exam', 1), ('scenarios', 1), ('tests', 1), ('real-life situations', 1), ('court', 1), ('an experienced lawyer', 1), ('Well, only one way', 1), ('a discussion', 1), ('your peers', 1), ('lower-class folk', 1), ('the cozy fold', 1), ('class-action', 1), ('\\n\\nColor me', 1), ('our $12.97 payout', 1), ('three* king-size candy bars', 1), ('my new beater', 1), ('eager pursuit', 1), ('my next tip bait', 1), ('any deliveries', 1), ('just a minor\\nGlitch', 1), ('my documents', 1), ('date', 1), ('documents', 1), ('no outages', 1), ('the most recent app update', 1), ('the technical support line', 1), ('the other person', 1), ('the deductible', 1), ('🏽', 1), ('gif](emote|free_emotes_pack|smile', 1), ('the whole thing', 1), ('https://preview.redd.it/k5kwxlkgnvoa1.png?width=750&format=png&auto=webp&v=enabled&s=2c00774051c1ca23c5c0c490051d8c7038321165', 1), ('My experience', 1), ('area', 1), ('regional differences', 1), ('my 🦄', 1), ('to tip', 1), ('bait ratio', 1), ('. 2 unicorns', 1), ('1 hour', 1), ('these types', 1), ('https://preview.redd.it/8fwpen15r0pa1.jpeg?width=1080&format=pjpg&auto=webp&v=enabled&s=7dc2a222c6cf8f4895d790f200a5d6d78b3fada4', 1), ('a patient and level head', 1), ('Most times', 1), ('decent tips', 1), ('a Unicorn', 1), ('full passing', 1), ('the Universe', 1), ('a 5 doller tip', 1), ('the past 2 days', 1), ('96% satisfaction', 1), ('so some percentage', 1), ('awesome and able patrons', 1), ('Good stuff', 1), ('up there north side', 1), ('LI', 1), ('Awesome market', 1), ('a shop and delivery order', 1), ('30 items', 1), ('The UE estimate', 1), ('1 hour and 15 minutes', 1), ('an hours', 1), ('extra lol', 1), ('the best tips', 1), ('great neck', 1), ('Manhasset', 1), ('the DFW area', 1), ('the last order', 1), ('every single offer', 1), ('a big order', 1), ('a whole job', 1), ('trading firm', 1), ('that extent', 1), ('Nice, man', 1), ('Fort Worth market', 1), ('Mon-Wed', 1), ('dead asides', 1), ('Breakfast', 1), ('a hit', 1), ('Dinner', 1), ('the note', 1), ('their home', 1), ('your mistake', 1), ('..naaaa', 1), ('your note', 1), ('a few people', 1), ('route', 1), ('a few orders', 1), ('venmo', 1), ('zelle', 1), ('delivery instructions', 1), ('the doorbell', 1), ('a chair', 1), ('the drive', 1), ('a large group', 1), ('annoyed people', 1), ('Mondays', 1), ('that place', 1), ('benefits', 1), ('delivery fees', 1), ('most restaurants', 1), ('10%', 1), ('30/40/50%', 1), ('coupons', 1), ('5%', 1), ('Uber rides', 1), ('2-3 people', 1), ('full delivery fees', 1), ('twice a month', 1), ('may', 1), ('almost $140 dollars', 1), ('fee', 1), ('jan', 1), ('the 30/40/50% coupons', 1), ('The delivery charges', 1), ('a dollar', 1), ('my orders', 1), ('the 10%', 1), ('the fees', 1), ('the higher prices', 1), ('the service fee', 1), ('a subscriber', 1), ('frequent buyers', 1), ('a few dollars', 1), ('just a complete ripoff', 1), ('higher prices', 1), ('item', 1), ('No delivery fee', 1), ('the other fee', 1), ('half the fee', 1), ('a monthly fee', 1), ('More drivers', 1), ('these positive post', 1), ('your pay', 1), ('https://preview.redd.it/c38q509e7woa1.jpeg?width=750&format=pjpg&auto=webp&v=enabled&s=52ccde3cc6fe2ef7fcccf3dd538170c45242f0cf', 1), ('a mf GRIND', 1), ('Nice man', 1), ('actually a decent hourly wage', 1), ('active and share tips', 1), ('Netfare', 1), ('Village donkey alert', 1), (\"Ya'll\", 1), ('too much credit', 1), ('how different pay structures', 1), ('different drivers', 1), ('far less ner fares', 1), ('multiple post', 1), ('the last couple months', 1), ('50 states', 1), ('my regular dealings', 1), ('vlog', 1), ('YouTube to 10 and 20 thousand subscriptions', 1), (\"ya'll\", 1), ('Old scam', 1), ('Both people', 1), ('their address', 1), ('the restaurant address', 1), ('The fact', 1), ('two customers', 1), ('the same night', 1), ('an app issue', 1), ('these notes', 1), ('the super obvious ones lmao', 1), ('Detailed instructions', 1), ('a door', 1), ('a treasure chest', 1), ('some goodies', 1), ('a left', 1), ('the bee hive', 1), ('bear pee', 1), ('the tip fuck', 1), ('all that', 1), ('apt orders', 1), ('half the way', 1), ('the main outside door', 1), ('the maze type apartment buildings', 1), ('the curb', 1), ('very simple drop offs', 1), ('Me', 1), ('somebody', 1), ('the next person', 1), ('a lazy fuck', 1), ('their ass', 1), ('all kinds', 1), ('their head', 1), ('that maze', 1), ('a mark', 1), ('This retarded ass customer', 1), ('his shit', 1), ('the apartment holy shit man', 1), ('This sound', 1), ('a apartment complex', 1), ('playa vista', 1), ('My god', 1), ('An actual angel', 1), ('t', 1), ('a pile', 1), ('gold', 1), ('jewels', 1), ('a person', 1), ('love', 1), ('every late night', 1), (\"McDonald's order\", 1), ('these elaborate instructions', 1), ('🏿\\u200d', 1), ('the yellow brick road', 1), ('breadcrumbs', 1), ('me.marco polo', 1), ('This person', 1), ('right game user guilds', 1), ('This particular one', 1), ('the first elevator', 1), ('another elevator', 1), ('my floor', 1), ('The whole', 1), ('their servants', 1), ('our tips', 1), ('their $2 SMFH', 1), ('an old lady', 1), ('about 15 signs', 1), ('her apartment', 1), ('state street', 1), ('larpenteur ave', 1), ('idea', 1), ('the name', 1), ('gps directions', 1), ('your left', 1), ('\"thanks\" lol', 1), ('that phone directions', 1), ('those notes', 1), ('on….and', 1), ('my gps', 1), ('north west', 1), ('space', 1), ('iPhone', 1), ('Some people', 1), ('one reason', 1), ('the primary purposes', 1), ('the unit', 1), ('pants', 1), ('uber eats', 1), ('Your', 1), ('the 17th floor', 1), ('a lift', 1), ('your cold food', 1), ('the street service', 1), ('a timed table', 1), ('a scavenger hunt', 1), ('Disappointing lol', 1), ('……', 1), ('just the nearest cross street', 1), ('pressure lol', 1), ('The reason', 1), ('a passion', 1), ('crossstreets', 1), ('a fare', 1), ('Apple Maps', 1), ('Waze', 1), ('an Apt', 1), ('the headache', 1), ('that information upfront', 1), ('screening apartments', 1), ('weird stuff', 1), ('my standards', 1), ('the regular app', 1), ('a cross street', 1), ('not that address', 1), ('an older version', 1), ('your day', 1), ('vinnings', 1), ('Buckhead', 1), ('Brookhaven', 1), ('north Druid hills', 1), ('sandy springs', 1), ('the most money', 1), ('Your mobile data', 1), ('cheeks', 1), ('overtime hours', 1), ('12.5 hrs', 1), ('Online time', 1), ('online hours', 1), ('my per hour earnings', 1), ('my apps', 1), ('all day', 1), ('[gif](emote|free_emotes_pack|table_flip', 1), ('2700 dollars', 1), ('decent paying jobs', 1), ('healthcare', 1), ('an employee', 1), ('your service', 1), ('my week', 1), ('a grind', 1), ('math', 1), ('a total', 1), ('75.33 hours', 1), ('12.5 hour shifts', 1), ('Prop22', 1), ('a 40 hour week', 1), ('Not a 75 hour week', 1), ('the title', 1), ('reading', 1), ('30 and hour plus 45 an hour overtime', 1), ('Title', 1), ('$12/hour', 1), ('12 dollars', 1), ('$4 and $5 orders', 1), ('1 person', 1), ('a slow night', 1), ('my night', 1), ('just an observation', 1), ('a complaint', 1), (\"Hanlon's Razor\", 1), ('malice', 1), ('stupidity', 1), ('your drive', 1), ('the second order', 1), ('your there batch', 1), ('a time period', 1), ('a Driver', 1), ('a nice fare', 1), ('the radar', 1), ('🧐', 1), ('another persons order', 1), ('its priority', 1), ('a few extra bucks', 1), ('the algorithm', 1), ('a total scam', 1), ('the \"second\" customer', 1), (' time', 1), ('this route', 1), ('any extra', 1), ('Its a scam', 1), ('a delay', 1), ('15 to 20 minutes', 1), ('that second order', 1), ('1st', 1), ('my case', 1), ('an extra wait', 1), ('that Prop 22 money', 1), ('slow and multi app', 1), ('some dude', 1), ('a wrapped Uberaeats car', 1), ('10 orders', 1), ('25 miles', 1), ('90%', 1), ('Uber Eats customers', 1), ('Karens', 1), ('The prop 22 thing', 1), ('kindve', 1), ('slow deliveries', 1), ('Peeps', 1), ('Customers', 1), ('Dashers', 1), ('stories', 1), ('passwords', 1), ('bank info', 1), ('DD support', 1), ('world', 1), ('The bicycle', 1), ('the slow movement', 1), ('NC', 1), ('snails pace', 1), ('a weird one', 1), ('my Uber pro card', 1), ('4 misc', 1), ('deposits', 1), ('a 15 mile delivery', 1), ('a very underpaid fare estimate', 1), ('the $15 tip', 1), ('my calculations', 1), ('the minimum wage guarantee', 1), ('the .30 cents', 1), ('The fare', 1), ('$20.50 cents', 1), ('a few these', 1), ('the past two weeks', 1), ('daily guarantee totals', 1), ('the last two weeks', 1), ('$.01 payout', 1), ('your vehicle', 1), ('just the app way', 1), ('no Corolla', 1), ('yellow color', 1), ('Gold', 1), ('King Jaffe Joffer', 1), ('common folk', 1), ('some complicated instructions', 1), ('lmao', 1), ('the instructions', 1), ('hello fellow driver', 1), ('the damn job', 1), ('the specific directions', 1), ('not just a number', 1), ('Mf', 1), ('a Harry Potter book', 1), ('those colon cleansing bowls', 1), ('juices', 1), ('those nektar bars', 1), ('Everyone', 1), ('those damn things', 1), ('entitled assholes', 1), ('the verge', 1), ('their thumbs', 1), ('the minute', 1), ('the stack', 1), ('gibberish', 1), ('that stack', 1), ('a 1 star', 1), ('another asshole', 1), ('a $1 tip', 1), ('a low paying order', 1), ('its literally basic instructions', 1), ('holy hell', 1), ('😱😫😱😱', 1), ('😡', 1), ('more customers', 1), ('less complaints', 1), ('codes', 1), ('other complaints', 1), ('clear instructions', 1), ('another line', 1), ('grace', 1), ('this mess', 1), ('the Coming', 1), ('America reference lmao', 1), ('your comment', 1), ('his name', 1), ('the movie', 1), ('dumb dashers', 1), ('wrong door', 1), ('God', 1), ('the lost treasure', 1), ('a treasure map', 1), ('the surprise', 1), ('Damn man', 1), ('chicken lmao', 1), ('unhealthy chicken', 1), ('Frenchys chicken', 1), ('The amount', 1), ('detailed directions', 1), ('detailed instructions', 1), ('3 different orders', 1), ('the 3 drop offs', 1), ('10 dollars', 1), ('a difference', 1), ('a second drop', 1), ('a 3 stacked delivery', 1), ('the princess', 1), ('Super Mario lol', 1), ('the sense', 1), ('achievement', 1), ('cardio👌', 1), ('Man', 1), ('wrong detailed instructions', 1), ('a single order', 1), ('1 of 3 orders', 1), ('triple stack', 1), ('10$ total', 1), ('this fucker', 1), ('the ass', 1), ('salt', 1), ('the wounds', 1), ('2 different locked doors', 1), ('a flight', 1), ('the actual topic', 1), ('your pennies', 1), ('son', 1), ('47 dollars', 1), ('ubers', 1), ('that big money', 1), ('$0.10 tip', 1), ('finally some big spenders', 1), ('0.09 tips', 1), ('the base fare', 1), ('a far delivery', 1), ('40 min', 1), ('the base', 1), ('less than 15 minutes', 1), ('https://preview.redd.it/jipj4u7xd5pa1.jpeg?width=1170&format=pjpg&auto=webp&v=enabled&s=241052d81462aa2bd3fd1339de928973699586a9', 1), ('my favorites', 1), ('0% chance', 1), ('no-tips', 1), ('the only time', 1), ('a no tip order', 1), ('the fares', 1), ('the $10 2 miles', 1), ('a small unicorn', 1), ('a 2 mile trip', 1), ('a great surprise', 1), ('a single dollar tip', 1), ('my tongue', 1), ('a .10 tip', 1), ('Imma whip', 1), ('your front window', 1), ('TY', 1), ('this ☝', 1), ('the math', 1), ('UNICORNS', 1), ('Unicorns', 1), ('our gratitude', 1), ('an awesome Unicorn', 1), ('Tips', 1), ('my only conclusion', 1), ('lowball offers', 1), ('some screenshot proof', 1), ('these frequent tip increases', 1), ('no customers', 1), ('a boss', 1), ('that lol', 1), ('any more downvotes', 1), ('its workin', 1), ('Gratuity', 1), ('your trip', 1), ('the 10 PM', 1), ('4 AM hourly guarantee', 1), ('so few orders', 1), ('that time', 1), ('only three orders', 1), ('that guarantee', 1), ('whatever orders', 1), ('a quick message', 1), ('just the one', 1), ('last night', 1), ('my message', 1), ('Dude', 1), ('the hourly guarantee promotion lol', 1), ('six hours', 1), ('a pretty good trade-off', 1), ('a non-a tipping customer', 1), ('chances', 1), ('the down votes', 1), ('a 99% satisfaction rating', 1), ('no tip order', 1), ('the promotion', 1), ('everyone lol', 1), ('tipping lol', 1), ('a different order', 1), ('no trips', 1), ('Restaurant', 1), ('peeps', 1), ('my gears', 1), ('Worst week', 1), ('Great move', 1), ('2 bad UE offers', 1), ('Over $15/order average', 1), ('a slow day', 1), ('gif](giphy|l1AsyjZ8XLd1V7pUk', 1), ('The best part', 1), ('Monday', 1), ('frustration', 1), ('the no tip orders', 1), ('so few drivers', 1), ('20 trash orders', 1), ('only two tips', 1), (' Non tip orders', 1), ('higher paying', 1), ('a gamble', 1), ('the freeway', 1), ('our biggest city', 1), ('the drive home', 1), ('a long low pay trip', 1), ('spite', 1), ('my home', 1), ('the cheap fucker', 1), ('https://preview.redd.it/zi6hj2f8yvoa1.jpeg?width=1179&format=pjpg&auto=webp&v=enabled&s=a2ffe55d4f2eccf919dc928f89cf5f7c2b5c1416', 1), ('Everyday', 1), ('the original estimated payout', 1), ('1% orders', 1), ('fake tips', 1), ('that extreme', 1), ('a $21 payout', 1), ('a triple stack order', 1), ('my delivery', 1), ('more miles', 1), ('some form', 1), ('extreme tip baiting', 1), ('your trip details', 1), ('a LONG time', 1), ('target', 1), ('5 items', 1), ('zero issues', 1), ('all the items', 1), ('the correct apartment', 1), ('this delivery', 1), ('first cash tip', 1), ('a great method', 1), ('your active time', 1), ('The other time', 1), ('a CVS', 1), ('That one', 1), ('maybe 22 items', 1), ('30 min', 1), ('every 1000 deliveries', 1), ('actual proof', 1), ('some delivery/driver issue', 1), ('so many things', 1), ('the principle', 1), ('its not about that its the principle', 1), ('its just one more thing', 1), ('the last time', 1), ('a normal restuarant delivery', 1), ('400 deliveries', 1), ('regular food deliveries', 1), ('3hrs', 1), ('the audacity', 1), ('your items', 1), ('some good orders', 1), ('your bank', 1), ('The worst Uber', 1), ('garbage', 1), ('a partial refund', 1), ('this BS', 1), ('their responses', 1), ('Too many new drivers', 1), ('less people', 1), ('no solutions', 1), ('a record low', 1), ('24 hrs', 1), ('The few pings', 1), ('$2-$5 orders', 1), ('super far orders', 1), ('a side gig', 1), ('dead AF', 1), ('Uber benefit', 1), ('those tip', 1), ('Same - except mine', 1), ('a misc adjustment', 1), ('My feeling', 1), ('millage', 1), ('some area', 1), ('4 weekly payment', 1), ('My weekly millage', 1), ('about 300 miles', 1), ('the extra payment', 1), ('usually85-100 dollars', 1), ('any tip bait', 1), ('ue', 1), ('the badic info', 1), ('another rep', 1), ('this \"misc adjustment', 1), ('these bastards', 1), ('every day', 1), ('their permission', 1), ('canes', 1), ('an end', 1), ('my theory', 1), ('a Shop', 1), ('a caniac combo', 1), ('my town', 1), ('the box combo', 1), ('cats', 1), ('great money', 1), ('Your post', 1), ('that restaurant', 1), ('$4 orders', 1), ('a fast food location', 1), ('the glitch', 1), ('a Chicken Restaurant', 1), ('OP’s question', 1), ('how different restaurants', 1), ('different markets', 1), ('two McDonalds', 1), ('about 2 miles', 1), ('their ordering', 1), ('a brute force way', 1), ('the second part', 1), ('friend', 1), ('In', 1), ('these order&pay deliveries', 1), ('their reputation', 1), ('soggy fries', 1), ('https://techcrunch.com/2015/11/11/in-n-out-files-lawsuit-against-food-delivery-startup-doordash/', 1), ('\\n\\n*Fast food restaurant', 1), ('its delicious burgers', 1), ('secret sauce', 1), ('food delivery startup DoorDash', 1), ('TMZ', 1), ('the lawsuit', 1), ('Nov.', 1), ('trademark infringement', 1), ('unfair competition', 1), ('their delicious food', 1), ('quality', 1), ('food handling', 1), ('safety', 1), ('my independent business', 1), ('a lull', 1), ('bookings', 1), ('about a month', 1), ('these prices', 1), ('the Chicagoland area', 1), ('Bengal Tiger', 1), ('sadly 80%', 1), ('delivery fee', 1), ('another fee', 1), ('overpriced menu price', 1), ('that bread', 1), ('SoCal', 1), ('a useful way', 1), ('those types', 1), ('an active break', 1), ('these a lot', 1), ('a good offer', 1), ('Yeah. 3 stack orders', 1), ('Bellevue', 1), ('Kirkland', 1), ('woodinville', 1), ('the north Denver area', 1), ('Thornton/Northglenn/Westminster', 1), ('Atlanta', 1), ('Door Dash', 1), ('two dollars', 1), ('Vancouver evenings', 1), ('Especially Trip Radars', 1), ('regular pings', 1), ('Birmingham', 1), ('England', 1), ('a very heavy scooter/ electric bike area', 1), ('most orders', 1), ('less than 2 miles', 1), ('15 dollars', 1), ('tax', 1), ('then tip', 1), ('the Uber driver', 1), ('10 bucks', 1), ('less than 20 mins', 1), ('their time', 1), ('Decline', 1), ('🗑', 1), ('mondays', 1), ('the spanaway area', 1), ('those crappy orders', 1), ('the two decent ones', 1), ('50-60%', 1), ('the remaining 20%', 1), ('free dinner', 1), ('8.9 miles', 1), ('two deliveries', 1), ('18 miles', 1), ('the dollars', 1), ('7.6 miles', 1), ('9.9 miles', 1), ('higher miles', 1), ('both lunch', 1), ('different zones', 1), ('Every area', 1), ('these stinkers', 1), ('Some areas', 1), ('every good order', 1), ('ta cherry pick', 1), ('Reject reject reject', 1), ('apping', 1), ('the first order', 1), ('different apps', 1), ('4 to 6 dollars', 1), ('my average wage', 1), ('Grubhub', 1), ('my partner', 1), ('😒', 1), ('the cheapest customers', 1), ('the rudest but jus t', 1), ('a little bit', 1), ('Rides', 1), ('their moments', 1), ('all options', 1), ('just decline', 1), ('min', 1), ('\\n\\nIts a simple strategy', 1), ('my $ goals', 1), ('the Seattle market', 1), ('That trip', 1), ('$3-5 trips', 1), ('their face', 1), ('Adult babies', 1), ('all Karen', 1), ('karma', 1), ('two big buckets', 1), ('fried chicken', 1), ('2 sides', 1), ('coleslaw', 1), ('mashed potatoes', 1), ('8 biscuits', 1), ('My family', 1), ('\" song', 1), ('dance', 1), ('40 items', 1), ('200dlls', 1), ('really good stuff', 1), ('apt number', 1), ('no response', 1), ('40 dll pay', 1), ('a good trade', 1), ('the 8 min', 1), ('their property or apartment complex entrance', 1), ('no other option', 1), ('The real question', 1), ('the front lobby', 1), ('the floor', 1), ('just a huge puddle', 1), ('their surroundings', 1), ('an unusually large order', 1), ('Every time', 1), ('downtown LA', 1), ('the eight minutes', 1), ('an alcohol order', 1), ('the dude', 1), ('alc', 1), ('the courtesy', 1), ('the food yuh', 1), ('a secured apartment building', 1), ('other peoples order', 1), ('the 7 minutes', 1), ('Either way', 1), ('one way', 1), ('the grub', 1), ('one order', 1), ('about 10 min', 1), ('That fking ahole', 1), ('my calls', 1), ('15$ adjustment', 1), ('97%', 1), ('to 96%', 1), ('the meal', 1), ('Bruh', 1), ('a UFC fight night', 1), ('a huge Wing Stop order', 1), ('about 10 boxes', 1), ('12 pieces', 1), ('All my favorite flavors', 1), ('The wingstop', 1), ('Part', 1), ('purpose', 1), ('free meals', 1), ('naive🤷', 1), ('X amount', 1), ('monies', 1), ('dammit', 1), ('🤣😂🤣😂', 1), ('Pure evil', 1), (\"someone's food\", 1), ('the dinner', 1), ('a good effort', 1), ('These posts', 1), ('free food', 1), ('Your job', 1), ('every customer', 1), ('their phone', 1), ('the 8 minutes', 1), ('Not everyone', 1), ('no damn answer messaging', 1), ('a stupid hotel', 1), ('my dumbass', 1), ('such a big and busy hotel', 1), ('mostly drunk people', 1), ('a lobster pizza', 1), ('these people', 1), ('a KFC order', 1), ('your stove top', 1), ('a long life', 1), ('our self', 1), ('all the attitudes workers', 1), ('client', 1), ('Ice Cream', 1), ('some dame food', 1), ('other situations', 1), ('Redditor title', 1), ('free habit burger', 1), ('a dasher', 1), ('a happy Uber guy', 1), ('good tho', 1), ('the wrong building', 1), ('my cell number', 1), ('his location', 1), ('his address', 1), ('a pool', 1), ('my umbrella', 1), ('a pool-____-', 1), ('No tip', 1), ('yaaasssss', 1), ('late nights', 1), ('ASU', 1), ('Tons', 1), ('no leave', 1), ('the door option', 1), ('their hangouts', 1), ('drunk kids', 1), ('Uber customer service', 1), ('3 times', 1), ('no answer', 1), ('Taqueria \"family meal', 1), ('2 huge disposable roasting pans', 1), ('meet bean', 1), ('rice', 1), ('all the stuff', 1), ('Fed', 1), ('his family', 1), ('leftovers', 1), ('the text', 1), ('full pay', 1), ('18 $', 1), ('Little scores', 1), ('over 3000 deliveries free stuff', 1), ('750 times', 1), ('love ❤️', 1), ('Canceled order', 1), ('the leasing office', 1), ('one case', 1), ('https://preview.redd.it/h4me3926r0pa1.png?width=1079&format=pjpg&auto=webp&v=enabled&s=d6857a6f2e4ba4d9182f1e34a5f5f43509ba964f', 1), ('what displays', 1), (\"the driver's end\", 1), ('the confusion', 1), ('sense lol', 1), ('the most sense', 1), ('confirmation', 1), ('their preferred method', 1), ('older orders', 1), ('its raining cause', 1), ('front door', 1), ('a wet spot', 1), ('your appreciation', 1), ('their apartment', 1), ('precise directions', 1), ('their location', 1), ('1st call', 1), ('helpful understanding', 1), ('delays/obstacles', 1), ('everybody', 1), ('vendor orders', 1), ('direct app orders', 1), ('post covid', 1), ('the vendors', 1), ('the default', 1), ('the Vendor HQ', 1), ('Las Vegas', 1), ('the new default', 1), ('this vendor', 1), ('nation', 1), ('suburban homes', 1), ('next time brother', 1), ('very similar situations', 1), ('less than a minute', 1), ('no reply', 1), ('any shame', 1), ('5 min', 1), ('1 or 2 more rides', 1), ('30 seconds', 1), ('another UE driver', 1), ('the same person', 1), ('an apartment building', 1), ('every 2nd', 1), ('Minute', 1), ('yummy yummy food', 1), ('chips', 1), ('farmers', 1), ('(vegan tacos', 1), ('my eyes', 1), ('alcohol', 1), ('Some apartments', 1), ('some kind', 1), ('sensor', 1), ('this happen(customer', 1), ('38secs left', 1), ('a strip mall', 1), ('no suite/door info', 1), ('that food', 1), ('ban', 1), ('no negative feedback', 1), ('completion', 1), ('these Ubereats bums', 1), ('ot', 1), ('building', 1), ('just some door', 1), ('the 8-min timer', 1), ('a response', 1), ('“dispose', 1), ('the direct instructions', 1), ('a bad review', 1), ('other deliveries', 1), ('my cancellation rate', 1), ('actual business meals', 1), ('the benefit', 1), ('growing business', 1), ('clients', 1), ('horrible advice', 1), ('the emergency', 1), ('Communication', 1), ('No communication', 1), ('no kindness', 1), ('wasted time', 1), ('the building', 1), ('that point', 1), ('that kind', 1), ('some tacos', 1), ('a sticky situation', 1), ('the precautions', 1), ('his tip', 1), ('all the precautions', 1), ('ur tip', 1), ('some food', 1), ('the risk', 1), ('barber school', 1), ('just part time shit', 1), ('a secure location', 1), ('a hotel front desk', 1), ('the front gate', 1), ('a large apartment complex', 1), ('a small airport', 1), ('both cases', 1), ('no \"door', 1), ('no one working security', 1), ('both places', 1), ('the fee', 1), ('not the tip', 1), ('😋', 1), ('littering', 1), ('that ubered bag', 1), ('my apartment complex', 1), ('one customer', 1), ('this confusing app programming', 1), ('an attitude', 1), ('thoroughly confused \"No problem', 1), ('a note', 1), ('a notification', 1), ('their notes', 1), ('photos', 1), ('delv', 1), ('🤔.  Thanks', 1), ('grocery', 1), ('the phone/text', 1), ('the animals', 1), ('free beer', 1), ('Damn lol', 1), ('no safe place', 1), ('a safe area', 1), ('you people', 1), ('Food', 1), ('the streets', 1), ('that point lol', 1), ('excuses', 1), (\"the person's door\", 1), ('a front desk w/ employee', 1), ('call support', 1), ('FL', 1), ('the heat/bugs/animals', 1), ('the scammer', 1), ('* the food', 1), ('a relatively common scam', 1), ('car orders', 1), ('leave', 1), ('door orders', 1), ('photo evidence', 1), ('what door', 1), ('The person', 1), ('just that lol', 1), ('a rationale', 1), ('these 8 minutes', 1), ('an even trade', 1), ('No single 8 minutes', 1), ('any driver’s time', 1), ('a.', 1), ('Tip-baiters', 1), ('thieves', 1), ('this subreddit', 1), ('everyones', 1), ('one free meal', 1), (\"someone's dinner\", 1), ('My man', 1), ('your reading comprehension', 1), ('Your reply', 1), ('the main Taxi service', 1), ('corporate driven product/design', 1), ('revenue expansion', 1), ('new features', 1), ('existing ones', 1), ('hierarchy', 1), ('promo', 1), ('the features', 1), ('motivation', 1), ('the eng side', 1), ('the product driven mentality', 1), ('different teams', 1), ('small parts', 1), ('extra complexity', 1), ('more specialization', 1), ('teams', 1), ('The problem', 1), ('how \"Meet Outside', 1), ('2 different phrases', 1), ('both ends', 1), ('the only place', 1), ('the disconnect', 1), ('The customer’s app', 1), ('the drivers end', 1), ('At least a few days', 1), ('two different things', 1), ('idiots', 1), ('Long story', 1), ('my first and last alcohol order', 1), ('Guy', 1), ('a warning', 1), ('someone else’s food', 1), ('fish', 1), ('the trash', 1), ('property', 1), ('Same situation', 1), ('an argument', 1), ('the glee', 1), ('59 seconds', 1), ('MINE', 1), ('the tip-baiting crowd', 1), ('these drivers', 1), ('a customer’s food', 1), ('unicorns', 1), ('just the biggest bunch', 1), ('dicks', 1), ('a result', 1), ('5k+ trips', 1), ('the platform years', 1), ('100% satisfaction rate', 1), ('all the sense', 1), ('🤭', 1), ('absolute sense', 1), ('your own comprehension', 1), ('the customer’s door', 1), ('their sense', 1), ('the same message', 1), ('both the customer', 1), ('clear up confusion', 1), ('Meet Outside', 1), ('our* app', 1), ('Door', 1), ('both options', 1), ('the exact same thing', 1), ('The only confusion', 1), ('their yard/driveway', 1), ('your driver', 1), ('/texts', 1), ('the customer--', 1), ('your experience', 1), ('hardly anyone', 1), ('Gotcha', 1), ('a customers location', 1), ('car trouble', 1), ('All these people', 1), ('My Job', 1), ('defamation', 1), ('character', 1), ('the pick', 1), ('their proximity', 1), ('car issues', 1), ('a homeless person', 1), ('Items', 1), ('the problem lol', 1), ('low tipping', 1), ('the first place', 1), ('The point', 1), ('Directions', 1), ('a timely manner', 1), ('Most tip baits', 1), ('personal biases', 1), ('your control', 1), ('a french fry', 1), ('restaurant).I', 1), ('their personal time', 1), ('Trip', 1), ('0.5 miles', 1), ('$8 minimum', 1), ('what the hell', 1), ('the same block', 1), ('the direction', 1), ('a 10minute wait', 1), ('its not the glitch', 1), ('4hrs', 1), ('their driver', 1), ('This....fucking reeks', 1), ('Aargh', 1), ('what an eye opener', 1), ('android', 1), ('his apps', 1), ('that info', 1), ('garbage no/low tip orders', 1), ('My occasional downvotes', 1), ('lower tippers', 1), (' Most people', 1), ('thumbs downs', 1), ('your ratings', 1), ('all markets', 1), ('a freshie food backpack', 1), ('the cancel', 1), ('\\n\\nOnly time', 1), ('the proper channels', 1), ('a solid reason', 1), ('a rise', 1), ('the LB', 1), ('CA area', 1), ('this weekend', 1), ('the college kids', 1), ('break', 1), ('the infrequent orders', 1), ('2 customers', 1), ('my door dash app', 1), ('a orders', 1), ('this week', 1), ('\\nCha Ching\\U0001faf0', 1), ('a Saturday & Sunday (10 hr shift', 1), ('u guys', 1), ('the current economic situation', 1), ('https://preview.redd.it/t8qp146d2uoa1.jpeg?width=1170&format=pjpg&auto=webp&v=enabled&s=7f0ef0e748a7f2788a0fb9d915dbf4da20aa6b2e', 1), ('2 scheduled orders', 1), ('Each time', 1), ('afternoon', 1), ('5 trash pings', 1), ('a new area', 1), ('Fri', 1), ('two major events', 1), (', so limited drivers', 1), ('oil change', 1), ('5pm', 1), ('that guy', 1), ('coolant tank', 1), ('oil filter', 1), ('only one order', 1), ('a overheat', 1), ('25mins', 1), ('the entire week', 1), ('Huntington Beach California', 1), ('limited drivers', 1), ('a $24.04 pickup', 1), ('that specific college', 1), ('3 colleges', 1), ('no names', 1), ('the dorms', 1), ('areas', 1), ('the student', 1), ('the texts', 1), ('phone call', 1), ('the other two colleges', 1), ('Those students', 1), ('that campus', 1), (\"his dorm's door\", 1), ('a few items', 1), ('at least a $5 tip', 1), ('my AR', 1), ('100 offers', 1), ('a single offer', 1), ('the boonies', 1), ('liquor delivery', 1), ('pax inbetween', 1), ('pax', 1), ('3 days', 1), ('the week', 1), ('a child', 1), ('extra needs', 1), ('8 hours', 1), ('7 hours', 1), ('all their $', 1), ('Friday lol', 1), ('that statement', 1), ('Money', 1), ('Queens', 1), ('dozens', 1), ('every shot order', 1), ('crews', 1), ('the industry', 1), ('Crazy man', 1), ('No weekends', 1), ('a 150 to 200 dollar day', 1), ('what time', 1), ('usually about 8 hours', 1), ('Greenpoint Brooklyn', 1), ('about 20 dudes', 1), ('the corners', 1), ('the worst part', 1), ('these dudes', 1), ('account', 1), ('two apps', 1), ('hudson County', 1), ('U', 1), ('my blood type', 1), ('(sic', 1), ('McD', 1), ('the profile', 1), ('some woman', 1), ('some guy', 1), ('these scams', 1), ('all Drivers', 1), ('the NYC area', 1), ('its slow', 1), ('New England', 1), ('events', 1), ('Red Sox and Bruins games', 1), ('house parties', 1), ('10pm', 1), ('more opportunities', 1), ('2 orders', 1), ('6 hrs', 1), ('the recession', 1), ('a $188 payment', 1), (' 16 cents', 1), ('only 15 cents', 1), ('the higher tax bracket', 1), ('https://preview.redd.it/zcwtifnq52pa1.jpeg?width=1170&format=pjpg&auto=webp&v=enabled&s=1b80579d7b34f3b6be07b96e36f6619fbc2dcfc9', 1), ('a hush hush class action', 1), ('some law firm', 1), ('millions', 1), ('my bank account', 1), ('this thread', 1), ('whoever', 1), ('the planet', 1), ('the crackhead entry', 1), ('any Wooden Nickles', 1), ('the definition', 1), ('“Pennies', 1), ('the dollar', 1), ('an audit', 1), ('the wallet', 1), ('rounded numbers', 1), ('every transaction', 1), ('Every penny', 1), ('\\n*\\nYeah mine', 1), ('your App', 1), ('rides options', 1), ('22 earnings', 1), ('18 cents', 1), ('7 cents 🤣', 1), ('the \"no tip\" button', 1), ('a new tip', 1), ('exactly this reason', 1), ('a full day', 1), ('30% to 3%', 1), ('the opposite', 1), ('the most part', 1), ('$100 prop', 1), ('Thursday night', 1), ('\\n\\nHappy Prop', 1), ('Sephora delivery', 1), ('35/hr doing', 1), ('my hourly', 1), ('pch', 1), ('a slap', 1), ('Los angeles', 1), ('My very last order', 1), ('1 mile', 1), ('Jack', 1), ('Actually Turbed', 1), ('The offers', 1), ('blizzards', 1), ('a former customer service worker', 1), ('Rainy days', 1), ('less business', 1), ('less tips', 1), ('the belief', 1), ('just part', 1), ('my willingness', 1), ('less-than-ideal conditions', 1), ('their appreciation', 1), ('the tip jar', 1), ('high tip orders', 1), ('🤷\\u200d♂️', 1), ('big cities', 1), ('normal towns', 1), ('3 or 4 dollar orders', 1), ('rain fuck', 1), ('a second', 1), ('Dallas', 1), ('All the delivery orders', 1), ('All low orders', 1), ('YOUR car', 1), ('not MY car', 1), ('$25 plus', 1), ('$40 8 miles', 1), ('Long Beach area', 1), ('your Prop 22 pay', 1), ('The tips', 1), ('the jump', 1), ('the bad rating', 1), ('Hahaha Cali drivers', 1), ('Same here AR drop', 1), ('Yup lmao', 1), ('4pm', 1), ('My acceptance rate', 1), ('good', 1), ('$10+ tips', 1), ('this weather', 1), ('my hair', 1), ('the strong winds', 1), ('the grey sky', 1), ('misty rain', 1), ('Yay', 1), ('No rain', 1), ('The PCH? Lol', 1), ('crazy beach bums', 1), ('their beaters', 1), ('crazy rich people', 1), ('their fast cars', 1), ('Both', 1), ('the edge', 1), ('dear life', 1), ('an occasional visit', 1), ('the beach', 1), ('very low expectations', 1), ('lowballs', 1), ('prop money', 1), ('Now and then, maybe a boost', 1), (' 9 dollars', 1), ('better money', 1), ('a pothole', 1), ('the prop 22 money', 1), ('3 and 4 dollar orders', 1), ('> Prop 22 pay', 1), ('a good one', 1), ('50%', 1), ('to 14%', 1), ('eggs', 1), ('ramen', 1), ('whatever veggie', 1), ('the fridge', 1), ('Maybe LESS rain', 1), ('the forecast', 1), ('30%', 1), ('the areas', 1), ('showers', 1), ('the IE/PS area', 1), ('Less rain', 1), ('Very accurate lol', 1), ('the rich people', 1), ('redondo', 1), ('My fav', 1), ('the big family dinners', 1), ('Pallos verdes', 1), ('lax', 1), ('/Santa Monica area', 1), ('poppin', 1), ('my car door', 1), ('pizza', 1), ('7 years', 1), ('rain=shit', 1), ('the time lol', 1), ('My work', 1), ('tips day', 1), ('my rest day', 1), ('big upfront payout orders', 1), ('your downtime', 1), ('the valley', 1), ('Torrance/Pallos Verdes', 1), ('almost every order', 1), ('little or no tip', 1), ('the feeling', 1), ('one missed turn', 1), ('Multiple missed turns', 1), ('the profit', 1), ('our fingers', 1), ('Impossible directions', 1), ('rain', 1), ('haha', 1), ('SpongeBob meme', 1), ('a head', 1), ('Dude park', 1), ('the rig', 1), ('dentistry', 1), ('carpentry', 1), (\"2 o'clock\", 1), ('Sundays', 1), ('NYC earnings', 1), ('smaller towns', 1), ('*Fighting tooth', 1), ('nail', 1), ('Lexington Ave', 1), ('East', 1), ('same time\\nOnline No rhyme', 1), ('reason', 1), ('every shit order', 1), ('80th', 1), ('Brooklyn', 1), ('a way better borough', 1), ('better pings', 1), ('your zone', 1), ('shit hours', 1), ('a giant 60 mile radius', 1), ('not a good idea', 1), ('either too much traffic', 1), ('flatbush brooklyn area', 1), ('Harlem', 1), ('all the money', 1), ('my areas', 1), ('all apps', 1), ('horrible orders', 1), ('the dollar amount', 1), ('your pain', 1), ('April', 1), ('Downtown Brooklyn/Clinton hill', 1), ('2pm', 1), ('north west queens', 1), ('northern Blvd', 1), ('Vernon', 1), ('No body', 1), ('the sauce', 1), ('their competition', 1), ('a big tipper', 1), ('those low ball orders', 1), ('delivery apps', 1), ('a posh breakfast spot', 1), ('morning', 1), ('to complete and utter shit', 1), ('Christmas', 1), ('ill sign', 1), ('the right choice', 1), ('just “shit” lmao', 1), ('New York City', 1), ('a good amount', 1), ('Barclays center area', 1), ('My friends', 1), ('a delivery app', 1), ('“relay', 1), ('hourly', 1), ('the reservation times', 1), ('delivery time', 1), ('any luck', 1), ('my reservation time', 1), ('restaurant', 1), ('Some restaurants', 1), ('online ordering', 1), ('too many orders', 1), ('the states', 1), ('His area', 1), ('the most densely populated areas', 1), ('Greenwich village', 1), ('a way better surface area', 1), ('a poor location', 1), ('bridges', 1), ('an island', 1), ('Lol wut', 1), ('Manhattan', 1), ('an $8 order', 1), ('only Max 2 miles', 1), ('a pedal bike', 1), ('normal conditions', 1), ('every half km', 1), ('0.5km', 1), ('1km', 1), ('1.5km', 1), ('2km', 1), ('over 3km', 1), ('3.5km', 1), ('a straight line', 1), ('5km', 1), ('a loop', 1), ('second nature', 1), ('what trips', 1), ('my bicycle tires', 1), ('$15 minimum payout', 1), ('double orders', 1), ('a 8 mile trip', 1), ('a double stack', 1), ('Triples', 1), ('time & dollar amount', 1), ('less time', 1), ('45-50 minutes', 1), ('the mileage', 1), ('$8 orders', 1), ('my situation', 1), ('how Uber', 1), ('a button', 1), ('a delivery driver', 1), (' Simple', 1), ('The app companies', 1), ('% deals', 1), ('the workers', 1), ('this way', 1), ('the owner', 1), ('the employees', 1), ('a rats', 1), ('your schools', 1), ('any sign', 1), ('restaurant BS', 1), ('only and more than one car', 1), ('3 minutes', 1), ('Rude staff', 1), ('Badly packaged items', 1), ('unsealed bags', 1), ('unverified orders', 1), ('begore', 1), ('our order', 1), ('1/3 restaurants', 1), ('jack crap', 1), ('your map', 1), ('the usual places', 1), ('your preferences', 1), ('The ridiculous surge zones', 1), ('heat map', 1), ('\\n\\nhttps://preview.redd.it/et31xubq92pa1.jpeg?width=828&format=pjpg&auto=webp&v=enabled&s=8b356ae4feffc0a05956c6787b1a1235af51e67f', 1), ('San Diego', 1), ('January', 1), ('My map', 1), ('two years', 1), ('No heat maps', 1), ('Detroit', 1), ('new and improved heat maps', 1), ('no clue', 1), ('a place', 1), ('the same issue', 1), ('the page', 1), ('uber connect', 1), ('https://preview.redd.it/brenp6xvk2pa1.jpeg?width=1284&format=pjpg&auto=webp&v=enabled&s=1cc7fbca440f7cdef252f8e7fd75e0b65e321368', 1), ('heat maps', 1), ('another poster', 1), ('goofballs', 1), ('Sigh', 1), ('left tab', 1), ('the preference page', 1), ('https://preview.redd.it/37d0tsskf2pa1.jpeg?width=1179&format=pjpg&auto=webp&v=enabled&s=84a17dd86dda12230f8e6aaa8dd4bbeb098905f7', 1), ('Bottom', 1), ('tab', 1), ('preference page', 1), ('The general consensus', 1), ('uber routes', 1), ('the choice orders', 1), ('the same pot', 1), ('junk', 1), ('way too many drivers', 1), ('3 hr 30 min', 1), ('5 hrs', 1), ('a weekend day', 1), ('two weeks', 1), ('south Florida', 1), ('this weeks', 1), ('1AM', 1), ('everyday', 1), ('a complete scam lol', 1), ('a 4x boost zone', 1), ('$3 or lower orders', 1), ('boost orders', 1), ('Boost chasing', 1), ('no other restrictions', 1), ('cents', 1), ('3.5-4x boost', 1), ('terms', 1), ('their rents', 1), ('a single chick-fil', 1), (') drivers', 1), ('economic sense', 1), ('Your point', 1), ('many Uber customers', 1), ('personal delivery service', 1), ('their vehicle', 1), ('the sole purpose', 1), ('an errand', 1), ('a certain amount', 1), ('this luxury service', 1), ('a basic product', 1), ('a fast food sandwich', 1), ('its sustainability', 1), ('the economics', 1), ('that scenario', 1), ('your mindset', 1), ('not an every day thing', 1), ('more sense', 1), ('uber one', 1), ('my credit card', 1), ('a $7 tip', 1), ('the complaints', 1), ('a lazy PoS', 1), ('an ebike', 1), ('a climate controlled environment', 1), ('my take home pay', 1), ('The people', 1), ('that lifestyle', 1), ('minimal effort', 1), ('a simple sandwich', 1), ('i.e. 4ish dollars', 1), ('the expectation', 1), ('salary', 1), ('chickfila', 1), ('Free uberone', 1), ('my cc', 1), (\"someone's order\", 1), ('5 bucks', 1), ('answer', 1), ('especially long time drivers', 1), ('a percentage tip', 1), ('auto expenses', 1), ('a $150 sushi order', 1), ('wait times', 1), ('waitstaff', 1), ('even that', 1), ('only some degree', 1), ('hard work', 1), ('a minimum threshold', 1), ('our expenses', 1), ('an unreasonable goal', 1), ('that amount', 1), ('a $2/mile tip', 1), (\"an average state's minimum wage\", 1), ('normal IRS rates', 1), ('mileage expenses', 1), ('a 25% lower rate', 1), ('this calculation', 1), ('a position', 1), ('your behavior', 1), ('raw calculations', 1), ('best response', 1), ('the bid', 1), ('my $13 sandwich', 1), ('your raw numbers', 1), ('6 dollars', 1), ('food delivery service', 1), ('a luxury product', 1), ('i.e.  demand', 1), ('luxury product', 1), ('i.e. people', 1), ('far orders', 1), ('even I', 1), ('the pickup spot', 1), ('more than 10 minutes', 1), ('1-2 minutes', 1), ('a traffic', 1), ('the chick-fil', 1), ('then the minute', 1), ('addition', 1), ('the driving', 1), ('a half hour investment', 1), ('a personal delivery service', 1), ('the bills', 1), ('\"20%\" tips', 1), ('uberone', 1), ('40%', 1), ('freebies', 1), ('( something', 1), ('the promotions', 1), ('your tangent', 1), ('your 30 minute estimate', 1), (' 2 $6 orders', 1), ('min wage', 1), ('the job requirements', 1), ('reasonable salary expectations', 1), ('65.5 cents', 1), ('50 cents', 1), ('figure', 1), ('base', 1), ('an unreasonable target', 1), ('any driver', 1), ('your taxes', 1), ('every other business owner/independent contractor', 1), ('extremely high level', 1), (' autonomy', 1), ('too many drivers', 1), ('too few orders', 1), ('a caricature', 1), ('choice', 1), ('these customer-driver threads', 1), ('some whiny little prick', 1), ('how expensive delivery', 1), (\"drivers' intelligence\", 1), ('sport', 1), ('an Uber driver', 1), ('a 10-mile ride', 1), ('a half-gallon', 1), ('their expenses', 1), ('that ride', 1), ('\\n\\nB', 1), ('a high level', 1), ('reading comprehension', 1), ('a online forum', 1), ('the post', 1), ('this business', 1), ('a hundred different ways', 1), (' \\n\\nC', 1), ('what sport', 1), ('your fellow driver', 1), ('quality orders', 1), ('a 15 year', 1), ('no additional formal training', 1), ('\\n\\nD', 1), ('deductions', 1), ('exact same thing', 1), ('a hotel order', 1), ('room number', 1), ('his words', 1), ('funny thing', 1), ('this exact customer', 1), ('the wrong hotel name', 1), ('this part', 1), ('town', 1), ('the hotels', 1), ('one street', 1), ('the wrong hotel', 1), ('the 3rd bag', 1), ('a free meal', 1), ('coordinates', 1), ('pictures', 1), ('the door number', 1), ('the same picture', 1), ('some proof', 1), ('these jerks', 1), ('hotels', 1), ('the room number', 1), ('guy feeling', 1), ('hotel', 1), ('a random bar', 1), ('many people’s livelihood', 1), ('sooner or later Uber', 1), ('a drastic point', 1), ('ALL the money', 1), ('all the drivers', 1), ('no one complaint', 1), ('Chargeback', 1), ('a walmart order', 1), ('My only problem', 1), ('just the bad economy', 1), ('coincidence', 1), (\"Uber's recent updates\", 1), ('some dark patterns', 1), ('24hrs', 1), ('a shame', 1), ('more hours', 1), ('the most ridiculously slow week', 1), ('no tip orders', 1), ('Hollywood', 1), ('the 6pm hour', 1), ('Neither text', 1), ('this problem', 1), ('West Hollywood', 1), ('a higher tier rewards level', 1), ('1000 deliveries', 1), ('a single tip bait', 1), ('the same week', 1), ('The questions', 1), ('Status', 1), ('Just a coincidence', 1), ('the goofy replies', 1), ('those questions', 1), ('Short bus central', 1), ('this one person', 1), ('more deliveries', 1), ('their “status', 1), ('ranks', 1), ('platinum', 1), ('a possibility', 1), ('whatever fucking reason', 1), ('“Gold', 1), ('an idiot', 1), ('the only person', 1), ('an app update', 1), ('the accounts department', 1), ('7 AM', 1), ('Yo', 1), ('cache', 1), ('dqta', 1), ('aure', 1), ('the password', 1), ('Mark', 1), ('Thankyou jeaus', 1), ('this reddit', 1), ('this same question', 1), ('More Services', 1), ('this screen', 1), ('😵\\u200d💫🙄\\n\\nhttps://preview.redd.it/id0aesvx32pa1.png?width=1124&format=png&auto=webp&v=enabled&s=e9e9aea39fe9b13caf6f38d33710ec604e5ca5d0', 1), ('Interestingly enough doordash', 1), ('an outage', 1), ('a ton', 1), ('the delivery option', 1), ('Same issue', 1), ('door dash', 1), ('Just proof', 1), ('algorithms', 1), ('\\nUber sux', 1), ('the future thanks', 1), ('four to ten pings', 1), ('eight hours', 1), ('a promotion', 1), ('the first good one', 1), ('a long while', 1), ('a issue', 1), ('alot', 1), ('my deliveries', 1), ('UberX trips', 1), ('preferences', 1), ('bicycle', 1), ('https://preview.redd.it/4x15jpzva2pa1.jpeg?width=1284&format=pjpg&auto=webp&v=enabled&s=49c47a8542be99c48bc82b184e3c35aa0118345f', 1), ('The only difference', 1), ('my backside', 1), ('my shoes', 1), ('Sign', 1), ('wtf', 1), ('My account', 1), ('some drivers', 1), ('  East coast', 1), ('the batman boys', 1), ('Uber X', 1), ('a he', 1), ('fun', 1), ('your dream', 1), ('bonus', 1), ('surge pay', 1), (' Just smile', 1), ('“promotion', 1), (' Only thing', 1), ('opportunities', 1), ('boosts', 1), ('what promotion', 1), ('any chances', 1), ('a clawback', 1), ('$11.30 lol', 1), ('my ABC alcohol training lol', 1), ('the training', 1), ('the same course', 1), ('my certificate', 1), ('Highest one', 1), ('late rent', 1), ('the reimbursement', 1), ('same wtf', 1), ('30 cents wtf', 1), ('UPDATE', 1), ('some tips', 1), ('saturation', 1), ('the south Florida market', 1), ('Fri - Sun', 1), ('those three days', 1), ('Sucks', 1), ('what most jobs', 1), ('my earnings', 1), ('those times', 1), ('trouble', 1), ('a another restaurant', 1), ('A stop', 1), ('the delivery driver', 1), ('two or more delivery requests', 1), ('their trip', 1), ('another customer', 1), ('two different restaurants', 1), ('no option', 1), ('the second customer', 1), ('another restaurant', 1), ('my trip', 1), ('your end', 1), ('the delivery trip', 1), ('the restaurant pick ups', 1), ('the stops', 1), ('your delivery persons trip', 1), ('first dropoff', 1), ('just a first dropoff', 1), ('drivers agent', 1), ('the missing trip', 1), ('missing tip', 1), ('the tip money', 1), ('all 3 apps', 1), ('an hour long call', 1), ('the website', 1), ('a 24/7 phone line', 1), ('a live order', 1), ('your best option', 1), ('app chat', 1), ('the AI', 1), ('the call', 1), ('heck', 1), ('the missing tips', 1), ('that issue', 1), ('The last couple', 1), ('updates', 1), ('that particular problem', 1), ('a agent', 1), ('your the this number', 1), ('the supervisor', 1), ('$55 order trip', 1), ('My two “favorite” lines', 1), ('that experience', 1), ('no ideas', 1), ('a known issue', 1), ('a toothless dog', 1), ('no supervisor', 1), ('India bruh', 1), ('multiple times', 1), ('each call', 1), ('the issue', 1), ('the agent', 1), ('lazy ass drivers', 1), ('a damn drink', 1), ('the support', 1), ('an insider', 1), ('these call centers', 1), ('Contact fcc', 1), ('DD customer service', 1), ('my last two orders', 1), ('(both shop', 1), ('a fare review', 1), ('that option', 1), ('An agent', 1), ('full fare', 1), ('that call', 1), ('the customer side', 1), ('THREE WEEKS', 1), ('free delivery', 1), ('numerous agents', 1), ('multiple messages', 1), (\"the other one's chats\", 1), ('a $30 order', 1), ('my end', 1), ('a script', 1), ('a missing trip', 1), ('over an hour', 1), ('the payment department', 1), ('the worst support', 1), ('rude asf', 1), ('a handbook', 1), ('the same things', 1), ('that people', 1), ('your country', 1), ('change', 1), ('such companies', 1), ('the costs', 1), ('flight', 1), ('really good idea', 1), ('a weekend', 1), ('your request \" supervisor', 1), ('uber driver', 1), ('more explanation', 1), ('my take', 1), ('72h', 1), ('chance', 1), ('nore', 1), ('only the difference', 1), ('nice people', 1), ('Not everything', 1), ('some tinfoil hat conspiracy', 1), ('this sub', 1), ('the minimum wage workers', 1), ('another country', 1), ('your tip money', 1), ('drive time', 1), ('compensation', 1), ('only him', 1), ('other agents', 1), ('another advice', 1), ('the wrong department', 1), ('the other agent', 1), ('the right department', 1), ('two option', 1), ('another agent', 1), ('the same untill', 1), ('the lie', 1), ('lesson', 1), ('if he', 1), ('this compensation', 1), ('no supervisors', 1), ('this time', 1), ('some financial department', 1), ('my last two deliveries', 1), ('no issue', 1), ('either order', 1), (' Sus AF', 1), ('almost an hr', 1), ('full tip', 1), ('these guys', 1), ('the acutal words', 1), ('this call', 1), (\"F'n\", 1), ('very many good orders', 1), ('Haha', 1), ('a Union', 1), ('the employment court', 1), ('the judge', 1), ('the contractors', 1), ('employees', 1), ('its ruling', 1), ('The governments', 1), ('And Uber', 1), ('deep pockets', 1), ('The', 1), ('the government', 1), ('a deal', 1), ('The government', 1), ('Such a dodgy company', 1), ('that part', 1), ('getting paid \" part', 1), ('Wholesome interaction', 1), ('peers', 1), ('higher education', 1), ('English', 1), ('my freind', 1), ('a real job', 1), ('good time', 1), ('evening', 1), ('only supervisor', 1), ('a gumball', 1), ('look', 1), ('our new found wealth', 1), ('😀', 1), (' miscellaneous payments', 1), ('wallet', 1), ('a new hope', 1), ('Two drivers', 1), ('the same name', 1), ('a Mike', 1), ('two people', 1), ('the soup', 1), ('sandwich', 1), ('soup tho', 1), ('a maruchan', 1), ('all support', 1), ('just the food', 1), ('s', 1), ('the Pepsi', 1), ('the update', 1), ('that 🤣🤣 silly Reddit', 1), ('a reorder', 1), ('Eye', 1), ('The second driver', 1), ('the order items', 1), ('just a Pepsi', 1), ('the food items', 1), ('many dishonest drivers', 1), ('also careless ones', 1), ('TWO drivers', 1), ('only the one', 1), ('the drink', 1), ('a whole different level', 1), ('half the time', 1), ('a free lunch', 1), ('a soda', 1), (' restaurant', 1), ('not same driver', 1), ('bad karma', 1), ('your part', 1), ('your issue', 1), ('my man', 1), ('postmates', 1), ('your grammar school', 1), ('😆 🤣 😂', 1), ('my sanity', 1), ('a regular ping', 1), ('an ice cream shop', 1), (\"guest's house\", 1), ('this stupid app', 1), ('new offers', 1), ('two kids', 1), ('\"ICE CREEAAAMMM', 1), ('no adults', 1), ('sight', 1), ('a jerk', 1), ('their mom', 1), ('Uh uber delivery', 1), ('Your mom', 1), ('a good stranger', 1), ('ice cream', 1), ('\\\\*awkward smile\\\\', 1), ('a complete idiot', 1), ('the dad', 1), ('by far a top 5 weird delivery', 1), ('5 tho', 1), ('*** moron', 1), ('a mind control tool', 1), ('psychology', 1), ('one single order', 1), ('my entire career', 1), ('the one order', 1), ('the odds', 1), ('better odds', 1), ('$125 instacart trips', 1), ('a $14 order', 1), ('your fare', 1), ('Good luck pal', 1), ('a “claim', 1), ('recycling', 1), ('a better use', 1), ('customer service', 1), ('56 cents', 1), ('a taken tip', 1), ('a .6 mile delivery', 1), ('a shit order', 1), ('SHIT ORDERS', 1), (', chill dude', 1), ('a $4 double order', 1), ('its only good', 1), ('extra money', 1), ('not deliveries', 1), ('your prop', 1), ('cali', 1), ('a heartbreaking quote', 1), (\"the victim's mother\", 1), ('her victim impact statement', 1), (\"the murderer's sentencing\", 1), ('Ryan', 1), ('her life', 1), ('your big plans', 1), ('a loved one', 1), ('the same fists', 1), ('a soccer ball', 1), ('your child', 1), ('the same feet', 1), ('the head', 1), ('stomach', 1), ('choices', 1), ('consequences', 1), ('your choices', 1), ('the neck', 1), ('Another tip', 1), ('all drivers', 1), ('the Citizen app', 1), ('police activity', 1), ('what areas', 1), ('alert', 1), ('just crime', 1), ('bad drivers', 1), ('a super creepy house', 1), ('a dead end street', 1), ('a pack', 1), ('about 8pm', 1), ('The idiot customer', 1), ('a half mile, steep, rocky, unlit path', 1), ('his home', 1), ('Crime', 1), (', crashes', 1), ('our chances', 1), ('a taser', 1), ('my purse', 1), ('any policies', 1), ('my boyfriend', 1), ('speed dial', 1), ('all the local police', 1), ('fire stations', 1), ('safe everyone', 1), ('the story', 1), ('the Stanford campus', 1), ('a female', 1), ('a sketchy neighbourhood or alcohol order', 1), ('a few weird or awkward situations', 1), ('Haltom areas', 1), ('more Alliance/Keller side', 1), ('dumb people', 1), ('two chops', 1), ('my pants', 1), ('an one', 1), ('my person', 1), ('the victim', 1), ('Situational awareness', 1), ('one hand', 1), ('an extremely sad story', 1), ('Prayers', 1), ('her family', 1), ('☹️', 1), ('three lives', 1), ('a thoughtless and impulsive decision', 1), ('all the dark sketchy gates', 1), ('This guy', 1), ('my door', 1), ('Short term delivery driver', 1), ('two months', 1), ('Too many potentially dangerous issues', 1), ('close calls', 1), ('diminished earnings', 1), ('bad experiences', 1), ('Now this', 1), ('reasonably good earnings', 1), ('Sue Uber', 1), ('his door', 1), ('The car', 1), ('what weapons', 1), ('drop offs', 1), ('Dogs', 1), ('my vehicle', 1), ('your keys', 1), ('surroundings', 1), ('distance limits', 1), ('night delivery', 1), ('No more than 3 miles tops', 1), ('any direction', 1), ('These limits', 1), ('bad neighborhoods', 1), ('a guarantee', 1), ('dangerous surprises', 1), ('a creepy house', 1), ('a dark street', 1), ('female drivers', 1), ('a smaller delivery area', 1), ('all the apartment layouts', 1), ('a list', 1), ('gate codes', 1), ('This one place', 1), ('their back resident gate', 1), ('constant use', 1), ('all the time', 1), ('the same area', 1), ('these helpful shortcuts', 1), ('bad ratings', 1), ('the shake', 1), ('super sketch', 1), ('Hard working innocent victims', 1), ('the justice', 1), ('The liability', 1), ('our personal vehicles', 1), ('pause', 1), ('our personal limitations', 1), ('longer distance trips', 1), ('a fairly dense urban area', 1), ('my comfort level', 1), ('LA traffic', 1), ('Much respect', 1), ('https://www.nbcdfw.com/news/local/convicted-17-year-old-sentenced-in-death-of-mother-working-as-uber-eats-driver/3217293/?amp=1', 1), ('Comfort level', 1), ('an excellent way', 1), ('Women', 1), ('a target', 1), ('your instinct', 1), ('this part time', 1), ('a woman', 1), ('the deliveries', 1), ('over 3 miles', 1), ('rough/low income/shady/dangerous neighborhoods', 1), ('a distance', 1), ('my damn boundaries', 1), ('people’s doorsteps', 1), ('late night deliveries', 1), ('apartment buildings', 1), ('GoPuff', 1), ('super unsafe areas', 1), ('a warehouse', 1), ('randomly assigned orders', 1), ('independent contractors', 1), ('our rights', 1), ('a delivery', 1), ('that way', 1), ('full control', 1), ('which orders', 1), ('better safety features', 1), ('my delivery area', 1), ('the evenings', 1), ('a nice area', 1), ('10:00 pm', 1), ('this same crap', 1), ('his active time', 1), ('his prop', 1), ('a pattern', 1), ('emails', 1), ('Collusion', 1), ('a notice', 1), ('any penalty', 1), ('that behavior', 1), ('no penalty', 1), ('fraudulent activity', 1), ('everyone’s advice', 1), ('the behavior', 1), ('both orders', 1), ('Uber Cash', 1), ('the activity', 1), ('a few blocks radius', 1), ('multi apps', 1), ('your main source', 1), ('income', 1), ('its a bad idea', 1), ('whatever apps', 1), ('the other ones', 1), ('a single word', 1), ('their rules', 1), ('the merchants', 1), ('certain CVS stores', 1), ('their pickup instructions', 1), ('the clerk', 1), ('a reward card', 1), ('a pretty low level offense', 1), ('an offense', 1), ('my loyalty card', 1), ('my iPhone wallet', 1), ('the sale prices', 1), ('my shop', 1), ('your Plus card', 1), ('low self-esteem', 1), ('their earnings', 1), ('some good money', 1), ('\\n\\nhttps://preview.redd.it/plzcmrfo25pa1.png?width=720&format=pjpg&auto=webp&v=enabled&s=5392cf6516202fea62c522de7960669f172ab8b6', 1), ('How many hours', 1), ('A doctor', 1), ('the hours', 1), ('an evening trip', 1), ('3 trips', 1), ('a Monday', 1), ('at least 10 hours', 1), ('$20/hr minimum', 1), ('My market', 1), ('one week', 1), ('Probably all day', 1), ('Tomatoes', 1), ('🍅', 1), (' oranges', 1), ('🍊', 1), ('a plumber', 1), ('Market saturation', 1), ('a shit', 1), ('kid', 1), ('[gif](giphy|AAIYDMjsxkv3q', 1), ('other people’s comments', 1), ('a great day', 1), ('my comment', 1), ('this stuff', 1), ('the internet', 1), ('Only clown', 1), ('bud', 1), ('less than a year', 1), ('10 times more comments', 1), ('a life', 1), ('Those number', 1), ('karma points', 1), ('total comments', 1), ('🏻\\u200d', 1), ('♂️.', 1), ('a 1 watt lightbulb', 1), ('unicorn', 1), ('cat shit', 1), ('my country', 1), ('That unicorn', 1), ('the wild', 1), ('fucking ass', 1), ('my Monday evening', 1), ('a pot', 1), ('a stew', 1), ('a misplaced decimal', 1), ('$82.30 right', 1), ('a Walmart route', 1), ('the horn', 1), ('the butt', 1), ('Nevermind', 1), ('any hidden tips', 1), (' nice customers', 1), ('humanity', 1), ('over 2k orders', 1), ('only issue', 1), ('complete shit', 1), ('Crashes', 1), ('the average', 1), ('every 2 hours', 1), ('The DD customer service', 1), ('5 different platforms', 1), ('$200 days', 1), ('the teens', 1), ('Amazon Flex', 1), ('the Door Dash waitlist', 1), ('a year', 1), ('any moment', 1), ('no real recourse', 1), ('a different area', 1), ('a town', 1), ('this sarcasm', 1), ('the kool aid', 1), ('$4 tip', 1), ('Tipper', 1), ('non tipper', 1), ('\\n\\nhttps://preview.redd.it/2qd11oc5p4pa1.jpeg?width=1440&format=pjpg&auto=webp&v=enabled&s=27a7d5093da5a0d400791b8edb075652210dd8f1\\n\\nsimilar result', 1), ('13.7 miles LMAO', 1), ('a shitty order', 1), ('a low tip order', 1), ('17 bucks', 1), ('pretty meh', 1), ('super meh', 1), ('udm', 1), ('wizard juice', 1), ('65/35 ratio', 1), ('wizard', 1), ('no ice', 1), ('2x jolly rancher', 1), ('double pump caramel swirl', 1), ('low-fat horse milk', 1), ('fat free whip', 1), ('69% cacao shavings', 1), ('ice water', 1), ('a 5-hour energy shot', 1), ('a blueberry Red Bull', 1), ('Cocaine', 1), ('my new favorite', 1), ('the original one', 1), ('☕️', 1), ('great flavors', 1), ('2 cups', 1), ('other vitamins', 1), ('minerals', 1), ('Sucralose', 1), ('the body', 1), ('Water', 1), ('ALDIs', 1), ('their version', 1), ('Red Thunder', 1), ('Tastes', 1), ('R.B.', 1), ('the same caffeine', 1), ('nutrients', 1), ('a 4 case', 1), ('12 oz cans', 1), ('zoa', 1), ('the rocks', 1), ('The white monster', 1), ('Guayaki brand', 1), ('no coloring', 1), ('Stevia', 1), ('the stomach', 1), ('Monster/Rockstar', 1), ('Mango Loco Monster', 1), ('Tropical redbull', 1), ('my current favorites', 1), ('12 oz Red Bull sugar', 1), ('dollar tree', 1), ('a good option', 1), ('monster/3d/bang/rockstar', 1), ('brands', 1), ('venom', 1), ('Rockstar Punched Fruit Punch', 1), ('the red', 1), ('B vitamins', 1), ('artificial sweeteners', 1), ('Sunkist Zero', 1), ('my sugar and carb intake', 1), ('work days', 1), ('carbs', 1), ('grilled chicken salads', 1), ('the burger', 1), ('sugar free drinks', 1), ('Cherry c4', 1), ('the white monster', 1), ('now all', 1), ('bigger sizes', 1), ('a better blend', 1), ('10 calories', 1), ('both 160mg caf', 1), ('the largest iced vanilla coffee', 1), ('McDonalds', 1), ('nut allergies', 1), ('the Guayaki Yerba Mate Bluephoria', 1), ('the small red bull green edition', 1), ('Lot', 1), ('my childhood', 1), ('a weird aftertaste', 1), ('Monster Ultra', 1), ('the original green monster', 1), ('the off chance', 1), ('either a Monster Ultra', 1), ('The Doctor flavour', 1), ('Cawfee', 1), ('Always coffee', 1), ('Light cream', 1), ('Metallica', 1), ('a low tipper lol', 1), ('Morning - Cup', 1), (\"\\n\\nA little later - McDonald's, large mocha frappe\", 1), ('a NOS Energy drink', 1), ('https://preview.redd.it/jc0xbupdw6pa1.jpeg?width=3024&format=pjpg&auto=webp&v=enabled&s=9df5f8390bc27c3abdc5960a31e733a088db0b3e', 1), ('carbonation', 1), ('Bangs', 1), ('Panera bread', 1), ('a month sip club', 1), ('the first month', 1), ('the lemonade chargers', 1), ('3 large drinks', 1), ('refills', 1), ('any drink', 1), ('the drink station', 1), ('the NOS energy drinks', 1), ('Gfuel', 1), ('my second', 1), ('my guy', 1), ('some cuban coffe', 1), ('care', 1), ('no energy drink', 1), ('Just a perfect hazelnut French vanilla', 1), ('fresh ground coffee', 1), ('About 4-5 cups', 1), ('best results', 1), ('Zero sugar monster', 1), ('Coconut water', 1), ('Sugar free red bull', 1), ('red bull', 1), ('The can', 1), ('aids', 1), ('sugar free versions', 1), ('Decent amount', 1), ('good taste', 1), ('GFUEL “hype sauce', 1), ('Bing Cotton Candy', 1), ('the Monster Zero Sugar line', 1), ('orange', 1), ('16oz cans', 1), ('RB', 1), ('b4', 1), ('thou', 1), ('the starbucks', 1), ('a 5 hour energy', 1), ('Blueberry', 1), ('too many times', 1), ('the energy', 1), ('dollar ratio', 1), ('every way', 1), ('Your fancy', 1), ('all the plebs', 1), ('Planet Fitness water', 1), ('only a dollar', 1), ('the black card', 1), ('Aldi', 1), ('LOVE', 1), ('berry dude', 1), ('apple juice', 1), ('10 hours', 1), ('the only brand', 1), ('my #1 spot', 1), ('6 deal', 1), ('the crackhead effect', 1), ('4.50 deal', 1), ('a break', 1), ('a chamoy flavor', 1), ('a podcast', 1), ('a dollar tree', 1), ('The blue one', 1), ('lot', 1), ('my energy levels', 1), ('a burger', 1), ('a shake', 1), ('the most hype', 1), ('the cherry', 1), ('the Skittles flavor', 1), ('a herbalife drink', 1), ('a 12oz', 1), ('my eye', 1), ('that one', 1), ('the ghost', 1), ('c4 right', 1), ('a pre workout', 1), ('cawfee', 1), ('the consensus', 1), ('the black cans', 1), ('a good deal', 1), ('a panera', 1), ('the same reason', 1), ('mid torso', 1), ('hip level lol', 1), ('some Walmarts', 1), ('My favorite', 1), ('the breezeberry one', 1), ('other flavors', 1), ('The purple Alani', 1), ('cosmic stardust', 1), ('such a cool unique flavor', 1), ('g fuel', 1), ('my bevs', 1), ('the occasional black coffee', 1), ('a double black expresso', 1), ('black coffee', 1), ('a fellow man', 1), ('Where good cost', 1), ('effective coffee', 1), ('your man boobs', 1), ('coconut water', 1), ('Classic', 1), ('my all-time favorite', 1), ('a thick mouth feeling', 1), ('mountain dew', 1), ('the scent', 1), ('a dirty nutsack', 1), ('a hint', 1), ('a dirty armpit', 1), ('Bang cotton candy', 1), ('custom order', 1), ('the front  door', 1), (\"Roscoe's Body Shop\", 1), ('East Harlem', 1), ('the first left', 1), ('the hallway', 1), ('the fifth door', 1), ('a 2 second pause', 1), ('each knock', 1), ('the code word', 1), ('Chappaquiddick', 1), ('the chow door', 1), ('Monero', 1), ('your MyMonero wallet address', 1), ('handy Scan', 1), ('the QR code', 1), ('Chainsaw', 1), ('the barista', 1), ('going!They', 1), ('the caffeine', 1), ('the same price', 1), ('my favorite', 1), ('any flavors', 1), ('My current favorite', 1), ('Neapolitan', 1), ('Razzleberry', 1), ('blue raspberry', 1), ('white gummy bear', 1), ('Another good option', 1), ('a “powdered drink” taste', 1), ('all their flavors', 1), ('your own powdered drink', 1), ('a wide range', 1), ('their absolute zeros', 1), ('a strawberry cream flavor', 1), ('\\n\\nRed Bull', 1), ('their lemon flavor', 1), ('champagne flavor', 1), ('Nerd', 1), ('that ghost drink thing', 1), ('yellow', 1), ('candy flavors', 1), ('your own risk', 1), ('preworkout', 1), ('ants', 1), ('your skin', 1), ('Costco', 1), ('under 2 dollars', 1), ('Black Rifle Triple Shot', 1), ('300 mg caffeine', 1), ('their Espresso', 1), ('200 mg', 1), ('a couple more flavor options', 1), (\"Starbucks' options\", 1), ('just the perfect amount', 1), ('any bitterness', 1), ('the mood', 1), ('my go-to', 1), ('a Bang', 1), ('South American caffeine-rich herbal drink', 1), ('my 300 ml caffeine', 1), ('a high caffeine tolerance', 1), ('that energy drink', 1), ('Targets', 1), ('GNC', 1), ('gfuel', 1), ('that red bull', 1), ('big and squishy 🤣', 1), ('a dozen flavors', 1), ('cotton candy flavor', 1), ('C4 Starburst', 1), ('monero', 1), ('The same price', 1), ('the powder', 1), ('the ghost drinks', 1), ('12 oz', 1), ('a bigger size', 1), ('just 200mg', 1), ('enough man', 1), ('Boujie', 1), ('Gruel', 1), ('dweebs', 1), ('any cost-effective places', 1), ('strong coffees', 1), ('Fancy', 1), ('monsters', 1), ('Skittles', 1), ('a couple cases', 1), ('sour', 1), ('the blue one', 1), ('candy', 1), ('my thing', 1), ('Winco', 1), ('Same, bro', 1), ('blue slush', 1), ('ice', 1), ('any latin stuff', 1), ('that new zero sugar', 1), ('The original', 1), ('my worst flavor', 1), ('the first ever monster', 1), ('a restaraunt', 1), ('a bottle', 1), ('the real thing', 1), ('these online', 1), ('a smushy face', 1), ('Vons', 1), ('downtown', 1), ('the coffees', 1), ('a fan', 1), ('puberty', 1), ('the coffee flavors', 1), ('a couple walls', 1), ('the shrubs', 1), ('a legit energy drink', 1), ('https://drinkcocaine.com/', 1), ('some stromg coffee', 1), ('ots', 1), ('their lemonade tea one', 1), ('a last resort', 1), ('good Bush', 1), ('Wall', 1), ('a coffee', 1), ('another coffee', 1), (', maybe an energy drink', 1), ('a hit or miss flavor', 1), ('a $300 order', 1), ('class', 1), ('Heh, \"30 days', 1), ('those sammiches', 1), ('🙄', 1), ('that scale', 1), ('pretty touch', 1), ('1 sandwich', 1), ('the wrong label', 1), ('any case', 1), ('an internet “article', 1), ('the only rational thing', 1), ('elementary school', 1), ('subway', 1), ('several sandwiches', 1), ('portions', 1), ('one piece', 1), ('lettuce', 1), ('a loaf', 1), ('bread', 1), ('My dad', 1), ('No need', 1), ('shame', 1), ('Your dad', 1), ('a good guy', 1), ('🙂', 1), ('Falls', 1), ('unicorn criteria', 1), ('some crazy stuff', 1), ('tech support', 1), ('a different company', 1), ('+ tips', 1), ('My boss', 1), ('big cater orders', 1), ('good people', 1), ('the big $$ orders', 1), ('boss', 1), ('a cater order', 1), (\"the Chili's 10 miles\", 1), ('cash', 1), ('the right place', 1), ('the right time', 1), ('some big figures', 1), ('my coworkers', 1), ('other companies', 1), ('a 3 digit tip', 1), ('roughly 6 years', 1), ('different platforms/companies', 1), ('promoted positions', 1), ('these occurrences', 1), ('Lol maybe tip bait', 1), ('the scraps', 1), (\"y'\", 1), ('less than 2 hours', 1), ('Yeah ur tripping balls man', 1), ('the exact same amount', 1), ('a high-tipping single instacart order', 1), ('30 mins', 1), ('that 2 hr 35min', 1), ('40 fucking miles', 1), ('less than two hours', 1), ('The icon', 1), ('the taxi service', 1), ('\"Uberx', 1), ('the same icon', 1), ('only the right', 1), ('(rides', 1), ('a Lord', 1), ('the Rings reference', 1), ('one driver', 1), ('Monk mode', 1), ('a LOTR reference', 1), ('your past trips', 1), ('payment', 1), ('the sun', 1), ('a similiar experience', 1), ('https://help.uber.com/driving-and-delivering/article/what-if-the-order-i-was-delivering-gets-cancelled?nodeId=1eef2f2e-192b-4eae-9aac-58e10f90cc8a', 1), ('the pick up fee', 1), ('the order details', 1), ('message', 1), ('ubers 2022 q4 report', 1), ('your answear', 1), ('what page', 1), ('Biggest WM order', 1), ('patient', 1), ('over 3 hours', 1), ('my luck', 1), ('a WM single', 1), ('great score', 1), ('a $79 triple express delivery', 1), ('this day', 1), ('the biggest order', 1), ('about 1 hr 10 min', 1), ('THIS', 1), ('a wal mart order', 1), ('Day', 1), ('Last two Walmart orders', 1), ('Walmart tips', 1), ('the tip bait', 1), ('Wow nice one', 1), ('Surprisingly nothing', 1), ('its a package', 1), ('package', 1), ('aka messenger', 1), ('a higher fee', 1), ('that driver', 1), ('Wal-Mart deliveries', 1), ('the high estimated payout', 1), ('Anything', 1), ('/mile', 1), ('walmart', 1), ('the walmart staff', 1), ('🥺', 1), ('my trunk', 1), ('2 GrubHub bags', 1), ('Bags', 1), ('must', 1), ('my stuff', 1), ('a fleece lined flannel shirt', 1), ('Works', 1), ('large bags', 1), ('the hot bag', 1), ('reasonably short trips', 1), ('a bad idea', 1), ('their policy', 1), ('No win', 1), ('their cars', 1), ('their floor', 1), ('2 or 3 orders', 1), ('individual orders', 1), ('a triple stack', 1), ('a restaurant ask', 1), ('that one,  2 smaller bags', 1), ('a thermo drink holder', 1), ('The big one', 1), ('another step', 1), ('my rear door', 1), ('every door', 1), ('already(3 months', 1), ('longer distance/time orders', 1), ('more than half', 1), ('the houses', 1), ('cameras', 1), ('the bags', 1), ('Minnesota', 1), ('over 9000 deliveries', 1), ('one 4 star review', 1), ('two Johns order', 1), ('the same place', 1), ('the 1st Johns food', 1), ('then the second John’s food', 1), ('my hotbag', 1), ('John', 1), ('his food', 1), ('14-29 custom items', 1), ('a pickup', 1), ('Jersey Mikes', 1), ('pretty funny 😂 smooth drop offs', 1)]\n"
     ]
    }
   ],
   "source": [
    "import operator\n",
    "np_dict = {}\n",
    "for doc in docs:\n",
    "    for np in doc.noun_chunks:\n",
    "        np_dict[np.text]=np_dict.get(np.text,0)+1\n",
    "sortedDict = sorted(np_dict.items(),key=operator.itemgetter(1),reverse=True)\n",
    "print(sortedDict)"
   ]
  },
  {
   "cell_type": "code",
   "execution_count": 20,
   "id": "b3983efc",
   "metadata": {},
   "outputs": [
    {
     "name": "stdout",
     "output_type": "stream",
     "text": [
      "[('2', 41), ('first', 36), ('two', 35), ('one', 32), ('3', 30), ('today', 26), ('Uber', 26), ('🤣', 24), ('second', 21), ('1', 21), ('5', 20), ('10', 18), ('4', 18), ('UE', 17), ('three', 14), ('8', 14), ('yesterday', 14), ('22', 12), ('15', 12), ('tonight', 12), ('LA', 12), ('Instacart', 11), ('100%', 11), ('100', 10), ('6', 10), ('all day', 9), ('Walmart', 9), ('400', 9), ('half', 8), ('10 minutes', 8), ('50', 8), ('this week', 8), ('Red Bull', 8), ('Toronto', 7), ('150', 7), ('California', 7), ('One', 7), ('20', 7), ('an hour', 7), ('Santa Monica', 7), ('the day', 6), ('Panera', 6), ('25', 6), ('14', 6), ('Sunday', 6), ('7', 6), ('40', 6), ('20 minutes', 6), ('a mile', 6), ('12', 6), ('Prop 22', 6), ('UberEats', 6), ('Alani', 6), ('Vancouver', 5), ('Today', 5), ('Doordash', 5), ('30', 5), ('about 10 minutes', 5), ('NYC', 5), ('Reddit', 5), ('2 hours', 5), ('hours', 4), ('a week', 4), ('a month', 4), ('200', 4), ('0', 4), ('3 hours', 4), ('2 miles', 4), ('Atleast', 4), ('the end of the day', 4), ('zero', 4), ('18', 4), ('US', 4), ('99%', 4), ('Love', 4), ('Seattle', 4), ('8 minutes', 4), ('Monday', 4), ('night', 4), ('Meet Outside', 4), ('Cali', 4), ('3 miles', 4), ('less than $10', 3), ('24 hours', 3), ('13', 3), ('Uber Eats', 3), ('hourly', 3), ('11', 3), ('30 minutes', 3), ('months', 3), ('3rd', 3), ('McDonald’s', 3), ('New Zealand', 3), ('years', 3), ('last night', 3), ('a few hours', 3), ('45', 3), ('Amazon', 3), ('300', 3), ('a half hour', 3), ('last year', 3), ('Texas', 3), ('tomorrow', 3), ('Kimberly', 3), ('First', 3), ('PIN', 3), ('4 hours', 3), ('80', 3), ('a few minutes', 3), ('daily', 3), ('2 minutes', 3), ('7 minutes', 3), ('last week', 3), ('Tuesday', 3), ('Thursday', 3), ('21', 3), ('5 minutes', 3), ('Meet at Drivers Car', 3), ('Friday', 3), ('evening', 3), ('Uber Connect', 3), ('20%', 3), ('IRS', 3), ('walmart', 3), ('12 oz', 3), ('711', 3), ('Chicago', 2), ('Canada', 2), ('Some days', 2), ('last summer', 2), ('USA', 2), ('these days', 2), ('everyday', 2), ('the month', 2), ('weeks', 2), ('10 miles', 2), ('12 miles', 2), ('the last year', 2), ('year', 2), ('Indian', 2), ('all week', 2), ('this yesterday', 2), ('15 min', 2), ('HEB', 2), ('\\U0001f979', 2), ('AF', 2), ('Shipt', 2), ('Dallas', 2), ('Fort Worth', 2), ('American', 2), ('Ubereats', 2), ('15 minutes', 2), ('about 20 minutes', 2), ('32', 2), ('burger king', 2), ('GrubHub', 2), ('over an hour', 2), ('nyc', 2), ('Ubers', 2), ('Colorado', 2), ('India', 2), ('💀', 2), ('America', 2), ('elantra', 2), ('Hyundai', 2), ('Elantra', 2), ('😂', 2), ('a few miles', 2), ('2.75', 2), ('7.75', 2), ('25%', 2), ('about 80%', 2), ('like 70%', 2), ('3.9 miles', 2), ('NJ', 2), ('10%', 2), ('30/40/50%', 2), ('5%', 2), ('a couple weeks ago', 2), ('Para', 2), ('week', 2), ('1st', 2), ('90%', 2), ('19.77', 2), ('4.50', 2), ('😱', 2), ('10+ minutes', 2), ('DFW', 2), ('last weekend', 2), ('1%', 2), ('24%', 2), ('Target', 2), ('30 min', 2), ('1000', 2), ('24 hrs', 2), ('weekly', 2), ('Cane', 2), ('DoorDash', 2), ('a ton', 2), ('that 8 minutes', 2), ('18oz', 2), ('Vegas', 2), ('Stay In Car', 2), ('The Sunglass Spot', 2), ('2 days later', 2), ('Saturday', 2), ('Boston', 2), ('188', 2), ('Los Angeles', 2), ('140', 2), ('Brooklyn', 2), ('$2 mile', 2), ('Florida', 2), ('several hours', 2), ('6 miles', 2), ('a penny', 2), ('Ooooo', 2), ('72h', 2), ('Pepsi', 2), ('2 years', 2), ('🤡', 2), ('every 2 hours', 2), ('13 miles', 2), ('Kroger', 2), ('Yerba Mate', 2), ('Monster Ultra', 2), ('the first month', 2), ('Rockstar', 2), ('C4', 2), ('Skittles', 2), ('Bang', 2), ('97', 2), ('Johns', 2), ('Three dollars', 1), ('Three', 1), ('5-10', 1), ('8-10 hours', 1), ('about $0-$6', 1), ('a 6hr', 1), ('less than $100', 1), ('Mcdonalds', 1), ('toronto', 1), ('8 AM', 1), ('30 hours', 1), ('Stick', 1), ('Chiraq', 1), ('11 am', 1), ('2 pm', 1), ('Danforth / Spadina', 1), ('Christie', 1), ('the other days', 1), ('12 hrs', 1), ('close to $10', 1), ('1 whole hour', 1), ('4-5 hours', 1), ('around 5cad', 1), ('12-6pm', 1), ('about $6-12', 1), ('30 bux', 1), ('2 hrs', 1), ('another 2 hrs', 1), ('$5 dollars', 1), ('About 775', 1), ('1200', 1), ('2000 miles', 1), ('900', 1), ('500', 1), ('every day/every week', 1), ('72 hour', 1), ('Uber X.', 1), ('50+ hour', 1), ('8 to 5', 1), ('9 hour', 1), ('9 hours', 1), ('\\U0001faab', 1), ('AVA', 1), ('Halloween', 1), ('canada', 1), ('close to an hour', 1), ('an extra hour', 1), ('Okkk', 1), ('only a few cents', 1), ('Drizzly', 1), ('The other week', 1), ('Pomona', 1), ('11pm', 1), ('https://preview.redd.it/buxwyt7ssvoa1.jpeg?width=828&format=pjpg&auto=webp&v=enabled&s=7d6c7046e1ce61f3dc29d2e0bfea7feebd7fda74', 1), ('& Boston Market', 1), ('6 months ago', 1), ('118', 1), ('🤝', 1), ('Cleveland', 1), ('Ohio', 1), ('5 hours', 1), ('166', 1), ('One $4', 1), ('Thai', 1), ('one last night', 1), ('less than a mile', 1), ('Third', 1), ('a couple months', 1), ('like 12 hours', 1), ('five', 1), ('the last month', 1), ('about a month ago', 1), ('$20 and $25', 1), ('this a few days', 1), ('these past few weeks', 1), ('several hours later', 1), ('2023', 1), ('the four years', 1), ('This past month', 1), ('about 3', 1), ('26%', 1), ('Huhh', 1), ('Wete', 1), ('😩🤣', 1), ('afternoon', 1), ('netxtime', 1), ('3 dollar', 1), ('7 miles', 1), ('4 miles', 1), ('over $200', 1), ('Harriet Tubman', 1), ('u.s.', 1), ('💀💀', 1), ('Cayse', 1), ('😂😂😂', 1), ('Whole Foods', 1), ('40 minutes', 1), ('walgreens', 1), ('Meyer', 1), ('Hemp Hearts', 1), ('Tom', 1), ('Albertsons', 1), ('under a minute', 1), ('under 10 miles', 1), ('less than an hour', 1), ('less than 45 minutes', 1), ('Midol', 1), ('Walgreens', 1), ('🏼\\u200d', 1), ('♀', 1), ('West Austin', 1), ('the years', 1), (\"Doritos' lmao\", 1), ('50-100$', 1), ('10 mins', 1), ('Tysm', 1), ('15-20%', 1), ('Covid', 1), ('only about 6', 1), ('Spark', 1), ('UE/DD/ETC', 1), ('chinese', 1), ('only $1.00', 1), ('months ago', 1), ('Interstate', 1), ('3 weeks', 1), ('about 9 miles', 1), ('Caitlin', 1), ('Kimbo', 1), ('GH', 1), ('IC', 1), ('Wendy', 1), ('8th', 1), ('about $2.00', 1), ('at least $20', 1), ('EBike', 1), ('2L', 1), ('At least one', 1), ('at least 2', 1), ('17.50', 1), ('17 fiddy', 1), ('Customer', 1), ('✊', 1), ('4th', 1), ('Montreal', 1), ('a couple days', 1), ('GA', 1), ('a week or so', 1), ('https://www.reddit.com/r/UberEATS/comments/11w9fxz/to_all_drivers_help_needed/jcznfbh/?utm_source=share&utm_medium=ios_app&utm_name=iossmf&context=3', 1), ('less than 10 mins', 1), ('1pm', 1), ('8pm', 1), ('Dunkin', 1), ('at least 4-6', 1), ('🍯', 1), ('Dannnng', 1), ('cai', 1), ('20 year old', 1), ('Momo', 1), ('Duncan', 1), ('up to an hour', 1), ('more than 12', 1), ('at least $30', 1), ('Super', 1), ('VQ', 1), ('mfs', 1), ('😆', 1), ('34', 1), ('6.8mi', 1), ('a few months ago', 1), ('5 in the afternoon', 1), ('56', 1), ('https://preview.redd.it/hme6m0mn20pa1.jpeg?width=1053&format=pjpg&auto=webp&v=enabled&s=fed77d800930209ec41a98a9e05f1bba5366eaff', 1), ('Cruise', 1), ('Tesla', 1), ('every week', 1), ('https://preview.redd.it/irnvp90180pa1.jpeg?width=1079&format=pjpg&auto=webp&v=enabled&s=8d6eaf9f2047c7afad744164f5ea5d71567ddabb', 1), ('https://preview.redd.it/tle589f5jzoa1.jpeg?width=1053&format=pjpg&auto=webp&v=enabled&s=5fb858d4d80e0392fb3695b84d02867a212eed33', 1), ('229', 1), ('https://preview.redd.it/byhupb7zlzoa1.jpeg?width=4032&format=pjpg&auto=webp&v=enabled&s=b0371a7f0ec6477ec29d8cec145e8bd1ca8125a8', 1), ('2004', 1), ('Ig @ricer.elantra', 1), ('3\\\\.', 1), ('0 miles', 1), ('every couple of second', 1), ('Trip Radar', 1), ('like 40%', 1), ('2.34', 1), ('8 MILES', 1), ('YT', 1), ('about $10', 1), ('25 year old', 1), ('3-4', 1), ('a 3 miles', 1), ('tons', 1), ('120', 1), ('3-4 hours', 1), ('a couple of hours', 1), ('3-5 days', 1), ('Geico', 1), ('the extra per month', 1), ('Buffalo Wild Wing', 1), ('$31 bucks', 1), ('a extra 10 min', 1), ('Wingstop', 1), ('2nd', 1), ('Half', 1), ('Greenlight', 1), ('$15', 1), ('12.25', 1), ('a 0.5 mile', 1), ('10.85', 1), ('$0 dollars', 1), ('13.45', 1), ('2.60', 1), ('Netherlands', 1), ('400 miles', 1), ('america', 1), ('“100 dollars', 1), ('Bergen', 1), ('nj', 1), ('IANAL', 1), ('at least 20%', 1), ('only one', 1), ('12.97', 1), ('ten years from now', 1), ('like 5 hours', 1), ('a few seconds', 1), ('🙏', 1), ('🦄', 1), ('10 to 1', 1), ('1 hour', 1), ('Universe', 1), ('the past 2 days', 1), ('96%', 1), ('94', 1), ('LI', 1), ('1 hour and 15 minutes', 1), ('29', 1), ('Manhasset', 1), ('less than $1', 1), ('like 30 minutes', 1), ('naaaa', 1), ('Mondays', 1), ('2-3', 1), ('Uber One', 1), ('almost $140 dollars', 1), ('the end of jan', 1), ('around $0.69', 1), ('monthly', 1), ('Netfare', 1), ('the last couple months', 1), ('300 million', 1), ('YouTube', 1), ('10 and 20 thousand', 1), ('the same night', 1), ('14$ n', 1), ('1.65', 1), (\"McDonald's\", 1), ('me.marco', 1), ('SMFH', 1), ('about 15', 1), ('north west', 1), ('17th', 1), ('……', 1), ('Apple Maps', 1), ('Waze', 1), ('Buckhead', 1), ('Brookhaven', 1), ('north Druid', 1), ('overtime hours', 1), ('12.5 hrs', 1), ('Six days', 1), ('75.33 hours', 1), ('921.39', 1), ('921.39/75.33', 1), ('12.5 hour', 1), ('each day', 1), ('a 40 hour week', 1), ('75 hour', 1), ('30 and hour plus 45 an hour', 1), ('12 dollars', 1), ('$4 and $5', 1), ('a slow night', 1), ('Hanlon', 1), ('Razor', 1), ('a few extra bucks', 1), ('15 to 20 minutes', 1), ('16.24', 1), ('25 miles', 1), ('Karens', 1), ('kindve', 1), ('NC', 1), ('4.46', 1), ('2.26', 1), ('at least $40-50', 1), ('Last week', 1), ('15 mile', 1), ('only $12', 1), ('almost 50 minutes', 1), ('27', 1), ('at least $16', 1), ('$20.50 cents', 1), ('an extra $8.50', 1), ('the past two weeks', 1), ('2-$5', 1), ('the last two weeks', 1), ('.01', 1), ('Jaffe Joffer', 1), ('Harry Potter', 1), ('☹', 1), ('😡😡😡😡😡😡', 1), ('Love the Coming to America reference lmao', 1), ('Frenchys', 1), ('10 dollars', 1), ('10$', 1), ('47 dollars', 1), ('0.10', 1), ('0.09', 1), ('over $', 1), ('midnight', 1), ('77.86', 1), ('40 min', 1), ('less than 15 minutes', 1), ('0%', 1), ('$10 2 miles', 1), ('20.55', 1), ('2 mile', 1), ('❤', 1), ('the 10 PM to 4 AM', 1), ('only three', 1), ('six hours', 1), ('up with $100', 1), ('a week ago', 1), ('last month', 1), ('Worst week this year', 1), ('=)', 1), ('an hour 20 minutes', 1), ('19', 1), ('135', 1), ('only two', 1), ('142', 1), ('4 hours last night', 1), ('Wednesday', 1), ('https://preview.redd.it/zi6hj2f8yvoa1.jpeg?width=1179&format=pjpg&auto=webp&v=enabled&s=a2ffe55d4f2eccf919dc928f89cf5f7c2b5c1416', 1), ('18.75', 1), ('14.xx', 1), ('only 1 mile', 1), ('only $14', 1), ('3hrs', 1), ('some time ago', 1), ('this](https://imgur.com', 1), ('188.30', 1), ('12:37AM', 1), ('almost $200', 1), ('about 300 miles', 1), ('usually85-100 dollars', 1), ('Shop & Pay', 1), ('16.75', 1), ('nearly $12', 1), ('Shop', 1), ('Raising Cane’s', 1), ('a Chicken Restaurant', 1), ('about 2 miles', 1), ('Shop n Pay', 1), ('TMZ', 1), ('earlier today', 1), ('Nov. 6, 2015', 1), ('about a month', 1), ('Chicagoland', 1), ('80%', 1), ('SoCal', 1), ('Bellevue', 1), ('Kirkland', 1), ('woodinville', 1), ('Denver', 1), ('Thornton/Northglenn/Westminster', 1), ('Atlanta', 1), ('under two dollars', 1), ('1.80', 1), ('Birmingham', 1), ('England', 1), ('less than 2 miles', 1), ('15 dollars', 1), ('10 bucks', 1), ('less than 20 mins', 1), ('mondays', 1), ('eight', 1), ('50-60%', 1), ('the remaining 20%', 1), ('8.9 miles', 1), ('13.63', 1), ('18 miles', 1), ('9', 1), ('7.6 miles', 1), ('12.50', 1), ('9.9 miles', 1), ('miles than dollars', 1), ('about 5-7', 1), ('Grubhub', 1), ('😒', 1), ('Karen', 1), ('Brutal', 1), ('200dlls', 1), ('the 8 min', 1), ('the eight minutes', 1), ('about 10 min', 1), ('15$', 1), ('97% to 96%', 1), ('UFC', 1), ('Wing Stop', 1), ('about 10', 1), ('Chinese', 1), ('the 8 minutes', 1), ('KFC', 1), ('Ice Cream', 1), ('late nights', 1), ('ASU', 1), ('Tons', 1), ('Fed', 1), ('18 $', 1), ('3000', 1), ('750', 1), ('the Vendor HQ', 1), ('Las Vegas', 1), ('less than a minute last night', 1), ('5 min', 1), ('30 seconds', 1), ('every 2nd', 1), ('8-min', 1), ('all night', 1), ('Orrr', 1), ('all day last week', 1), ('️🙄', 1), ('FL', 1), ('it over 8 minutes', 1), ('No single 8 minutes', 1), ('about $5.80', 1), ('At least a few days', 1), ('7/11', 1), ('7 minutes and 59 seconds', 1), ('5k+', 1), ('the platform years', 1), ('🤭', 1), ('Meet at Door', 1), ('customer--', 1), ('french', 1), ('0.5 miles', 1), ('4hrs', 1), ('2am', 1), ('this weekend', 1), ('all afternoon', 1), ('1300', 1), ('💰', 1), ('Saturday & Sunday', 1), ('160-$170', 1), ('the morning to afternoon', 1), ('Fri', 1), ('5pm', 1), ('the entire week', 1), ('Huntington Beach', 1), ('24.04', 1), ('only 1', 1), ('at least a $5', 1), ('more than $1', 1), ('12+ miles', 1), ('1,530', 1), ('Shop and Pay', 1), ('3 days', 1), ('the week', 1), ('$150 to $200', 1), ('8 hours', 1), ('42', 1), ('7 hours', 1), ('Queens NYC', 1), ('dozens', 1), ('10 11', 1), ('a 150 to 200 dollar', 1), ('about 8 hours', 1), ('Greenpoint Brooklyn', 1), ('hudson County', 1), ('McD', 1), ('a few weeks ago', 1), ('MA', 1), ('New England', 1), ('all next week', 1), ('Red Sox', 1), ('Bruins', 1), ('10pm', 1), ('Uber 4$', 1), ('3$', 1), ('6 hrs', 1), ('midnight last night', 1), ('16 cents', 1), ('only 15 cents', 1), ('0.19', 1), ('next year', 1), ('0.77', 1), ('millions', 1), ('143.05', 1), ('5 cents', 1), ('Wooden Nickles', 1), ('307', 1), ('18 cents', 1), ('7 cents', 1), ('30% to 3%', 1), ('Prop 22 y’', 1), ('Sephora', 1), ('35', 1), ('pch', 1), ('a few weeks', 1), ('Los angeles', 1), ('1 mile', 1), ('Jack', 1), ('Turbed', 1), ('26', 1), ('Rainy days', 1), ('2-3 hours', 1), ('4 dollar', 1), ('all morning', 1), ('$25 plus', 1), ('$40 8 miles', 1), ('Long Beach', 1), ('Yup lmao', 1), ('about $58', 1), ('11am-1pm', 1), ('4pm', 1), ('Lesson', 1), ('about 40', 1), ('PCH', 1), ('9 dollars', 1), ('3 and 4 dollar', 1), ('last Tuesday', 1), ('50% to 14%', 1), ('30k', 1), ('a year 4 hour days', 1), ('30%', 1), ('redondo', 1), ('7 years', 1), ('about an hour', 1), ('5:30', 1), ('hrs', 1), ('Sundays', 1), ('Lexington Ave & East', 1), ('23', 1), ('last Monday', 1), ('80th', 1), ('60 mile', 1), ('flatbush brooklyn', 1), ('Harlem', 1), ('the last few months', 1), ('April', 1), ('between 9:30am and 2pm', 1), ('Blvd', 1), ('Vernon', 1), ('4pm-10pm', 1), ('morning', 1), ('Christmas', 1), ('50$', 1), ('New York City', 1), ('Barclays', 1), ('Greenwich village', 1), ('Manhattan', 1), ('At least $2', 1), ('Max', 1), ('0.5km', 1), ('1km', 1), ('1.5km', 1), ('2km', 1), ('3km', 1), ('3.5km', 1), ('5km', 1), ('anything over 5 miles', 1), ('8 mile', 1), ('no less than $25 &', 1), ('45-50 minutes', 1), ('more than one', 1), ('longer than 3 minutes', 1), ('about 1/3', 1), ('San Diego', 1), ('January', 1), ('two years', 1), ('Detroit', 1), ('this today', 1), ('93', 1), ('a good day', 1), ('around 125 to 140', 1), ('5 hrs', 1), ('a weekend day', 1), ('2021', 1), ('an extra $100', 1), ('two weeks', 1), ('this weeks', 1), ('Damnnn', 1), ('8PM', 1), ('the weekends', 1), ('1.5', 1), ('1.7', 1), ('20 miles', 1), ('3.5', 1), ('20+/hour', 1), ('4ish dollars', 1), ('5 bucks', 1), ('5+ miles', 1), ('Chick-fil-', 1), ('6 dollars', 1), ('more than 10 minutes', 1), ('1-2 minutes', 1), ('Chick-fil', 1), ('the minute or', 1), ('40%', 1), ('30 minute', 1), ('2 $6', 1), ('65.5 cents', 1), ('50 cents', 1), ('65.5', 1), ('10-mile', 1), ('less than a half-gallon', 1), ('2.50', 1), ('hundred', 1), ('15 year', 1), ('about 5 minutes', 1), ('this every year', 1), ('a month or so', 1), ('24hrs', 1), ('Hollywood', 1), ('the 6pm hour', 1), ('West Hollywood', 1), ('the same week', 1), ('7 AM', 1), ('😵', 1), ('30ish minutes earlier', 1), ('later tonight', 1), ('the day off today', 1), ('a day', 1), ('eight hours', 1), ('https://preview.redd.it/4x15jpzva2pa1.jpeg?width=1284&format=pjpg&auto=webp&v=enabled&s=49c47a8542be99c48bc82b184e3c35aa0118345f\\n\\n', 1), ('batman', 1), ('months and months', 1), ('0.26', 1), ('50.96', 1), ('11.30', 1), ('ABC', 1), ('2025', 1), ('30 cents', 1), ('96’after', 1), ('Fri - Sun', 1), ('three days', 1), ('about $27', 1), ('the entire weekend', 1), ('11am-2pm and 5pm-9pm', 1), ('10-15 minutes earlier', 1), ('hour', 1), ('55', 1), ('a few days ago', 1), ('fcc', 1), ('longer than 3 days', 1), ('THREE WEEKS', 1), ('a weekend', 1), ('another 40 minutes', 1), ('around $25', 1), ('Sus AF', 1), ('next month', 1), ('English', 1), ('late at night', 1), ('Daaaaaamn', 1), ('Two', 1), ('Mike', 1), ('TWO', 1), ('😆 🤣', 1), ('happen\"', 1), ('125', 1), ('56 cents', 1), ('a .6 mile', 1), ('.6', 1), ('cali', 1), ('Ryan', 1), ('Citizen', 1), ('This past weekend', 1), ('about 8pm', 1), ('a half mile', 1), ('9mm', 1), ('Stanford', 1), ('Haltom', 1), ('Alliance/Keller', 1), ('☹️', 1), ('years old', 1), ('a little under two months', 1), ('Sue Uber', 1), ('Last night', 1), ('No more than 3 miles', 1), ('5 miles', 1), ('both day', 1), ('every night', 1), ('late night', 1), ('GoPuff', 1), ('10:00 pm', 1), ('Uber Cash', 1), ('CVS', 1), ('48', 1), ('about $3', 1), ('at least 10 hours   ', 1), ('one week', 1), ('6am to 12am', 1), ('less than a year', 1), ('🤡🤡', 1), ('🏻\\u200d', 1), ('♂️.', 1), ('82.30', 1), ('https://preview.redd.it/vfr4op4437pa1.png?width=1152&format=pjpg&auto=webp&v=enabled&s=acb7553931f43030932bf2006779cf37d26ab4fd', 1), ('Amazon Flex', 1), ('the Door Dash', 1), ('a year', 1), ('a year ago', 1), ('Tipper vs non tipper', 1), ('13.7 miles', 1), ('17 bucks', 1), ('udm', 1), ('65/35', 1), ('2x', 1), ('69%', 1), ('5-hour', 1), ('200mg', 1), ('Sucralose', 1), ('Red Thunder', 1), ('95%', 1), ('R.B.', 1), ('only $5', 1), ('zoa', 1), ('Stevia', 1), ('Monster/Rockstar', 1), ('Mango Loco Monster', 1), ('1.25', 1), ('Sunkist Zero', 1), ('10 calories', 1), ('210', 1), ('McDonalds', 1), ('Thebcoffe', 1), ('1.08', 1), ('Cawfee', 1), ('Metallica', 1), (\"later - McDonald's\", 1), ('NOS Energy', 1), ('NOS', 1), ('cuban', 1), ('French', 1), ('About 4-5', 1), ('Zero', 1), ('Bing Cotton Candy', 1), ('the Monster Zero Sugar', 1), ('16oz', 1), ('5 hour', 1), ('Aldi', 1), ('10 hours', 1), ('12oz', 1), ('c4', 1), ('panera', 1), ('Walmarts', 1), ('Classic', 1), ('East Harlem', 1), ('fifth', 1), ('Chappaquiddick', 1), ('two minutes', 1), ('Monero', 1), ('MyMonero', 1), ('1,2,3', 1), ('Neapolitan', 1), ('Razzleberry', 1), ('300mg and zero', 1), ('zeros', 1), ('Costco', 1), ('Black Rifle Triple Shot', 1), ('Espresso', 1), ('Starbucks', 1), ('South American', 1), ('GNC', 1), ('300mg', 1), ('every day', 1), ('a dozen', 1), ('C4 Starburst', 1), ('Boujie', 1), ('every month', 1), ('Winco', 1), ('Hawaiian', 1), ('latin', 1), ('Vons', 1), ('ots', 1), ('Bush', 1), ('30 days', 1), ('Chili', 1), ('78', 1), ('3 digit', 1), ('roughly 6 years', 1), ('A couple years ago', 1), ('over $160', 1), ('less than 2 hours', 1), ('SMH 😧', 1), ('30 mins', 1), ('35min', 1), ('40 fucking miles', 1), ('less than two hours', 1), ('Uberx', 1), ('5k', 1), ('LOTR', 1), ('2022', 1), ('q4', 1), ('22$.', 1), ('14 miles', 1), ('Two summers ago', 1), ('79', 1), ('triple express', 1), ('this day', 1), ('10 min', 1), ('wal mart', 1), ('Wal-Mart', 1), ('🥺', 1), ('more than half', 1), ('Minnesota', 1), ('9000', 1), ('one 4', 1), ('Oof', 1), ('Jersey Mikes', 1)]\n"
     ]
    }
   ],
   "source": [
    "entity_dict = {}\n",
    "for doc in docs:\n",
    "    for entity in doc.ents:\n",
    "        entity_dict[entity.text]=entity_dict.get(entity.text,0)+1\n",
    "sortedDict = sorted(entity_dict.items(),key=operator.itemgetter(1),reverse=True)\n",
    "print(sortedDict)"
   ]
  },
  {
   "cell_type": "code",
   "execution_count": 21,
   "id": "5f891901",
   "metadata": {},
   "outputs": [
    {
     "name": "stdout",
     "output_type": "stream",
     "text": [
      "[('get', 181), ('think', 146), ('know', 137), ('go', 136), ('pay', 123), ('say', 118), ('work', 106), ('try', 106), ('take', 97), ('deliver', 90)]\n"
     ]
    }
   ],
   "source": [
    "# To get SpaCy tag list :https://machinelearningknowledge.ai/tutorial-on-spacy-part-of-speech-pos-tagging/\n",
    "\n",
    "#function to get most common verbs\n",
    "from collections import Counter\n",
    "verbs = []\n",
    "for doc in docs:\n",
    "    for token in doc: \n",
    "        if (not token.is_stop and not token.is_punct and token.pos_==\"VERB\"):\n",
    "            verbs.append(token.lemma_)\n",
    "verb_freq = Counter(verbs)\n",
    "common_verbs = verb_freq.most_common(10)\n",
    "print(common_verbs)"
   ]
  },
  {
   "cell_type": "code",
   "execution_count": null,
   "id": "8071bd04",
   "metadata": {},
   "outputs": [],
   "source": []
  },
  {
   "cell_type": "code",
   "execution_count": null,
   "id": "9ef30509",
   "metadata": {},
   "outputs": [],
   "source": []
  }
 ],
 "metadata": {
  "kernelspec": {
   "display_name": "Python 3 (ipykernel)",
   "language": "python",
   "name": "python3"
  },
  "language_info": {
   "codemirror_mode": {
    "name": "ipython",
    "version": 3
   },
   "file_extension": ".py",
   "mimetype": "text/x-python",
   "name": "python",
   "nbconvert_exporter": "python",
   "pygments_lexer": "ipython3",
   "version": "3.9.12"
  }
 },
 "nbformat": 4,
 "nbformat_minor": 5
}
