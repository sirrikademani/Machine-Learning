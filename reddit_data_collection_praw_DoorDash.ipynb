{
 "cells": [
  {
   "cell_type": "code",
   "execution_count": 4,
   "id": "97d4b3d8",
   "metadata": {},
   "outputs": [
    {
     "name": "stdout",
     "output_type": "stream",
     "text": [
      "Processed 19 comments.\n",
      "Processed 47 comments.\n",
      "Processed 52 comments.\n",
      "Processed 240 comments.\n",
      "Processed 251 comments.\n",
      "Processed 254 comments.\n",
      "Processed 261 comments.\n",
      "Processed 262 comments.\n",
      "Processed 316 comments.\n",
      "Processed 338 comments.\n",
      "Processed 339 comments.\n",
      "Processed 342 comments.\n",
      "Processed 345 comments.\n",
      "Processed 345 comments.\n",
      "Processed 557 comments.\n",
      "Processed 569 comments.\n",
      "Processed 569 comments.\n",
      "Processed 577 comments.\n",
      "Processed 580 comments.\n",
      "Processed 582 comments.\n",
      "Processed 582 comments.\n",
      "Processed 598 comments.\n",
      "Processed 601 comments.\n",
      "Processed 603 comments.\n",
      "Processed 625 comments.\n",
      "Processed 644 comments.\n",
      "Processed 690 comments.\n",
      "Processed 692 comments.\n",
      "Processed 694 comments.\n",
      "Processed 702 comments.\n",
      "Processed 706 comments.\n",
      "Processed 713 comments.\n",
      "Processed 1189 comments.\n",
      "Processed 1197 comments.\n",
      "Processed 1209 comments.\n",
      "Processed 1213 comments.\n",
      "Processed 1214 comments.\n",
      "Processed 1252 comments.\n",
      "Processed 1258 comments.\n",
      "Processed 1271 comments.\n",
      "Processed 1271 comments.\n",
      "Processed 1272 comments.\n",
      "Processed 1274 comments.\n",
      "Processed 1320 comments.\n",
      "Processed 1380 comments.\n",
      "Processed 1381 comments.\n",
      "Processed 1387 comments.\n",
      "Processed 1389 comments.\n",
      "Processed 1393 comments.\n",
      "Processed 1393 comments.\n",
      "Processed 1441 comments.\n",
      "Processed 1442 comments.\n",
      "Processed 1442 comments.\n",
      "Processed 1450 comments.\n",
      "Processed 1468 comments.\n",
      "Processed 1509 comments.\n",
      "Processed 1512 comments.\n",
      "Processed 1512 comments.\n",
      "Processed 1514 comments.\n",
      "Processed 1522 comments.\n",
      "Processed 1523 comments.\n",
      "Processed 1525 comments.\n",
      "Processed 1533 comments.\n",
      "Processed 1535 comments.\n",
      "Processed 1535 comments.\n",
      "Processed 1542 comments.\n",
      "Processed 1542 comments.\n",
      "Processed 1544 comments.\n",
      "Processed 1571 comments.\n",
      "Processed 1577 comments.\n",
      "Processed 1579 comments.\n",
      "Processed 1580 comments.\n",
      "Processed 1621 comments.\n",
      "Processed 1634 comments.\n",
      "Processed 1836 comments.\n",
      "Processed 1839 comments.\n",
      "Processed 1853 comments.\n",
      "Processed 1859 comments.\n",
      "Processed 1865 comments.\n",
      "Processed 1867 comments.\n",
      "Processed 1867 comments.\n",
      "Processed 1873 comments.\n",
      "Processed 1876 comments.\n",
      "Processed 1884 comments.\n",
      "Processed 1885 comments.\n",
      "Processed 1888 comments.\n",
      "Processed 1895 comments.\n",
      "Processed 1900 comments.\n",
      "Processed 1903 comments.\n",
      "Processed 1907 comments.\n",
      "Processed 1909 comments.\n",
      "Processed 1926 comments.\n",
      "Processed 1929 comments.\n",
      "Processed 1930 comments.\n",
      "Processed 1931 comments.\n",
      "Processed 2039 comments.\n",
      "     Comment ID               Author            Timestamp  \\\n",
      "0       jd1eki0           renbutler2  2023-03-20 20:06:54   \n",
      "1       jd1dwcf        honorablefish  2023-03-20 20:01:17   \n",
      "2       jd1bfpx              dalex89  2023-03-20 19:41:43   \n",
      "3       jd1fdan      JasoniPepperoni  2023-03-20 20:13:46   \n",
      "4       jd1hbxf             PickTour  2023-03-20 20:30:57   \n",
      "...         ...                  ...                  ...   \n",
      "2034    jd1rgoi  Relevant_Sugar_6001  2023-03-20 22:15:07   \n",
      "2035    jd250oq             Not-Noah  2023-03-21 01:23:40   \n",
      "2036    jd1riz1          KaitlenRene  2023-03-20 22:15:52   \n",
      "2037    jd1rkza  Relevant_Sugar_6001  2023-03-20 22:16:31   \n",
      "2038    jd1rm44          KaitlenRene  2023-03-20 22:16:54   \n",
      "\n",
      "     Comment is a reply to Comment Thread ID  \\\n",
      "0               t3_11x4f2x           11x4f2x   \n",
      "1               t3_11x4f2x           11x4f2x   \n",
      "2               t3_11x4f2x           11x4f2x   \n",
      "3               t3_11x4f2x           11x4f2x   \n",
      "4               t3_11x4f2x           11x4f2x   \n",
      "...                    ...               ...   \n",
      "2034            t1_jd1rbzg           11wvqw8   \n",
      "2035            t1_jd0ykak           11wvqw8   \n",
      "2036            t1_jd1rgoi           11wvqw8   \n",
      "2037            t1_jd1riz1           11wvqw8   \n",
      "2038            t1_jd1rkza           11wvqw8   \n",
      "\n",
      "                                           Thread Title  \\\n",
      "0                                  Leave it at the door   \n",
      "1                                  Leave it at the door   \n",
      "2                                  Leave it at the door   \n",
      "3                                  Leave it at the door   \n",
      "4                                  Leave it at the door   \n",
      "...                                                 ...   \n",
      "2034  It’s pays to be nice. Ive gotten really close ...   \n",
      "2035  It’s pays to be nice. Ive gotten really close ...   \n",
      "2036  It’s pays to be nice. Ive gotten really close ...   \n",
      "2037  It’s pays to be nice. Ive gotten really close ...   \n",
      "2038  It’s pays to be nice. Ive gotten really close ...   \n",
      "\n",
      "                                           Comment Body  \\\n",
      "0     There's a simple answer to all questions like ...   \n",
      "1                                                 Never   \n",
      "2     As a customer, if they didn't knock and I want...   \n",
      "3     I never ring unless asked to. The person that ...   \n",
      "4     I put an Amazon packing in front of a door a f...   \n",
      "...                                                 ...   \n",
      "2034                         I thought you were a guy 💀   \n",
      "2035  I was gonna say something but I don't wanna ru...   \n",
      "2036  Kaitlen is usually a girls name but it’s all g...   \n",
      "2037  Yeah I don’t really pay attention to names jus...   \n",
      "2038                                    Fair enough lol   \n",
      "\n",
      "                                      Comment Permalink  \n",
      "0     /r/doordash/comments/11x4f2x/leave_it_at_the_d...  \n",
      "1     /r/doordash/comments/11x4f2x/leave_it_at_the_d...  \n",
      "2     /r/doordash/comments/11x4f2x/leave_it_at_the_d...  \n",
      "3     /r/doordash/comments/11x4f2x/leave_it_at_the_d...  \n",
      "4     /r/doordash/comments/11x4f2x/leave_it_at_the_d...  \n",
      "...                                                 ...  \n",
      "2034  /r/doordash/comments/11wvqw8/its_pays_to_be_ni...  \n",
      "2035  /r/doordash/comments/11wvqw8/its_pays_to_be_ni...  \n",
      "2036  /r/doordash/comments/11wvqw8/its_pays_to_be_ni...  \n",
      "2037  /r/doordash/comments/11wvqw8/its_pays_to_be_ni...  \n",
      "2038  /r/doordash/comments/11wvqw8/its_pays_to_be_ni...  \n",
      "\n",
      "[2039 rows x 8 columns]\n"
     ]
    }
   ],
   "source": [
    "import praw\n",
    "import pandas as pd\n",
    "import datetime\n",
    "import concurrent.futures\n",
    "\n",
    "reddit = praw.Reddit(client_id='_37znztIqSaRtA8ZWOCRXg', client_secret=\"0wz5rUMlMjJBSCwUuXhuDt_64OOCyA\",\n",
    "                     user_agent='CIS509')\n",
    "\n",
    "subreddit = reddit.subreddit('DoorDash')\n",
    "\n",
    "def process_submission(submission):\n",
    "    try:\n",
    "        submission.comments.replace_more(limit=0)\n",
    "        comments_data = []\n",
    "        for comment in submission.comments.list():\n",
    "            timestamp = datetime.datetime.fromtimestamp(comment.created_utc).strftime('%Y-%m-%d %H:%M:%S')\n",
    "            comments_data.append([comment.id,\n",
    "                                 comment.author,\n",
    "                                 timestamp,\n",
    "                                 comment.parent_id,\n",
    "                                 submission.id,\n",
    "                                 submission.title,\n",
    "                                 comment.body,\n",
    "                                 comment.permalink])\n",
    "        return comments_data\n",
    "    except Exception as e:\n",
    "        print(f\"Error processing submission with id {submission.id}: {e}\")\n",
    "        return []\n",
    "\n",
    "comments_data = []\n",
    "count = 0\n",
    "with concurrent.futures.ThreadPoolExecutor() as executor:\n",
    "    submission_futures = [executor.submit(process_submission, submission) for submission in subreddit.new(limit=1000)]\n",
    "    for submission_future in concurrent.futures.as_completed(submission_futures):\n",
    "        comments_data += submission_future.result()\n",
    "        count += len(submission_future.result())\n",
    "        print(f\"Processed {count} comments.\")\n",
    "        if count >= 2000:\n",
    "            break\n",
    "\n",
    "comments_df = pd.DataFrame(comments_data, columns=['Comment ID', 'Author', 'Timestamp',\n",
    "                                                    'Comment is a reply to', 'Comment Thread ID',\n",
    "                                                    'Thread Title', 'Comment Body', 'Comment Permalink'])\n",
    "\n",
    "print(comments_df)\n"
   ]
  },
  {
   "cell_type": "code",
   "execution_count": 5,
   "id": "4712cfa5",
   "metadata": {},
   "outputs": [],
   "source": [
    "comments_df.to_csv('DoorDash_comments_21_03.csv',index=False)"
   ]
  },
  {
   "cell_type": "code",
   "execution_count": null,
   "id": "9015dedd",
   "metadata": {},
   "outputs": [],
   "source": []
  },
  {
   "cell_type": "code",
   "execution_count": null,
   "id": "7186f2c3",
   "metadata": {},
   "outputs": [],
   "source": []
  },
  {
   "cell_type": "code",
   "execution_count": 6,
   "id": "7aa968d1",
   "metadata": {},
   "outputs": [
    {
     "name": "stdout",
     "output_type": "stream",
     "text": [
      "Requirement already satisfied: textblob in c:\\users\\sirik\\anaconda3\\lib\\site-packages (0.17.1)\n",
      "Requirement already satisfied: nltk>=3.1 in c:\\users\\sirik\\anaconda3\\lib\\site-packages (from textblob) (3.7)\n",
      "Requirement already satisfied: click in c:\\users\\sirik\\anaconda3\\lib\\site-packages (from nltk>=3.1->textblob) (8.0.4)\n",
      "Requirement already satisfied: joblib in c:\\users\\sirik\\anaconda3\\lib\\site-packages (from nltk>=3.1->textblob) (1.1.0)\n",
      "Requirement already satisfied: regex>=2021.8.3 in c:\\users\\sirik\\anaconda3\\lib\\site-packages (from nltk>=3.1->textblob) (2022.3.15)\n",
      "Requirement already satisfied: tqdm in c:\\users\\sirik\\anaconda3\\lib\\site-packages (from nltk>=3.1->textblob) (4.64.0)\n",
      "Requirement already satisfied: colorama in c:\\users\\sirik\\anaconda3\\lib\\site-packages (from click->nltk>=3.1->textblob) (0.4.4)\n"
     ]
    }
   ],
   "source": [
    "!pip install textblob"
   ]
  },
  {
   "cell_type": "code",
   "execution_count": 7,
   "id": "964b1eb3",
   "metadata": {},
   "outputs": [
    {
     "name": "stdout",
     "output_type": "stream",
     "text": [
      "Requirement already satisfied: nltk in c:\\users\\sirik\\anaconda3\\lib\\site-packages (3.7)\n",
      "Requirement already satisfied: joblib in c:\\users\\sirik\\anaconda3\\lib\\site-packages (from nltk) (1.1.0)\n",
      "Requirement already satisfied: click in c:\\users\\sirik\\anaconda3\\lib\\site-packages (from nltk) (8.0.4)\n",
      "Requirement already satisfied: tqdm in c:\\users\\sirik\\anaconda3\\lib\\site-packages (from nltk) (4.64.0)\n",
      "Requirement already satisfied: regex>=2021.8.3 in c:\\users\\sirik\\anaconda3\\lib\\site-packages (from nltk) (2022.3.15)\n",
      "Requirement already satisfied: colorama in c:\\users\\sirik\\anaconda3\\lib\\site-packages (from click->nltk) (0.4.4)\n"
     ]
    }
   ],
   "source": [
    "!pip install nltk"
   ]
  },
  {
   "cell_type": "code",
   "execution_count": 8,
   "id": "78e83fea",
   "metadata": {},
   "outputs": [
    {
     "name": "stdout",
     "output_type": "stream",
     "text": [
      "Requirement already satisfied: pandas in c:\\users\\sirik\\anaconda3\\lib\\site-packages (1.4.2)\n",
      "Requirement already satisfied: python-dateutil>=2.8.1 in c:\\users\\sirik\\anaconda3\\lib\\site-packages (from pandas) (2.8.2)\n",
      "Requirement already satisfied: pytz>=2020.1 in c:\\users\\sirik\\anaconda3\\lib\\site-packages (from pandas) (2021.3)\n",
      "Requirement already satisfied: numpy>=1.18.5 in c:\\users\\sirik\\anaconda3\\lib\\site-packages (from pandas) (1.21.5)\n",
      "Requirement already satisfied: six>=1.5 in c:\\users\\sirik\\anaconda3\\lib\\site-packages (from python-dateutil>=2.8.1->pandas) (1.16.0)\n"
     ]
    }
   ],
   "source": [
    "!pip install pandas"
   ]
  },
  {
   "cell_type": "code",
   "execution_count": 9,
   "id": "fd690548",
   "metadata": {},
   "outputs": [
    {
     "data": {
      "text/html": [
       "<div>\n",
       "<style scoped>\n",
       "    .dataframe tbody tr th:only-of-type {\n",
       "        vertical-align: middle;\n",
       "    }\n",
       "\n",
       "    .dataframe tbody tr th {\n",
       "        vertical-align: top;\n",
       "    }\n",
       "\n",
       "    .dataframe thead th {\n",
       "        text-align: right;\n",
       "    }\n",
       "</style>\n",
       "<table border=\"1\" class=\"dataframe\">\n",
       "  <thead>\n",
       "    <tr style=\"text-align: right;\">\n",
       "      <th></th>\n",
       "      <th>Comment ID</th>\n",
       "      <th>Author</th>\n",
       "      <th>Timestamp</th>\n",
       "      <th>Comment is a reply to</th>\n",
       "      <th>Comment Thread ID</th>\n",
       "      <th>Thread Title</th>\n",
       "      <th>Comment Body</th>\n",
       "      <th>Comment Permalink</th>\n",
       "    </tr>\n",
       "  </thead>\n",
       "  <tbody>\n",
       "    <tr>\n",
       "      <th>0</th>\n",
       "      <td>jd1eki0</td>\n",
       "      <td>renbutler2</td>\n",
       "      <td>2023-03-20 20:06:54</td>\n",
       "      <td>t3_11x4f2x</td>\n",
       "      <td>11x4f2x</td>\n",
       "      <td>Leave it at the door</td>\n",
       "      <td>There's a simple answer to all questions like ...</td>\n",
       "      <td>/r/doordash/comments/11x4f2x/leave_it_at_the_d...</td>\n",
       "    </tr>\n",
       "    <tr>\n",
       "      <th>1</th>\n",
       "      <td>jd1dwcf</td>\n",
       "      <td>honorablefish</td>\n",
       "      <td>2023-03-20 20:01:17</td>\n",
       "      <td>t3_11x4f2x</td>\n",
       "      <td>11x4f2x</td>\n",
       "      <td>Leave it at the door</td>\n",
       "      <td>Never</td>\n",
       "      <td>/r/doordash/comments/11x4f2x/leave_it_at_the_d...</td>\n",
       "    </tr>\n",
       "  </tbody>\n",
       "</table>\n",
       "</div>"
      ],
      "text/plain": [
       "  Comment ID         Author            Timestamp Comment is a reply to  \\\n",
       "0    jd1eki0     renbutler2  2023-03-20 20:06:54            t3_11x4f2x   \n",
       "1    jd1dwcf  honorablefish  2023-03-20 20:01:17            t3_11x4f2x   \n",
       "\n",
       "  Comment Thread ID          Thread Title  \\\n",
       "0           11x4f2x  Leave it at the door   \n",
       "1           11x4f2x  Leave it at the door   \n",
       "\n",
       "                                        Comment Body  \\\n",
       "0  There's a simple answer to all questions like ...   \n",
       "1                                              Never   \n",
       "\n",
       "                                   Comment Permalink  \n",
       "0  /r/doordash/comments/11x4f2x/leave_it_at_the_d...  \n",
       "1  /r/doordash/comments/11x4f2x/leave_it_at_the_d...  "
      ]
     },
     "execution_count": 9,
     "metadata": {},
     "output_type": "execute_result"
    }
   ],
   "source": [
    "import pandas as pd\n",
    "data = pd.read_csv('DoorDash_comments_21_03.csv')\n",
    "data.head(2)"
   ]
  },
  {
   "cell_type": "code",
   "execution_count": 10,
   "id": "435f0c1f",
   "metadata": {},
   "outputs": [],
   "source": [
    "#Parse csv's to only extract column called 'message'\n",
    "messages = data['Comment Body']"
   ]
  },
  {
   "cell_type": "code",
   "execution_count": 11,
   "id": "87b266f7",
   "metadata": {},
   "outputs": [
    {
     "name": "stderr",
     "output_type": "stream",
     "text": [
      "[nltk_data] Downloading package wordnet to\n",
      "[nltk_data]     C:\\Users\\sirik\\AppData\\Roaming\\nltk_data...\n",
      "[nltk_data]   Package wordnet is already up-to-date!\n",
      "[nltk_data] Downloading package stopwords to\n",
      "[nltk_data]     C:\\Users\\sirik\\AppData\\Roaming\\nltk_data...\n",
      "[nltk_data]   Package stopwords is already up-to-date!\n",
      "[nltk_data] Downloading package punkt to\n",
      "[nltk_data]     C:\\Users\\sirik\\AppData\\Roaming\\nltk_data...\n",
      "[nltk_data]   Package punkt is already up-to-date!\n",
      "[nltk_data] Downloading package omw-1.4 to\n",
      "[nltk_data]     C:\\Users\\sirik\\AppData\\Roaming\\nltk_data...\n",
      "[nltk_data]   Package omw-1.4 is already up-to-date!\n"
     ]
    }
   ],
   "source": [
    "from textblob import TextBlob\n",
    "import re\n",
    "import nltk\n",
    "nltk.download('wordnet')\n",
    "nltk.download('stopwords')\n",
    "nltk.download('punkt')\n",
    "nltk.download('omw-1.4')\n",
    "from nltk.corpus import stopwords\n",
    "from nltk.stem.wordnet import WordNetLemmatizer\n",
    "#Text pre-processing functions\n",
    "def text_processing(message):\n",
    "    \n",
    "    #Generating the list of words in the message (hastags and other punctuations removed) and convert to lowercase\n",
    "    def form_sentence(message):\n",
    "        message = message.lower() #Make messages lowercase \n",
    "        message_blob = TextBlob(message.lower()) #Convert to 'textblob' which provides a simple API for NLP tasks\n",
    "        return ' '.join(message_blob.words)\n",
    "    new_message = form_sentence(message)\n",
    "    \n",
    "    #Removing stopwords and words with unusual symbols\n",
    "    def no_user_alpha(message):\n",
    "        message_list = [item for item in message.split()] \n",
    "        clean_words = [word for word in message_list if re.match(r'[^\\W\\d]*$', word)] #remove punctuation and strange characters\n",
    "        clean_sentence = ' '.join(clean_words) \n",
    "        clean_mess = [stopword for stopword in clean_sentence.split() if stopword not in stopwords.words('english')] #remove stopwords\n",
    "        return clean_mess\n",
    "    no_punc_message = no_user_alpha(new_message)\n",
    "    \n",
    "    #Normalizing the words in messages \n",
    "    def normalization(message_list):\n",
    "        lem = WordNetLemmatizer()\n",
    "        normalized_message = []\n",
    "        for word in message_list:\n",
    "            normalized_text = lem.lemmatize(word,'v') #lemmatize words\n",
    "            normalized_message.append(normalized_text)\n",
    "        return normalized_message\n",
    "    return normalization(no_punc_message)"
   ]
  },
  {
   "cell_type": "code",
   "execution_count": 12,
   "id": "4e321b5a",
   "metadata": {},
   "outputs": [],
   "source": [
    "#Print to console and write to file\n",
    "f = open('processed_text_doordash.csv','w', encoding='utf8')\n",
    "for message in messages: \n",
    "    message = text_processing(message)\n",
    "    for term in message:\n",
    "        f.write(term+\" \")\n",
    "    f.write(\"\\n\")"
   ]
  },
  {
   "cell_type": "code",
   "execution_count": 15,
   "id": "834f6493",
   "metadata": {},
   "outputs": [],
   "source": [
    "f.close()"
   ]
  },
  {
   "cell_type": "code",
   "execution_count": 2,
   "id": "785d027e",
   "metadata": {},
   "outputs": [
    {
     "name": "stdout",
     "output_type": "stream",
     "text": [
      "Collecting spacy\n",
      "  Downloading spacy-3.5.0-cp36-cp36m-win_amd64.whl (13.1 MB)\n",
      "Collecting murmurhash<1.1.0,>=0.28.0\n",
      "  Downloading murmurhash-1.0.9-cp36-cp36m-win_amd64.whl (21 kB)\n",
      "Requirement already satisfied: packaging>=20.0 in c:\\users\\mkusumur\\anaconda3\\envs\\delete_later\\lib\\site-packages (from spacy) (21.3)\n",
      "Collecting numpy>=1.15.0\n",
      "  Downloading numpy-1.19.5-cp36-cp36m-win_amd64.whl (13.2 MB)\n",
      "Collecting langcodes<4.0.0,>=3.2.0\n",
      "  Using cached langcodes-3.3.0-py3-none-any.whl (181 kB)\n",
      "Collecting preshed<3.1.0,>=3.0.2\n",
      "  Downloading preshed-3.0.8-cp36-cp36m-win_amd64.whl (111 kB)\n",
      "Collecting srsly<3.0.0,>=2.4.3\n",
      "  Downloading srsly-2.4.5-cp36-cp36m-win_amd64.whl (490 kB)\n",
      "Collecting tqdm<5.0.0,>=4.38.0\n",
      "  Downloading tqdm-4.64.1-py2.py3-none-any.whl (78 kB)\n",
      "Collecting catalogue<2.1.0,>=2.0.6\n",
      "  Using cached catalogue-2.0.8-py3-none-any.whl (17 kB)\n",
      "Collecting pydantic!=1.8,!=1.8.1,<1.11.0,>=1.7.4\n",
      "  Downloading pydantic-1.9.2-cp36-cp36m-win_amd64.whl (2.1 MB)\n",
      "Collecting typer<0.8.0,>=0.3.0\n",
      "  Using cached typer-0.7.0-py3-none-any.whl (38 kB)\n",
      "Collecting pathy>=0.10.0\n",
      "  Using cached pathy-0.10.1-py3-none-any.whl (48 kB)\n",
      "Requirement already satisfied: typing-extensions<4.5.0,>=3.7.4.1 in c:\\users\\mkusumur\\anaconda3\\envs\\delete_later\\lib\\site-packages (from spacy) (4.1.1)\n",
      "Collecting thinc<8.2.0,>=8.1.0\n",
      "  Downloading thinc-8.1.7-cp36-cp36m-win_amd64.whl (1.3 MB)\n",
      "Collecting spacy-legacy<3.1.0,>=3.0.11\n",
      "  Using cached spacy_legacy-3.0.12-py2.py3-none-any.whl (29 kB)\n",
      "Collecting wasabi<1.2.0,>=0.9.1\n",
      "  Using cached wasabi-1.1.1-py3-none-any.whl (27 kB)\n",
      "Requirement already satisfied: setuptools in c:\\users\\mkusumur\\anaconda3\\envs\\delete_later\\lib\\site-packages (from spacy) (58.0.4)\n",
      "Collecting cymem<2.1.0,>=2.0.2\n",
      "  Downloading cymem-2.0.7-cp36-cp36m-win_amd64.whl (36 kB)\n",
      "Collecting smart-open<7.0.0,>=5.2.1\n",
      "  Using cached smart_open-6.3.0-py3-none-any.whl (56 kB)\n",
      "Requirement already satisfied: jinja2 in c:\\users\\mkusumur\\anaconda3\\envs\\delete_later\\lib\\site-packages (from spacy) (3.0.3)\n",
      "Collecting requests<3.0.0,>=2.13.0\n",
      "  Downloading requests-2.27.1-py2.py3-none-any.whl (63 kB)\n",
      "Collecting spacy-loggers<2.0.0,>=1.0.0\n",
      "  Using cached spacy_loggers-1.0.4-py3-none-any.whl (11 kB)\n",
      "Requirement already satisfied: zipp>=0.5 in c:\\users\\mkusumur\\anaconda3\\envs\\delete_later\\lib\\site-packages (from catalogue<2.1.0,>=2.0.6->spacy) (3.6.0)\n",
      "Requirement already satisfied: pyparsing!=3.0.5,>=2.0.2 in c:\\users\\mkusumur\\anaconda3\\envs\\delete_later\\lib\\site-packages (from packaging>=20.0->spacy) (3.0.9)\n",
      "Requirement already satisfied: dataclasses<1.0,>=0.6 in c:\\users\\mkusumur\\anaconda3\\envs\\delete_later\\lib\\site-packages (from pathy>=0.10.0->spacy) (0.8)\n",
      "Collecting urllib3<1.27,>=1.21.1\n",
      "  Downloading urllib3-1.26.14-py2.py3-none-any.whl (140 kB)\n",
      "Collecting charset-normalizer~=2.0.0\n",
      "  Downloading charset_normalizer-2.0.12-py3-none-any.whl (39 kB)\n",
      "Collecting idna<4,>=2.5\n",
      "  Downloading idna-3.4-py3-none-any.whl (61 kB)\n",
      "Requirement already satisfied: certifi>=2017.4.17 in c:\\users\\mkusumur\\anaconda3\\envs\\delete_later\\lib\\site-packages (from requests<3.0.0,>=2.13.0->spacy) (2021.5.30)\n",
      "Collecting confection<1.0.0,>=0.0.1\n",
      "  Using cached confection-0.0.4-py3-none-any.whl (32 kB)\n",
      "Collecting contextvars<3,>=2.4\n",
      "  Downloading contextvars-2.4.tar.gz (9.6 kB)\n",
      "Collecting blis<0.8.0,>=0.7.8\n",
      "  Downloading blis-0.7.9-cp36-cp36m-win_amd64.whl (7.0 MB)\n",
      "Collecting immutables>=0.9\n",
      "  Downloading immutables-0.19-cp36-cp36m-win_amd64.whl (58 kB)\n",
      "Collecting importlib-resources\n",
      "  Downloading importlib_resources-5.4.0-py3-none-any.whl (28 kB)\n",
      "Requirement already satisfied: colorama in c:\\users\\mkusumur\\anaconda3\\envs\\delete_later\\lib\\site-packages (from tqdm<5.0.0,>=4.38.0->spacy) (0.4.5)\n",
      "Collecting click<9.0.0,>=7.1.1\n",
      "  Downloading click-8.0.4-py3-none-any.whl (97 kB)\n",
      "Requirement already satisfied: importlib-metadata in c:\\users\\mkusumur\\anaconda3\\envs\\delete_later\\lib\\site-packages (from click<9.0.0,>=7.1.1->typer<0.8.0,>=0.3.0->spacy) (4.8.3)\n",
      "Requirement already satisfied: MarkupSafe>=2.0 in c:\\users\\mkusumur\\anaconda3\\envs\\delete_later\\lib\\site-packages (from jinja2->spacy) (2.0.1)\n",
      "Building wheels for collected packages: contextvars\n",
      "  Building wheel for contextvars (setup.py): started\n",
      "  Building wheel for contextvars (setup.py): finished with status 'done'\n",
      "  Created wheel for contextvars: filename=contextvars-2.4-py3-none-any.whl size=7681 sha256=4c35111fe5262956ece6b198f37da8690b179b043501e80d206a28e5d4c1aed4\n",
      "  Stored in directory: c:\\users\\mkusumur\\appdata\\local\\pip\\cache\\wheels\\41\\11\\53\\911724983aa48deb94792432e14e518447212dd6c5477d49d3\n",
      "Successfully built contextvars\n",
      "Installing collected packages: catalogue, srsly, pydantic, numpy, murmurhash, immutables, cymem, click, wasabi, urllib3, typer, smart-open, preshed, importlib-resources, idna, contextvars, confection, charset-normalizer, blis, tqdm, thinc, spacy-loggers, spacy-legacy, requests, pathy, langcodes, spacy\n",
      "Successfully installed blis-0.7.9 catalogue-2.0.8 charset-normalizer-2.0.12 click-8.0.4 confection-0.0.4 contextvars-2.4 cymem-2.0.7 idna-3.4 immutables-0.19 importlib-resources-5.4.0 langcodes-3.3.0 murmurhash-1.0.9 numpy-1.19.5 pathy-0.10.1 preshed-3.0.8 pydantic-1.9.2 requests-2.27.1 smart-open-6.3.0 spacy-3.5.0 spacy-legacy-3.0.12 spacy-loggers-1.0.4 srsly-2.4.5 thinc-8.1.7 tqdm-4.64.1 typer-0.7.0 urllib3-1.26.14 wasabi-1.1.1\n"
     ]
    }
   ],
   "source": [
    "!pip install spacy"
   ]
  },
  {
   "cell_type": "code",
   "execution_count": 3,
   "id": "6b4f07c1",
   "metadata": {},
   "outputs": [
    {
     "name": "stdout",
     "output_type": "stream",
     "text": [
      "Collecting en-core-web-lg==3.5.0\n",
      "  Downloading https://github.com/explosion/spacy-models/releases/download/en_core_web_lg-3.5.0/en_core_web_lg-3.5.0-py3-none-any.whl (587.7 MB)\n",
      "Requirement already satisfied: spacy<3.6.0,>=3.5.0 in c:\\users\\mkusumur\\anaconda3\\envs\\delete_later\\lib\\site-packages (from en-core-web-lg==3.5.0) (3.5.0)\n",
      "Requirement already satisfied: thinc<8.2.0,>=8.1.0 in c:\\users\\mkusumur\\anaconda3\\envs\\delete_later\\lib\\site-packages (from spacy<3.6.0,>=3.5.0->en-core-web-lg==3.5.0) (8.1.7)\n",
      "Requirement already satisfied: spacy-loggers<2.0.0,>=1.0.0 in c:\\users\\mkusumur\\anaconda3\\envs\\delete_later\\lib\\site-packages (from spacy<3.6.0,>=3.5.0->en-core-web-lg==3.5.0) (1.0.4)\n",
      "Requirement already satisfied: typer<0.8.0,>=0.3.0 in c:\\users\\mkusumur\\anaconda3\\envs\\delete_later\\lib\\site-packages (from spacy<3.6.0,>=3.5.0->en-core-web-lg==3.5.0) (0.7.0)\n",
      "Requirement already satisfied: smart-open<7.0.0,>=5.2.1 in c:\\users\\mkusumur\\anaconda3\\envs\\delete_later\\lib\\site-packages (from spacy<3.6.0,>=3.5.0->en-core-web-lg==3.5.0) (6.3.0)\n",
      "Requirement already satisfied: catalogue<2.1.0,>=2.0.6 in c:\\users\\mkusumur\\anaconda3\\envs\\delete_later\\lib\\site-packages (from spacy<3.6.0,>=3.5.0->en-core-web-lg==3.5.0) (2.0.8)\n",
      "Requirement already satisfied: requests<3.0.0,>=2.13.0 in c:\\users\\mkusumur\\anaconda3\\envs\\delete_later\\lib\\site-packages (from spacy<3.6.0,>=3.5.0->en-core-web-lg==3.5.0) (2.27.1)\n",
      "Requirement already satisfied: preshed<3.1.0,>=3.0.2 in c:\\users\\mkusumur\\anaconda3\\envs\\delete_later\\lib\\site-packages (from spacy<3.6.0,>=3.5.0->en-core-web-lg==3.5.0) (3.0.8)\n",
      "Requirement already satisfied: murmurhash<1.1.0,>=0.28.0 in c:\\users\\mkusumur\\anaconda3\\envs\\delete_later\\lib\\site-packages (from spacy<3.6.0,>=3.5.0->en-core-web-lg==3.5.0) (1.0.9)\n",
      "Requirement already satisfied: pathy>=0.10.0 in c:\\users\\mkusumur\\anaconda3\\envs\\delete_later\\lib\\site-packages (from spacy<3.6.0,>=3.5.0->en-core-web-lg==3.5.0) (0.10.1)\n",
      "Requirement already satisfied: setuptools in c:\\users\\mkusumur\\anaconda3\\envs\\delete_later\\lib\\site-packages (from spacy<3.6.0,>=3.5.0->en-core-web-lg==3.5.0) (58.0.4)\n",
      "Requirement already satisfied: srsly<3.0.0,>=2.4.3 in c:\\users\\mkusumur\\anaconda3\\envs\\delete_later\\lib\\site-packages (from spacy<3.6.0,>=3.5.0->en-core-web-lg==3.5.0) (2.4.5)\n",
      "Requirement already satisfied: cymem<2.1.0,>=2.0.2 in c:\\users\\mkusumur\\anaconda3\\envs\\delete_later\\lib\\site-packages (from spacy<3.6.0,>=3.5.0->en-core-web-lg==3.5.0) (2.0.7)\n",
      "Requirement already satisfied: pydantic!=1.8,!=1.8.1,<1.11.0,>=1.7.4 in c:\\users\\mkusumur\\anaconda3\\envs\\delete_later\\lib\\site-packages (from spacy<3.6.0,>=3.5.0->en-core-web-lg==3.5.0) (1.9.2)\n",
      "Requirement already satisfied: langcodes<4.0.0,>=3.2.0 in c:\\users\\mkusumur\\anaconda3\\envs\\delete_later\\lib\\site-packages (from spacy<3.6.0,>=3.5.0->en-core-web-lg==3.5.0) (3.3.0)\n",
      "Requirement already satisfied: typing-extensions<4.5.0,>=3.7.4.1 in c:\\users\\mkusumur\\anaconda3\\envs\\delete_later\\lib\\site-packages (from spacy<3.6.0,>=3.5.0->en-core-web-lg==3.5.0) (4.1.1)\n",
      "Requirement already satisfied: tqdm<5.0.0,>=4.38.0 in c:\\users\\mkusumur\\anaconda3\\envs\\delete_later\\lib\\site-packages (from spacy<3.6.0,>=3.5.0->en-core-web-lg==3.5.0) (4.64.1)\n",
      "Requirement already satisfied: jinja2 in c:\\users\\mkusumur\\anaconda3\\envs\\delete_later\\lib\\site-packages (from spacy<3.6.0,>=3.5.0->en-core-web-lg==3.5.0) (3.0.3)\n",
      "Requirement already satisfied: numpy>=1.15.0 in c:\\users\\mkusumur\\anaconda3\\envs\\delete_later\\lib\\site-packages (from spacy<3.6.0,>=3.5.0->en-core-web-lg==3.5.0) (1.19.5)\n",
      "Requirement already satisfied: wasabi<1.2.0,>=0.9.1 in c:\\users\\mkusumur\\anaconda3\\envs\\delete_later\\lib\\site-packages (from spacy<3.6.0,>=3.5.0->en-core-web-lg==3.5.0) (1.1.1)\n",
      "Requirement already satisfied: packaging>=20.0 in c:\\users\\mkusumur\\anaconda3\\envs\\delete_later\\lib\\site-packages (from spacy<3.6.0,>=3.5.0->en-core-web-lg==3.5.0) (21.3)\n",
      "Requirement already satisfied: spacy-legacy<3.1.0,>=3.0.11 in c:\\users\\mkusumur\\anaconda3\\envs\\delete_later\\lib\\site-packages (from spacy<3.6.0,>=3.5.0->en-core-web-lg==3.5.0) (3.0.12)\n",
      "Requirement already satisfied: zipp>=0.5 in c:\\users\\mkusumur\\anaconda3\\envs\\delete_later\\lib\\site-packages (from catalogue<2.1.0,>=2.0.6->spacy<3.6.0,>=3.5.0->en-core-web-lg==3.5.0) (3.6.0)\n",
      "Requirement already satisfied: pyparsing!=3.0.5,>=2.0.2 in c:\\users\\mkusumur\\anaconda3\\envs\\delete_later\\lib\\site-packages (from packaging>=20.0->spacy<3.6.0,>=3.5.0->en-core-web-lg==3.5.0) (3.0.9)\n",
      "Requirement already satisfied: dataclasses<1.0,>=0.6 in c:\\users\\mkusumur\\anaconda3\\envs\\delete_later\\lib\\site-packages (from pathy>=0.10.0->spacy<3.6.0,>=3.5.0->en-core-web-lg==3.5.0) (0.8)\n",
      "Requirement already satisfied: urllib3<1.27,>=1.21.1 in c:\\users\\mkusumur\\anaconda3\\envs\\delete_later\\lib\\site-packages (from requests<3.0.0,>=2.13.0->spacy<3.6.0,>=3.5.0->en-core-web-lg==3.5.0) (1.26.14)\n",
      "Requirement already satisfied: charset-normalizer~=2.0.0 in c:\\users\\mkusumur\\anaconda3\\envs\\delete_later\\lib\\site-packages (from requests<3.0.0,>=2.13.0->spacy<3.6.0,>=3.5.0->en-core-web-lg==3.5.0) (2.0.12)\n",
      "Requirement already satisfied: certifi>=2017.4.17 in c:\\users\\mkusumur\\anaconda3\\envs\\delete_later\\lib\\site-packages (from requests<3.0.0,>=2.13.0->spacy<3.6.0,>=3.5.0->en-core-web-lg==3.5.0) (2021.5.30)\n",
      "Requirement already satisfied: idna<4,>=2.5 in c:\\users\\mkusumur\\anaconda3\\envs\\delete_later\\lib\\site-packages (from requests<3.0.0,>=2.13.0->spacy<3.6.0,>=3.5.0->en-core-web-lg==3.5.0) (3.4)\n",
      "Requirement already satisfied: confection<1.0.0,>=0.0.1 in c:\\users\\mkusumur\\anaconda3\\envs\\delete_later\\lib\\site-packages (from thinc<8.2.0,>=8.1.0->spacy<3.6.0,>=3.5.0->en-core-web-lg==3.5.0) (0.0.4)\n",
      "Requirement already satisfied: blis<0.8.0,>=0.7.8 in c:\\users\\mkusumur\\anaconda3\\envs\\delete_later\\lib\\site-packages (from thinc<8.2.0,>=8.1.0->spacy<3.6.0,>=3.5.0->en-core-web-lg==3.5.0) (0.7.9)\n",
      "Requirement already satisfied: contextvars<3,>=2.4 in c:\\users\\mkusumur\\anaconda3\\envs\\delete_later\\lib\\site-packages (from thinc<8.2.0,>=8.1.0->spacy<3.6.0,>=3.5.0->en-core-web-lg==3.5.0) (2.4)\n",
      "Requirement already satisfied: immutables>=0.9 in c:\\users\\mkusumur\\anaconda3\\envs\\delete_later\\lib\\site-packages (from contextvars<3,>=2.4->thinc<8.2.0,>=8.1.0->spacy<3.6.0,>=3.5.0->en-core-web-lg==3.5.0) (0.19)\n",
      "Requirement already satisfied: importlib-resources in c:\\users\\mkusumur\\anaconda3\\envs\\delete_later\\lib\\site-packages (from tqdm<5.0.0,>=4.38.0->spacy<3.6.0,>=3.5.0->en-core-web-lg==3.5.0) (5.4.0)\n",
      "Requirement already satisfied: colorama in c:\\users\\mkusumur\\anaconda3\\envs\\delete_later\\lib\\site-packages (from tqdm<5.0.0,>=4.38.0->spacy<3.6.0,>=3.5.0->en-core-web-lg==3.5.0) (0.4.5)\n",
      "Requirement already satisfied: click<9.0.0,>=7.1.1 in c:\\users\\mkusumur\\anaconda3\\envs\\delete_later\\lib\\site-packages (from typer<0.8.0,>=0.3.0->spacy<3.6.0,>=3.5.0->en-core-web-lg==3.5.0) (8.0.4)\n",
      "Requirement already satisfied: importlib-metadata in c:\\users\\mkusumur\\anaconda3\\envs\\delete_later\\lib\\site-packages (from click<9.0.0,>=7.1.1->typer<0.8.0,>=0.3.0->spacy<3.6.0,>=3.5.0->en-core-web-lg==3.5.0) (4.8.3)\n",
      "Requirement already satisfied: MarkupSafe>=2.0 in c:\\users\\mkusumur\\anaconda3\\envs\\delete_later\\lib\\site-packages (from jinja2->spacy<3.6.0,>=3.5.0->en-core-web-lg==3.5.0) (2.0.1)\n",
      "Installing collected packages: en-core-web-lg\n",
      "Successfully installed en-core-web-lg-3.5.0\n",
      "[+] Download and installation successful\n",
      "You can now load the package via spacy.load('en_core_web_lg')\n"
     ]
    }
   ],
   "source": [
    "!python -m spacy download en_core_web_lg"
   ]
  },
  {
   "cell_type": "code",
   "execution_count": 4,
   "id": "507d9912",
   "metadata": {},
   "outputs": [
    {
     "name": "stdout",
     "output_type": "stream",
     "text": [
      "Requirement already satisfied: pydantic in c:\\users\\mkusumur\\anaconda3\\envs\\delete_later\\lib\\site-packages (1.9.2)\n",
      "Requirement already satisfied: dataclasses>=0.6 in c:\\users\\mkusumur\\anaconda3\\envs\\delete_later\\lib\\site-packages (from pydantic) (0.8)\n",
      "Requirement already satisfied: typing-extensions>=3.7.4.3 in c:\\users\\mkusumur\\anaconda3\\envs\\delete_later\\lib\\site-packages (from pydantic) (4.1.1)\n"
     ]
    }
   ],
   "source": [
    "!pip install pydantic --upgrade"
   ]
  },
  {
   "cell_type": "code",
   "execution_count": 5,
   "id": "ccd7fdf4",
   "metadata": {},
   "outputs": [
    {
     "name": "stdout",
     "output_type": "stream",
     "text": [
      "Requirement already satisfied: blis in c:\\users\\mkusumur\\anaconda3\\envs\\delete_later\\lib\\site-packages (0.7.9)\n",
      "Requirement already satisfied: numpy>=1.15.0 in c:\\users\\mkusumur\\anaconda3\\envs\\delete_later\\lib\\site-packages (from blis) (1.19.5)\n"
     ]
    }
   ],
   "source": [
    "!pip install blis"
   ]
  },
  {
   "cell_type": "code",
   "execution_count": 6,
   "id": "883ff771",
   "metadata": {},
   "outputs": [
    {
     "name": "stdout",
     "output_type": "stream",
     "text": [
      "Requirement already satisfied: thinc in c:\\users\\mkusumur\\anaconda3\\envs\\delete_later\\lib\\site-packages (8.1.7)\n",
      "Requirement already satisfied: preshed<3.1.0,>=3.0.2 in c:\\users\\mkusumur\\anaconda3\\envs\\delete_later\\lib\\site-packages (from thinc) (3.0.8)\n",
      "Requirement already satisfied: packaging>=20.0 in c:\\users\\mkusumur\\anaconda3\\envs\\delete_later\\lib\\site-packages (from thinc) (21.3)\n",
      "Requirement already satisfied: cymem<2.1.0,>=2.0.2 in c:\\users\\mkusumur\\anaconda3\\envs\\delete_later\\lib\\site-packages (from thinc) (2.0.7)\n",
      "Requirement already satisfied: contextvars<3,>=2.4 in c:\\users\\mkusumur\\anaconda3\\envs\\delete_later\\lib\\site-packages (from thinc) (2.4)\n",
      "Requirement already satisfied: typing-extensions<4.5.0,>=3.7.4.1 in c:\\users\\mkusumur\\anaconda3\\envs\\delete_later\\lib\\site-packages (from thinc) (4.1.1)\n",
      "Requirement already satisfied: srsly<3.0.0,>=2.4.0 in c:\\users\\mkusumur\\anaconda3\\envs\\delete_later\\lib\\site-packages (from thinc) (2.4.5)\n",
      "Requirement already satisfied: pydantic!=1.8,!=1.8.1,<1.11.0,>=1.7.4 in c:\\users\\mkusumur\\anaconda3\\envs\\delete_later\\lib\\site-packages (from thinc) (1.9.2)\n",
      "Requirement already satisfied: murmurhash<1.1.0,>=1.0.2 in c:\\users\\mkusumur\\anaconda3\\envs\\delete_later\\lib\\site-packages (from thinc) (1.0.9)\n",
      "Requirement already satisfied: blis<0.8.0,>=0.7.8 in c:\\users\\mkusumur\\anaconda3\\envs\\delete_later\\lib\\site-packages (from thinc) (0.7.9)\n",
      "Requirement already satisfied: numpy>=1.15.0 in c:\\users\\mkusumur\\anaconda3\\envs\\delete_later\\lib\\site-packages (from thinc) (1.19.5)\n",
      "Requirement already satisfied: catalogue<2.1.0,>=2.0.4 in c:\\users\\mkusumur\\anaconda3\\envs\\delete_later\\lib\\site-packages (from thinc) (2.0.8)\n",
      "Requirement already satisfied: setuptools in c:\\users\\mkusumur\\anaconda3\\envs\\delete_later\\lib\\site-packages (from thinc) (58.0.4)\n",
      "Requirement already satisfied: dataclasses<1.0,>=0.6 in c:\\users\\mkusumur\\anaconda3\\envs\\delete_later\\lib\\site-packages (from thinc) (0.8)\n",
      "Requirement already satisfied: wasabi<1.2.0,>=0.8.1 in c:\\users\\mkusumur\\anaconda3\\envs\\delete_later\\lib\\site-packages (from thinc) (1.1.1)\n",
      "Requirement already satisfied: confection<1.0.0,>=0.0.1 in c:\\users\\mkusumur\\anaconda3\\envs\\delete_later\\lib\\site-packages (from thinc) (0.0.4)\n",
      "Requirement already satisfied: zipp>=0.5 in c:\\users\\mkusumur\\anaconda3\\envs\\delete_later\\lib\\site-packages (from catalogue<2.1.0,>=2.0.4->thinc) (3.6.0)\n",
      "Requirement already satisfied: immutables>=0.9 in c:\\users\\mkusumur\\anaconda3\\envs\\delete_later\\lib\\site-packages (from contextvars<3,>=2.4->thinc) (0.19)\n",
      "Requirement already satisfied: pyparsing!=3.0.5,>=2.0.2 in c:\\users\\mkusumur\\anaconda3\\envs\\delete_later\\lib\\site-packages (from packaging>=20.0->thinc) (3.0.9)\n"
     ]
    }
   ],
   "source": [
    "!pip install thinc"
   ]
  },
  {
   "cell_type": "code",
   "execution_count": 32,
   "id": "6a590c94",
   "metadata": {},
   "outputs": [],
   "source": [
    "!pip install typing_extensions>=3.7.4"
   ]
  },
  {
   "cell_type": "code",
   "execution_count": 12,
   "id": "dfa66335",
   "metadata": {},
   "outputs": [],
   "source": [
    "import spacy\n",
    "nlp = spacy.load(\"en_core_web_lg\")\n",
    "docs = list(nlp.pipe(data['Comment Body']))"
   ]
  },
  {
   "cell_type": "code",
   "execution_count": 13,
   "id": "39658ad5",
   "metadata": {},
   "outputs": [
    {
     "name": "stdout",
     "output_type": "stream",
     "text": [
      "[('I', 960), ('it', 747), ('you', 433), ('that', 204), ('the watch', 146), ('i', 115), ('It', 107), ('me', 90), ('they', 82), ('this', 69), ('🔥', 66), ('which', 57), ('You', 54), ('what', 53), ('the app', 46), ('them', 41), ('Thanks', 41), ('That', 40), ('Huawei', 40), ('Strava', 31), ('https://celest-watches.com', 31), ('46mm', 28), ('everything', 25), ('More watch', 25), ('HUAWEI WATCH', 25), ('mine', 22), ('something', 22), ('the phone', 22), ('This', 22), ('notifications', 21), ('apps', 21), ('\\\\-', 21), ('iOS', 20), ('anything', 20), ('we', 19), ('the US', 18), ('my watch', 18), ('GT3', 16), ('a lot', 16), ('Android', 15), ('my phone', 15), ('Garmin', 14), ('time', 13), ('What', 13), ('the screen', 13), ('workouts', 13), ('all', 12), ('your watch', 12), ('people', 12), ('those', 12), ('the problem', 11), ('the GT3', 11), ('They', 11), ('gt3', 11), ('your phone', 11), ('ECG', 11), ('a map', 11), ('nothing', 10), ('the battery', 10), ('things', 10), ('Huawei Health', 10), ('GT2', 10), ('android', 9), ('faces', 9), ('the Huawei Health app', 9), ('huawei', 9), ('an update', 9), ('the time', 9), ('the device', 9), ('watch faces', 9), ('the box', 9), ('someone', 9), ('China', 8), ('battery life', 8), ('the GT', 8), ('iPhone', 8), ('Google', 8), ('a watch', 8), ('GT', 8), ('my GT3', 8), ('lots', 8), ('strava', 7), ('these', 7), ('an issue', 7), ('anyone', 7), ('Mine', 7), ('the Health app', 7), ('an iPhone', 7), ('the Watch', 7), ('this one', 7), ('pro', 7), ('Europe', 7), ('the GT3 Pro', 7), ('the map', 7), ('watches', 7), ('health sync', 6), ('issues', 6), ('the health app', 6), ('this watch', 6), ('GT Runner', 6), ('UK', 6), ('Germany', 6), ('this issue', 6), ('the one', 6), ('the same problem', 6), ('Huawei Health App', 6), ('a problem', 6), ('the way', 6), ('who', 6), ('the battery life', 6), ('a workout', 6), ('watch', 6), ('a notification', 6), ('us', 6), ('warranty', 6), ('gt runner', 6), ('Pro', 6), ('42mm', 6), ('your wrist', 6), ('Huawei watches', 6), ('devices', 6), ('the issue', 6), ('IOS', 6), ('heart rate', 5), ('The watch', 5), ('itself', 5), ('the GT Runner', 5), ('phone', 5), ('a way', 5), ('iphone', 5), ('work', 5), ('some', 5), ('🔎🔎 Search \"Shards', 5), ('app', 5), ('Health Sync', 5), ('the answer', 5), ('u', 5), ('no way', 5), ('the day', 5), ('Huawei health', 5), ('both', 5), ('scratches', 5), ('navigation', 5), ('HUAWEI WATCH GT', 5), ('watchfaces', 5), ('a Huawei phone', 5), ('the hardware', 5), ('the GT2', 5), ('plenty', 5), ('one', 5), ('an app', 5), ('water', 5), ('the end', 5), ('Amazon', 5), ('the accuracy', 5), ('the display', 5), ('Faces', 5), ('the UK', 5), ('HR data', 4), ('the huawei health app', 4), ('the GT runner', 4), ('GPS', 4), ('the information', 4), ('the same issue', 4), ('sleep tracking', 4), ('that issue', 4), ('times', 4), ('some features', 4), ('your', 4), ('him', 4), ('\\U0001f929\\U0001f929\\U0001f929 Available', 4), ('🔎', 4), ('the gt3', 4), ('gt3 pro', 4), ('the distance', 4), ('this problem', 4), ('the notification', 4), ('yours', 4), ('an option', 4), ('the server', 4), ('the data', 4), ('a couple', 4), ('support', 4), ('my wife', 4), ('3 pro', 4), ('messages', 4), ('anybody', 4), ('stuff', 4), ('the option', 4), ('thanks', 4), ('WhatsApp', 4), ('HUAWEI WATCH GT2e', 4), ('HONOR MagicWatch', 4), ('HONOR', 4), ('GS Pro', 4), ('3 SE', 4), ('HUAWEI Watch GT', 4), ('HUAWEI WATCH GT Runner', 4), ('GT Cyber  \\n\\\\-', 4), ('GT SE', 4), ('Buds  \\nMore watch', 4), ('an android phone', 4), ('the update', 4), ('the Huawei health app', 4), ('heart', 4), ('myself', 4), ('any', 4), ('emojis', 4), ('gt', 4), ('apple watch', 4), ('updates', 4), ('any way', 4), ('the Huawei', 4), ('a screen protector', 4), ('the face', 4), ('the Huawei AppGallery', 4), ('the gt runner', 4), ('case', 4), ('order', 4), ('🔥🔥', 4), ('the difference', 4), ('the ones', 4), ('Forerunner', 4), ('voice', 4), ('the bus', 4), ('Huawei health app', 3), ('data', 3), ('events', 3), ('the heart rate data', 3), ('music', 3), ('price', 3), ('the features', 3), ('example', 3), ('calls', 3), ('the GPS', 3), ('my gt runner', 3), ('Which', 3), ('my iPhone', 3), ('the faces', 3), ('Harmony OS', 3), ('a keyboard', 3), ('my case', 3), ('a look', 3), ('Australia', 3), ('others', 3), ('SpO2', 3), ('the future', 3), ('My watch', 3), ('no notification', 3), ('the sync', 3), ('she', 3), ('the gt', 3), ('some people', 3), ('my GT2', 3), ('years', 3), ('mind', 3), ('sense', 3), ('HR', 3), ('the price', 3), ('money', 3), ('GT3 pro', 3), ('your location', 3), ('pictures', 3), ('HUAWEI WATCH GT2', 3), ('vibration', 3), ('Question', 3), ('the Huawei Health', 3), ('health', 3), ('a feature', 3), ('that feature', 3), ('Canada', 3), ('LiteOS', 3), ('wearOS', 3), ('GT3 Pro', 3), ('the watches', 3), ('the USA', 3), ('+', 3), ('sleep', 3), ('the feedback', 3), ('🔥  \\nCompatible devices', 3), ('Update', 3), ('the store', 3), ('a phone', 3), ('4 years', 3), ('text', 3), ('5 days', 3), ('battery', 3), ('the OS', 3), ('3 Pro', 3), ('the info', 3), ('watchface', 3), ('the workouts', 3), ('my experience', 3), ('the strap', 3), ('screen', 3), ('No luck', 3), ('my banking app', 3), ('a watchface', 3), ('the gt3 pro', 3), ('Wear OS', 3), ('Everything', 3), ('spot', 3), ('Edit', 3), ('the gt2', 3), ('the reply', 3), ('the bottom', 3), ('The app', 3), ('the case', 3), ('skin vascularity', 3), ('the background', 3), ('steps', 3), ('the house', 3), ('petal maps', 3), ('the latest version', 3), ('Greece', 3), ('this macro', 3), ('notification', 3), ('access', 3), ('your country', 3), ('a face', 3), ('the buttons', 3), ('gt3 series', 3), ('all sensors', 3), ('the scratch', 3), ('the other hand', 3), ('Hong Kong', 3), ('quick replies', 3), ('the Watch Fit', 2), ('my runs', 2), ('workout', 2), ('EMUI', 2), ('a pair', 2), ('some reviews', 2), ('sale', 2), ('the hundreds', 2), ('Battery life', 2), ('texts', 2), ('All', 2), ('a separate app', 2), ('a shout', 2), ('Samsung', 2), ('the gps', 2), ('the heart rate', 2), ('accuracy', 2), ('Turkey', 2), ('a while', 2), ('No maps', 2), ('a galaxy', 2), ('news', 2), ('the ECG', 2), ('your finger', 2), ('app gallery', 2), ('the thing', 2), ('the pro', 2), ('Nothing', 2), ('fact', 2), ('features', 2), ('gallery', 2), ('Petal search', 2), ('the world', 2), ('account', 2), ('this thread', 2), ('a laptop', 2), ('Nice', 2), ('your opinion', 2), ('garmin', 2), ('the use', 2), ('smartwatches', 2), ('a third party app', 2), ('hiking', 2), ('Its', 2), ('signal', 2), ('the trick', 2), ('wich', 2), ('distance', 2), ('turnarounds', 2), ('the room', 2), ('your smartphone', 2), ('an Android phone', 2), ('the market', 2), ('the regular watch', 2), ('the night mode', 2), ('issue', 2), ('the moment', 2), ('The issue', 2), ('no issues', 2), ('a', 2), ('a problem report', 2), ('another problem', 2), ('a smart watch', 2), ('reading', 2), ('the same sensor', 2), ('a GT 2e', 2), ('\\U0001f972', 2), ('the amount', 2), ('my wrist', 2), ('training', 2), ('price difference', 2), ('the integration', 2), ('a doctor', 2), ('a smartwatch', 2), ('The Health app', 2), ('the route', 2), ('photos', 2), ('a gt2', 2), ('the first time', 2), ('Someone', 2), ('Viber', 2), ('call', 2), ('everyone', 2), ('their products', 2), ('the edge', 2), ('my country', 2), ('HR tracking', 2), ('any new updates', 2), ('HRV', 2), ('a GT Runner', 2), ('this price', 2), ('Fit', 2), ('he', 2), ('any problems', 2), ('a pool', 2), ('People', 2), ('no problem', 2), ('your steps', 2), ('Komoot', 2), ('a gpx file', 2), ('the topic', 2), ('the Google Play Store', 2), ('reviews', 2), ('SMS', 2), ('night', 2), ('the vibration', 2), ('Redmi Note 10Pro', 2), ('any issues', 2), ('Appgallery', 2), ('HMS core', 2), ('the latest health app', 2), ('appgallery', 2), ('Harmony os', 2), ('the series', 2), ('the huawei app gallery', 2), ('the watch settings', 2), ('SpO2, steel and gorilla glass', 2), ('titanium', 2), ('HarmonyOS', 2), ('your way', 2), ('the point', 2), ('the apps', 2), ('the USA ban', 2), ('the job', 2), ('the fact', 2), ('no problems', 2), ('Notifications', 2), ('True Sleep', 2), ('Huawei Health app', 2), ('Sucks', 2), ('two years', 2), ('the huawei site', 2), ('this point', 2), ('blood pressure', 2), ('readings', 2), ('the reading', 2), ('whatever', 2), ('google', 2), ('a Huawei watch', 2), ('my gt3 pro', 2), ('ebay', 2), ('the only thing', 2), ('all the features', 2), ('esim', 2), ('other apps', 2), ('an arrow', 2), ('the things', 2), ('no map', 2), ('a time', 2), ('1 minute', 2), ('That one', 2), ('the Health App', 2), ('a GT', 2), ('keyboard', 2), ('my GT', 2), ('your case', 2), ('a good way', 2), ('the huawei watch', 2), ('heavy use', 2), ('Fitbit', 2), ('Apple', 2), ('the complications', 2), ('exactly what', 2), ('the settings', 2), ('course', 2), ('the specs', 2), ('activities', 2), ('no idea', 2), ('the galaxy', 2), ('water damage', 2), ('the factory', 2), ('the page', 2), ('a regional thing', 2), ('the \"AppGallery\" button', 2), ('a new strap', 2), ('the Huawei app', 2), ('EDIT', 2), ('runners', 2), ('the running courses', 2), ('runs', 2), ('the same version', 2), ('YouTube', 2), ('some kind', 2), ('some watchfaces', 2), ('DarkBlue', 2), ('a GT3', 2), ('the stock watch', 2), ('an iphone', 2), ('telegram', 2), ('number', 2), ('the money', 2), ('my Mac', 2), ('temperature monitoring', 2), ('the wrist', 2), ('your comment', 2), ('my workouts', 2), ('country', 2), ('face', 2), ('the country', 2), ('the ID', 2), ('sweat', 2), ('arms fixes', 2), ('light', 2), ('HR readings', 2), ('a try', 2), ('weightlifting', 2), ('a wrist based device', 2), ('runner', 2), ('any prompt', 2), ('Health app', 2), ('Factory', 2), ('the best thing', 2), ('factors', 2), ('necklaces', 2), ('my heart rate', 2), ('the same results', 2), ('the uk', 2), ('gt2', 2), ('a GT2', 2), ('Settings', 2), ('the Huawei store', 2), ('no watch', 2), ('display', 2), ('Yours', 2), ('some reason', 2), ('AU', 2), ('problems', 2), ('huawei health', 2), ('Thx', 2), ('a picture', 2), ('the options', 2), ('a thing', 2), ('not the watch', 2), ('the steps', 2), ('download', 2), ('a Google Pixel', 2), ('2 months', 2), ('par', 2), ('the apple watch', 2), ('an android', 2), ('the event', 2), ('😡', 2), ('the wrong thread', 2), ('a fitness tracker', 2), ('my gt3', 2), ('settings', 2), ('the app gallery', 2), ('the play store', 2), ('APKs', 2), ('day', 2), ('my GT Runner', 2), ('your response', 2), ('same issue', 2), ('the macro', 2), ('AOD', 2), ('my gt2', 2), ('that area', 2), ('CELEST', 2), ('the HUAWEI Health app', 2), ('even more devices', 2), ('the Series', 2), ('VPNs', 2), ('device', 2), ('the huawei', 2), ('The gt runner', 2), ('the ability', 2), ('the Garmin', 2), ('my region', 2), ('the training plans', 2), ('12 hours', 2), ('biking', 2), ('calories', 2), ('We', 2), ('its', 2), ('the step count', 2), ('the top', 2), ('lol', 2), (\"'s\", 2), ('crap', 2), ('a source', 2), ('second', 2), ('the widget', 2), ('step', 2), ('my language', 2), ('Custom', 2), ('English', 2), ('the article', 2), ('the region', 2), ('a walk', 2), ('help', 2), ('the motherboard', 2), ('no reason', 2), ('the Galaxy', 2), ('that method', 2), ('stock', 2), ('your rant', 2), ('changes', 2), ('the back', 2), ('an account', 2), ('the Huawei ban', 2), ('a VPN', 2), ('Madrid', 2), ('any advise', 2), ('a 13 pro max', 2), ('the color', 2), ('more options', 2), ('the volume', 2), ('Rip', 2), ('specific instructions', 2), ('the weight', 2), ('direct sync', 1), ('a third party', 1), ('the Heartrate data', 1), ('the first ride', 1), ('the hr data', 1), ('no option', 1), ('Huawei app', 1), ('mixed results', 1), ('The first couple', 1), ('the third', 1), ('my first couple imports', 1), ('No pace', 1), ('Strava subscription', 1), ('your workout', 1), ('the route page', 1), ('the right side', 1), ('the bottom icon', 1), ('the .gpx data', 1), ('My amazfit', 1), ('heart data', 1), ('the health sync', 1), ('Bit', 1), ('1 week', 1), ('my perspective', 1), ('my old Timex', 1), ('a Garmin strap', 1), ('full marathons', 1), ('* Big, bright screen', 1), ('bright sunlight', 1), ('metrics', 1), ('the need', 1), ('The crown', 1), ('an additional control', 1), ('less smudges', 1), ('my watch screen', 1), ('haha', 1), ('Frees', 1), ('Fast GPS lock', 1), ('my old Watch Fit', 1), ('my training plan', 1), ('Huawei Health\\n   *', 1), ('my earbuds', 1), ('Some minor issues', 1), ('But not dealbreakers', 1), ('its running features', 1), (\"my phone's Privatespace\", 1), ('the Mainspace', 1), ('the clover leaf', 1), ('the syncs', 1), (\"the phone's data\", 1), ('Assistant feature', 1), ('newer Huawei models', 1), ('a Mate', 1), ('NFC', 1), ('region', 1), ('an access badge', 1), ('Music transfer', 1), ('a playlist', 1), (\"Huawei's native Music app\", 1), ('the files', 1), ('the playlist', 1), ('the order', 1), ('the Band 4E', 1), ('my Phone', 1), ('Fit + Band 4E', 1), ('footpod mode', 1), ('those stats', 1), ('an S-Tag', 1), ('ANT+ stuff', 1), ('cyclists', 1), ('weightlifters', 1), ('an old Timex HR strap', 1), ('those workouts', 1), ('Good thing', 1), ('a great watch', 1), ('a pro runner', 1), ('about a month', 1), ('Ran', 1), ('a HM', 1), ('HR monitor', 1), ('Lots', 1), ('functions', 1), ('intervals', 1), ('complex running plans', 1), ('the Huawei website', 1), ('the Black Friday deal', 1), ('a free foot band thing', 1), ('scales', 1), ('the build quality', 1), ('fine details', 1), ('USD150', 1), ('Malaysia', 1), ('around 8-9 updates', 1), ('a good sign', 1), ('Hauwei', 1), ('the later updates', 1), ('the track lane feature', 1), (\"Coros Pace 2's key features\", 1), ('GPS locking', 1), ('fast and running metrics', 1), ('Free watch', 1), ('a bad unit', 1), ('the altimeter/ barometer widget', 1), ('a gt2e', 1), ('Although annoyingly this new model breaks', 1), ('Annoyances', 1), (':\\nAccidental screen presses', 1), ('the screen theme change', 1), ('the default gallery option', 1), ('Screen refresh rate', 1), ('new apps', 1), ('the call quality', 1), ('message templates', 1), ('Biggest drawback', 1), ('the gt2e', 1), ('music control', 1), ('music playback', 1), ('the music section', 1), ('both the watch', 1), ('Half marathon', 1), ('my max', 1), ('a Fenix', 1), ('gps', 1), ('an amazing deal', 1), ('Which country', 1), ('other Huawei smartwatches', 1), ('the satellites', 1), ('only one thing', 1), ('health sync app', 1), ('a week', 1), ('my FR', 1), ('my cadence', 1), ('The features', 1), ('The only negative', 1), ('a hardware side', 1), ('the crown', 1), ('a bad one', 1), ('new watches', 1), ('most brands', 1), ('NFC payments', 1), ('Asia', 1), ('EU countries', 1), ('Middle East', 1), ('the two Bluetooth connections', 1), ('the only fix', 1), ('a huge inconvenience', 1), ('all afaik', 1), ('my Nothing Phone', 1), ('different watchfaces', 1), ('Water', 1), ('finger tip', 1), ('this prob', 1), ('my finger', 1), ('Works', 1), ('a dry finger', 1), ('the only app', 1), ('few things', 1), ('petal map', 1), ('premature ventricle', 1), ('the same research', 1), ('some months', 1), ('(active version', 1), ('better sensors', 1), ('a newer make', 1), ('the reasons', 1), ('the lane', 1), ('great heart sensor', 1), ('2 indoor walk sessions', 1), ('1.5-2hr', 1), ('each', 1), ('100% battery', 1), ('30%', 1), ('depletion', 1), ('a good number', 1), ('decent quality', 1), ('The interface', 1), ('always - WhatsApp message', 1), ('a list', 1), ('predefined responses', 1), ('the calendar app', 1), (\"Samsung's calendar\", 1), ('feature', 1), ('calendar notifications', 1), ('standalone', 1), ('users', 1), ('Huawei ban', 1), ('health & activity tracking', 1), ('a good bang', 1), ('the buck', 1), ('a few questions', 1), ('How many days', 1), ('light, moderate or heavy usage', 1), ('Whatsapp', 1), ('a calendar app', 1), ('upcoming events', 1), (\"My gt2 pro's GPS\", 1), ('a mess', 1), ('the same questions', 1), ('this version', 1), ('the mentioned version', 1), ('the upgrade', 1), ('a 100% accurate route', 1), ('Just a note', 1), ('my upgrade', 1), ('11.0.11.6', 1), ('the title', 1), ('the cache', 1), ('Its the latest patxh', 1), ('Its the same update', 1), ('the .2', 1), ('its a region thing', 1), ('my GT 2e', 1), ('Idk', 1), ('GT runner', 1), ('a Driving Range option', 1), ('golf app', 1), ('driving range', 1), ('only the pro', 1), ('Driving range', 1), ('notifs', 1), ('The weather', 1), ('hours', 1), ('The pairing', 1), ('outside devices', 1), ('an apple watch', 1), ('my one week battery life', 1), ('GT2 Pro', 1), ('almost 2 years', 1), ('iOS side', 1), ('The closed nature', 1), ('the O/S', 1), ('some noticeable limitations', 1), ('weather sync', 1), ('no add-on apps', 1), ('a big deal', 1), ('side', 1), (\"Hua's marketplace\", 1), ('the Health version', 1), ('Google Play store', 1), ('any other alternative', 1), ('the large battery time', 1), ('the robustness', 1), ('the construction', 1), ('the detailed answer', 1), ('my previous concerns', 1), ('pleasureable', 1), ('the 2-3 day battery life', 1), ('the apple ones', 1), ('many choices', 1), ('https://i.redd.it/0hk2qjd2z1r91.jpg', 1), ('a nice one', 1), ('all the info', 1), ('a glance', 1), ('a larger range', 1), ('the US iPhone', 1), ('any watch', 1), ('gears', 1), ('the circles', 1), ('The app gallery', 1), ('limitations', 1), ('certain parts', 1), ('Cyprus', 1), ('this person', 1), ('my mobile phone', 1), ('my laptop', 1), ('mobile phone', 1), ('the laptop', 1), ('the account', 1), ('no captcha', 1), ('the captcha', 1), ('all caches', 1), ('his phone', 1), ('a point', 1), ('the forums', 1), ('the serious stuff', 1), ('100%', 1), ('3 reasons', 1), ('the titanium case', 1), ('strap', 1), ('the ecg/heart features', 1), ('Afib persistent', 1), ('almost zero support', 1), ('the forum', 1), ('a rolex', 1), ('A deep fitness and health things', 1), ('a balance', 1), ('the show', 1), ('a casual runner', 1), ('serious money', 1), ('that same mistake', 1), ('my HW', 1), ('a GW4 Classic', 1), ('the fat dad', 1), ('an athlete', 1), ('his mates', 1), ('a pub', 1), ('the fantastic screen', 1), ('an Apple Watch', 1), ('Mo Farah', 1), ('their marketing', 1), ('any hauwei', 1), ('gpx', 1), ('the gt2,might look', 1), ('the navigation', 1), ('Its just a breadcrumb treail', 1), ('voice commands', 1), ('the Internet', 1), ('many people', 1), ('som', 1), ('a garmin watch', 1), ('handheld', 1), ('a Thinkrider chest strap', 1), ('my GT runner', 1), ('weak battery', 1), ('other reason', 1), ('a Tom Tom watch', 1), ('a Polar chest strap', 1), ('more than a month', 1), ('the same other parameters', 1), ('any fix', 1), ('a few restarts', 1), ('Harmony', 1), ('a Huawei GT Runner', 1), ('certified half marathon and marathon circuits', 1), ('about 200 mts', 1), ('the half marathon', 1), ('marathon', 1), ('no PB', 1), ('https://www.reddit.com/r/Strava/](https://www.reddit.com/r/Strava/', 1), ('a common problem', 1), ('all the watches', 1), ('Congrats', 1), ('your run', 1), ('good pace', 1), ('the HR data', 1), ('Nice surprise', 1), ('the guy', 1), ('great little app', 1), ('a marketing ploy', 1), ('the guise', 1), ('Heart Rate data', 1), ('a health and sports marketed product', 1), ('especially the GT Runner', 1), ('a small issue', 1), ('few features', 1), ('- uploading music', 1), ('- predefined answer options', 1), ('- weather', 1), ('Connection problems', 1), ('a GT3 Pro', 1), ('this conectivity problem', 1), ('about half', 1), ('ca', 1), ('7 days', 1), ('Android phone', 1), ('Not much use', 1), ('my calendar', 1), ('zone targets', 1), ('feedback', 1), ('Gt runner', 1), ('this functionality', 1), (\"sport's tracking\", 1), ('weird moves', 1), ('the \"runners', 1), ('option', 1), ('trainings', 1), ('routines', 1), ('this runner', 1), ('mockups', 1), ('a clear contrast', 1), ('the analogue hands', 1), ('whatever busy background', 1), ('the camoflauged hand', 1), ('the grey hollow or skinny grey hands', 1), ('a grey background', 1), ('a range', 1), ('clear white hands', 1), ('a dark face', 1), ('S051G.', 1), ('the designs', 1), ('huawei watch face', 1), ('the “night mode', 1), ('luminescence', 1), ('the normal one', 1), ('Jup', 1), ('clearly a fault unit', 1), ('\"Link', 1), ('Notification', 1), ('sync', 1), ('Huawei health server', 1), ('the main dashboard', 1), ('part', 1), ('like 3 slide down updates', 1), ('13 Health Sync', 1), ('minutes', 1), (\"my 'workout\", 1), ('your Huawei Health', 1), ('your app permissions', 1), (\"my wife's phone\", 1), ('her accounts', 1), ('Good luck', 1), ('another go', 1), ('Wasted hours', 1), ('too much time', 1), ('the Help Center menu', 1), ('the last option', 1), ('the metrics', 1), ('a  xiaomi', 1), ('the records', 1), ('Her stats', 1), ('trash', 1), ('the xiamo', 1), ('literal trash', 1), ('premium', 1), ('the sleep tracker', 1), ('my bed', 1), ('the light sleep', 1), ('deep sleep', 1), ('my sleep recording', 1), ('a Amazfit TRex', 1), ('what watch', 1), ('the worst part', 1), ('the morning', 1), ('most new watches', 1), ('much difference', 1), ('Gt2', 1), ('nope', 1), ('Que', 1), ('You phone rings', 1), ('My problem', 1), ('the Huawei Health app permissions', 1), ('Call Log', 1), ('Contacts', 1), ('an aod update', 1), ('the official health app', 1), ('not a modded one', 1), ('the music player controls', 1), ('My old watch', 1), ('these controls', 1), ('wireless earbuds', 1), ('so no biggie', 1), ('a higher quality pixel', 1), ('C03 firmware', 1), ('an older version', 1), ('even a chinese one', 1), ('official Huawei health app', 1), ('AppGallery', 1), ('Band', 1), ('my band', 1), ('more features', 1), ('a year old smart watch', 1), ('a big fan', 1), ('the aod', 1), ('my line', 1), ('more sense', 1), ('aod', 1), ('just something', 1), ('new features', 1), ('a music player', 1), ('phone music', 1), ('Or stress level', 1), ('My old band', 1), ('just a fun experiment', 1), ('mirrors', 1), ('the reversal', 1), ('the reflection', 1), ('some weird people', 1), ('just over two years', 1), ('The software', 1), ('minor additions', 1), ('recent versions', 1), ('Huawei app store', 1), ('pretty much spot', 1), ('a charge', 1), ('9 to 10 days', 1), ('a 2 year old device', 1), ('a bad idea', 1), ('the support', 1), ('the new one', 1), ('GT2e', 1), ('good watch', 1), ('that fat rim', 1), ('design', 1), ('the great battery life', 1), ('the amazing heavy duty material', 1), ('Not a single mark', 1), ('great insights', 1), ('iPhone health apps', 1), ('an increase', 1), ('a period', 1), ('6 weeks', 1), ('an infection', 1), (\"the watch's behavior\", 1), ('one point', 1), ('this GT2 PRO', 1), ('more support', 1), ('another post', 1), ('a very good price', 1), ('the titanium build and sapphire glass', 1), ('a cheaper watch', 1), ('fewer charging', 1), ('The additional apps', 1), ('a few games', 1), ('My only wish', 1), ('quick replies template', 1), ('No regrets', 1), ('HUAWEI Health', 1), ('a swimming pool', 1), ('its water resistance', 1), ('the GT3 pro', 1), ('probs', 1), ('an Amazfit stratos', 1), ('11 months', 1), ('my money', 1), ('Amazfit', 1), ('The huawei', 1), ('these becaude', 1), ('the not very smooth lyte os', 1), ('No, there no way', 1), ('some other post', 1), ('Chinese GT3 watches', 1), ('mainland China', 1), ('a firmware update', 1), ('reddit gossip', 1), ('the main app view', 1), ('a pretty good idea', 1), ('your body', 1), ('the training load', 1), ('the individual', 1), ('Thanks pal', 1), ('the particular readings', 1), ('your average', 1), ('any analysis', 1), ('the trends', 1), ('the incoming call', 1), ('No only phone calls', 1), ('a quick reply', 1), ('All apps', 1), ('my runner GT', 1), ('an amateur runner/ fitness enthusiast', 1), ('a sports watch', 1), ('external sensors', 1), ('it(HRM', 1), ('surely others', 1), ('similar training metrics', 1), ('load', 1), ('a different name', 1), ('copywright reasons', 1), ('The 3rd party', 1), ('integration(Strava', 1), ('traingpeaks', 1), ('those minor thing', 1), ('the huawei products', 1), ('an unfinished products', 1), ('The main market', 1), ('just a market', 1), ('their sales graphs', 1), ('Half', 1), ('my house', 1), ('Huawei products', 1), ('smartphones', 1), ('routers', 1), ('not the old ones', 1), ('even laptops', 1), ('matebook', 1), ('so many years', 1), ('their brand', 1), ('the products', 1), ('a previous Huawei watch fit user', 1), ('the only 2 reasons', 1), ('the gt runner one', 1), ('my polar h10', 1), ('monthly updates', 1), ('August', 1), ('September', 1), ('Watch', 1), ('features/metrics', 1), ('body battery', 1), ('protection', 1), ('the HRV', 1), ('a great Idea', 1), ('the estimated recovery time', 1), ('The exclusion', 1), ('the guided workouts', 1), ('the non addition', 1), ('the stretches', 1), ('a runners', 1), ('manny things', 1), ('any sense', 1), ('my main objection', 1), ('2 watch', 1), ('2 elegant edition', 1), ('accessories', 1), ('2022 summer', 1), ('the best smartwatch', 1), ('standart', 1), ('an unpopular smartwatch', 1), ('the same price', 1), ('a flop', 1), ('Just FYI', 1), ('December', 1), ('a runner', 1), ('the question', 1), ('great reviews', 1), ('a different product', 1), ('the Chinese spies', 1), ('its product', 1), ('the swimming pool', 1), ('nature', 1), ('vibrations', 1), ('the swim', 1), ('my Huawei Watch', 1), ('a fresh water glass', 1), ('chlorinated pools', 1), ('salty open waters', 1), ('freshwater', 1), ('chemicals', 1), ('saltwater', 1), ('a hot shower', 1), ('the 5 ATM rating', 1), ('Ty', 1), ('its such a relief', 1), ('my 4th day', 1), ('all advices', 1), ('reddit', 1), ('the same navigation feature', 1), ('return', 1), ('the start point', 1), ('the same features', 1), ('The difference', 1), ('the material', 1), ('the extra sensors', 1), ('GT3 Pro GPS performance', 1), ('(youtube channel scientific review', 1), ('The gt', 1), ('no navigation feature', 1), ('only a route back feature', 1), ('a breadcrumb  navigation', 1), ('real time mapping', 1), ('several Videos', 1), ('https://youtu.be/QoOWZ9HrWXM', 1), ('the conversation', 1), ('the look', 1), ('The major \"issue', 1), ('the notifications system', 1), ('the fitness', 1), ('the GW5 Pro', 1), ('the other side', 1), ('much NFC payments', 1), ('any particular apps', 1), ('videos', 1), ('the last updates', 1), ('any major improvements', 1), ('the last HarmonyOS version', 1), ('different apps', 1), ('GMail', 1), ('third-party apps', 1), ('the smartwhatch', 1), ('the near future', 1), ('Only fix', 1), ('My phone', 1), ('a Pixel 6a', 1), ('your watch settings', 1), ('an accessibility option', 1), ('default', 1), ('the last update', 1), ('Its disabled', 1), ('The notifications', 1), ('view', 1), ('no vibration part', 1), ('the', 1), ('mode', 1), ('your vibration settings', 1), ('max?\\n\\nSettings -> sound', 1), ('vibration ->', 1), ('a Fossil Hybrid', 1), ('the bugs', 1), ('DnD mode', 1), ('more casio', 1), ('the latest designs', 1), ('ios', 1), ('beta', 1), ('Why not just the normal version', 1), ('My GT3', 1), ('https://appgallery.huawei.com/outGoingApp/C10414141', 1), ('GT-855', 1), ('a nothing phone', 1), ('Huawei music', 1), ('truth', 1), (\"Telegram's group/channel texts\", 1), ('call notification', 1), ('What a shame', 1), ('a Huawei', 1), ('emui', 1), ('a WhatsApp call', 1), ('whit', 1), ('talks', 1), ('Huawei customer support', 1), ('a response', 1), ('https://www.huaweicentral.com/huawei-watch-gt-3-harmonyos-3-beta-delayed-to-next-year/', 1), ('The beta', 1), ('airplane mode', 1), ('other parts', 1), ('any global phone', 1), ('harmony', 1), ('my Hauwei', 1), ('Super smooth scrolling,  great new features', 1), ('huawei watch', 1), ('Not GT3', 1), ('the times', 1), ('the Bluetooth settings', 1), ('First disconnect', 1), ('connection', 1), ('a typical Bluetooth device', 1), ('phone Bluetooth settings', 1), ('46 mm version', 1), ('two bluetooth entries', 1), ('**Forget', 1), ('*', 1), ('a fresh device', 1), ('the Bluetooth device name', 1), ('original name', 1), ('Bluetooth).\\\\', 1), ('4 sensors', 1), ('8 sensors', 1), ('8 light sensor', 1), ('3 electrodes', 1), ('sapphire', 1), ('both cases', 1), ('stronger material', 1), ('bigger battery', 1), ('the gt series', 1), ('any wearOS device', 1), ('any weightlifting apps', 1), ('many good apps', 1), ('Android kernel', 1), ('the porting', 1), ('both wearOS', 1), ('wearables', 1), ('forks', 1), ('the internals', 1), ('so good battery life', 1), ('minimal resources', 1), ('the sensor side', 1), ('Weird design', 1), ('2GB', 1), ('ram', 1), ('32MB', 1), ('Sensors', 1), ('a proper app ecosystem', 1), ('an app ecosystem', 1), ('lower specs hardware', 1), ('general need', 1), ('the size and battery limitations', 1), ('a few things', 1), ('The main issue', 1), ('place', 1), ('the development', 1), ('the biggest markets', 1), ('the biggest selling point', 1), ('strength', 1), ('no rep counts', 1), ('no preprogrammed workouts', 1), ('demonstrations', 1), ('exercises', 1), ('Huawei watch', 1), ('the rep counting', 1), ('whatnot', 1), ('a “Strenght” mode', 1), ('tegular GT3', 1), ('Venu2', 1), ('your turn', 1), ('bluetooth', 1), ('my Venu', 1), ('bt', 1), ('1,5 years', 1), ('the workout programs', 1), ('the health tracking', 1), ('an Android device', 1), ('much more useful stuff', 1), ('The programs', 1), ('works', 1), ('a rest-timer', 1), ('Set counter', 1), ('heaphones', 1), ('your HR', 1), ('my headphones', 1), ('the notifications', 1), ('the DND mode', 1), ('the BT', 1), ('the sleep sensor', 1), ('the original GT', 1), ('a AGt', 1), ('2e', 1), ('my sleep', 1), ('naps', 1), ('the latest firmware', 1), ('sleep settings', 1), ('so many features', 1), ('their watches', 1), ('paper', 1), ('\"false-positive sleep', 1), ('the comments', 1), ('the customer support site', 1), ('beginning', 1), ('non-existent naps', 1), ('almost every other wearable brand', 1), ('comments', 1), ('the site', 1), ('the same copy-paste', 1), ('the shredder team\" comment', 1), ('my pov', 1), ('the helpful answer', 1), ('a similar problem', 1), ('the customer support answer', 1), ('false-positive naps', 1), ('sleep\" data', 1), ('the past two years', 1), ('study/work/movie/etc. sessions', 1), ('the sleep data', 1), ('the appropriate team', 1), ('your message', 1), ('Blood pressure', 1), ('arterial stiffness', 1), ('the Huawei D', 1), ('first day', 1), ('a device', 1), ('the devices', 1), ('a reading', 1), ('the sliders', 1), ('an alternative way', 1), ('https://play.google.com/store/apps/details?id=nl.appyhapps.healthsync', 1), ('a trial period', 1), ('US', 1), ('Android and Google Play store', 1), ('a different story', 1), ('a bit more work', 1), ('GP', 1), ('good info', 1), ('My guess', 1), ('any special code', 1), ('the linking', 1), ('accounts', 1), ('the Huawei App Store', 1), ('its health app', 1), ('my samsung', 1), ('a bigger deal', 1), ('maybe more options', 1), (\"sync'd\", 1), ('better analytics', 1), ('about 2 weeks', 1), ('the native health app', 1), ('a great job', 1), ('a workout dashboard', 1), ('my current one', 1), ('the rabbit hole', 1), ('singapore', 1), ('Strava integration', 1), ('First couple', 1), ('tries', 1), ('x200B', 1), ('https://www.youtube.com/watch?v=qeL5rRkprzQ&t=647s', 1), ('Health Sync app', 1), ('a free one', 1), ('The last update', 1), ('my battery', 1), ('0%', 1), ('24 hours', 1), ('the huawei retailer', 1), ('What phone', 1), ('no lgbtq custom watch', 1), ('thingies', 1), ('iphone xr', 1), ('a pink apple watch', 1), ('a lgtbt watch face', 1), ('What watch', 1), ('a pride flag watchface', 1), ('factory', 1), ('the receipt', 1), ('idk', 1), ('warranty thing', 1), ('The gt3', 1), ('e-sim support', 1), ('that, maybe the gt3 pro', 1), ('the Route', 1), ('The navigation part', 1), ('no Map', 1), ('full stop', 1), ('a track', 1), ('the company', 1), ('basic functionality', 1), ('exercise mode', 1), ('your route', 1), ('that track', 1), ('just a line', 1), ('the functionality', 1), ('directions', 1), ('the direction', 1), ('navigation warnings', 1), ('left)', 1), ('your research', 1), ('the opposite', 1), ('the fitness and health stuff', 1), ('the next left', 1), ('the left', 1), ('a similar level', 1), ('your GPS direction line', 1), ('a barometer or skin temperature sensor', 1), ('a screen display', 1), ('a navigation', 1), ('your product', 1), ('a reality', 1), ('The main reason', 1), ('a webpage', 1), ('some \"unusual site', 1), ('specific functionality', 1), ('the \"phone tethered\" model', 1), ('the other option', 1), ('X amount amount', 1), ('another SIM', 1), ('X amount', 1), ('a one off payment', 1), ('this tether', 1), ('common activities', 1), ('half', 1), ('a Map', 1), ('Petal maps', 1), ('Google maps', 1), ('then a GPS point', 1), ('different Zoom levels', 1), ('further details', 1), ('a dedicated GPS', 1), ('a car', 1), ('100m', 1), ('that direction', 1), ('a very needed function', 1), ('an activity watch', 1), ('a different route', 1), ('a small mistake', 1), ('your phone opening', 1), ('your tiny running shorts pocket', 1), ('a (first world) hassle', 1), ('no loss', 1), ('stride', 1), ('pace', 1), ('Same thing', 1), ('workout mode', 1), ('some weight training', 1), ('a 1 minute Plank', 1), ('core strength', 1), ('the bottom button', 1), ('set timer', 1), ('my workout', 1), ('a timer', 1), ('a work', 1), ('this video', 1), ('Integration', 1), ('the aosp', 1), ('my health app', 1), ('🏼\\u200d', 1), ('Devices', 1), ('GT2 PRO', 1), ('GT RUNNER', 1), ('GT3 PRO', 1), ('Samsung watches', 1), ('the S3', 1), ('The Huawei OS', 1), ('the specific GT3 PRO', 1), ('30 to 60 minutes', 1), ('daily\\n- training', 1), ('60 to 120 minutes', 1), ('My battery life', 1), ('between 8 to 9 days', 1), ('that usage', 1), ('only pre-existing replies', 1), ('The only watch', 1), ('a full keyboard', 1), ('no more than 3 days', 1), ('The sensors', 1), ('sport tracking', 1), ('sleeping', 1), ('a nice extra', 1), ('a ton', 1), ('your option', 1), ('the wearOS family', 1), ('gorgeous and great sensors', 1), ('the basic functions', 1), ('the functions', 1), ('harmony os', 1), ('quick messages', 1), ('speech', 1), ('also no google apps', 1), ('the us ban thing', 1), ('no google apps', 1), ('a calender app', 1), ('the previously mentioned watch', 1), ('your phone(it', 1), ('The battery life', 1), ('14 days', 1), ('8 days', 1), ('the titanium version', 1), ('the ceramic one', 1), ('one advantage', 1), ('bc', 1), ('3 days', 1), ('pebble', 1), ('approx 2 years', 1), ('approx', 1), ('little under 6 months', 1), ('the pro version', 1), ('favour', 1), ('The only exception', 1), ('Signal messages', 1), ('a single charge', 1), ('a bit reckless playing music', 1), ('the flashlight feature', 1), ('white screen', 1), ('the dark', 1), ('3 years', 1), ('a Fitbit charge', 1), ('Silky', 1), ('Plenty', 1), ('a fellow', 1), ('the default faces', 1), ('security issues', 1), ('the same situation', 1), ('miracle', 1), ('all those answers', 1), ('only one question', 1), ('the face watch', 1), ('the AW', 1), ('the detailed response', 1), ('the new Galaxy Watches', 1), ('ECG functionality', 1), ('the detailed info', 1), ('The gt3 pro', 1), ('a bigger battery', 1), ('reviewers', 1), ('better battery life', 1), ('both watches', 1), ('an important factor', 1), ('folks', 1), ('that hideous Apple Watch', 1), ('some apps', 1), ('that route', 1), ('local country approval', 1), ('latin america', 1), ('the new galaxy watches', 1), ('the watch 4 classic', 1), ('the s3 frontier', 1), ('Aha', 1), ('the clarification', 1), ('a second device', 1), ('its looks', 1), ('calendar', 1), ('what kind', 1), ('storage', 1), ('32GB', 1), ('some process', 1), ('my huawei p20', 1), ('an alarm', 1), ('all these alarms', 1), ('00:00 alarms', 1), ('Any advice', 1), ('the alarm', 1), ('The alarm', 1), ('the watch interface', 1), ('a factory reset', 1), ('Alright, weird bug', 1), ('50m', 1), ('5 atmospheres', 1), ('ATM', 1), ('the 5ATM-rated water', 1), ('a water resistance rating', 1), ('50 meters', 1), ('shallow-water activities', 1), ('ocean', 1), ('scuba diving', 1), ('waterskiing', 1), ('other activities', 1), ('high-velocity water', 1), ('submersion', 1), ('shallow depth', 1), ('the official website', 1), ('https://consumer.huawei.com/en/wearables/watch-gt3/specs/', 1), ('their watch', 1), ('a hot, steaming shower', 1), ('the 5 ATM water resistance', 1), ('Temperature fluctuations', 1), ('the gaskets', 1), ('Huawei’s official answer', 1), ('ISO 22810:2010 standards', 1), ('5ATM', 1), ('a water resistance level', 1), ('swimming', 1), ('other water-related activities', 1), ('hand washing', 1), ('daily life', 1), ('5 ATM', 1), ('snorkeling', 1), ('hot showers', 1), ('hot springs', 1), ('saunas', 1), ('steam rooms', 1), ('diving', 1), ('water skiing', 1), ('your done swimming swipe', 1), ('press drain', 1), ('the little water droplet icon', 1), ('each swim', 1), ('The specs', 1), ('numerous reports', 1), ('a 5 minute swim', 1), ('specs', 1), ('a good idea', 1), ('a swimming review', 1), ('long period', 1), ('regular swimming', 1), ('the meaning', 1), ('that warranty', 1), ('opinion', 1), ('the opinion', 1), ('https://www.reddit.com/r/Swimming/comments/x52t4a/huawei_gt3_swimming_review_and_accuracy/\\n\\nhttps://youtu.be/Pmdqi1EujLw', 1), ('virtually the same watch', 1), ('your Huawei AppGallery', 1), ('latest update', 1), ('any apps', 1), ('The Huawei Health app', 1), ('Not all watches', 1), ('that functionality', 1), ('third party/extra” apps', 1), ('some 3rd part apps', 1), ('a region-based limitation', 1), ('these 3rd party apps', 1), ('the GT3 page', 1), ('an appgallery', 1), ('phones', 1), ('Huawei phone', 1), ('the last few weeks', 1), ('a person', 1), ('the \"devices\" tab', 1), ('your region/device', 1), ('the \"Install\" button', 1), ('your choosing', 1), ('What country', 1), ('the AppGallery button', 1), ('my Android phone', 1), ('curiosity', 1), (\"a week's wearing\", 1), ('24x7 use', 1), ('¿Dónde compraste la correa', 1), ('a Milanese band', 1), ('your question', 1), ('only a few hours', 1), ('many smart watches', 1), ('my heart', 1), ('Good question', 1), ('a deal', 1), ('my cousin', 1), ('the payment', 1), ('permission', 1), ('location', 1), ('same problem', 1), ('a setting', 1), ('all the time', 1), ('the exercise area', 1), ('that data', 1), ('GPX file', 1), ('the fitness courses', 1), ('the exercise tab -> outdoor', 1), ('running', 1), ('the the bottom', 1), ('the tab', 1), ('other workout programs', 1), ('runners\\n\\nSad thing', 1), ('VIP subscribers', 1), ('workouts\\n\\nHope', 1), ('no more \"quick workouts', 1), ('Any luck', 1), ('a stupid watch', 1), ('Anything', 1), ('the exercise courses', 1), ('your help', 1), ('Something', 1), ('https://www.google.com/imgres?imgurl=https%3A%2F%2Fi.ytimg.com%2Fvi%2F0DeRBwhHwuc%2Fmaxresdefault.jpg&imgrefurl=https%3A%2F%2Fwww.youtube.com%2Fwatch%3Fv%3D0DeRBwhHwuc&tbnid=iZ8BV3rH0nAhfM&vet=1&docid=0PAwSr4zdIkrAM&w=1280&h=720&itg=1&hl=en-US&source=sh%2Fx%2Fim](https://www.google.com/imgres?imgurl=https%3A%2F%2Fi.ytimg.com%2Fvi%2F0DeRBwhHwuc%2Fmaxresdefault.jpg&imgrefurl=https%3A%2F%2Fwww.youtube.com%2Fwatch%3Fv%3D0DeRBwhHwuc&tbnid=iZ8BV3rH0nAhfM&vet=1&docid=0PAwSr4zdIkrAM&w=1280&h=720&itg=1&hl=en-US&source=sh%2Fx%2Fim', 1), ('Amazfit watches', 1), ('an S22 Ultra', 1), ('the search', 1), ('said “quick workouts', 1), ('more running courses', 1), ('fat burning run', 1), ('hiit', 1), ('more courses', 1), ('Watch Fit', 1), ('*sigh', 1), ('this function', 1), ('more kind', 1), ('the quick workout', 1), ('a comment', 1), ('the official ad', 1), ('a guy', 1), ('the next update', 1), ('the analysis', 1), ('depth', 1), ('Checkout http://www.hwgtfaces.com/', 1), ('a Samsung', 1), ('Every phone brand', 1), ('all the faces', 1), ('a full shutdown', 1), ('any problem', 1), ('hardware', 1), ('some runaway process', 1), ('all your timers', 1), ('a background process', 1), ('Updates', 1), ('not so much the battery', 1), ('GPS accuracy', 1), ('the advice', 1), ('10 days battery life', 1), ('my original post', 1), ('the main Huawei feed', 1), ('no surprises', 1), ('an amazfit BIP S.', 1), ('all notifications', 1), ('all the system access', 1), ('13 pro/', 1), ('a different watch', 1), ('Hey, thanks', 1), ('any notifications', 1), ('no avail', 1), ('some help', 1), ('The sequence', 1), ('Bluetooth settings', 1), ('this Device', 1), ('both entries', 1), ('Restart', 1), ('both Huawei watch options\\n- Huawei Health app', 1), ('Messages', 1), ('your bank app', 1), ('your mention', 1), ('no sense', 1), ('downloads', 1), ('an atm uodate', 1), ('its showing', 1), ('contactless payment', 1), ('the same posibility', 1), ('that notification', 1), ('the watch app', 1), ('ATM update', 1), ('no other apps', 1), ('my banking password', 1), ('biometrics', 1), ('my password', 1), ('a country', 1), ('Huawei wallet', 1), ('contactless payments', 1), ('either', 1), ('those apps', 1), ('movement and heart rate', 1), ('lower movement', 1), ('lower heart rate', 1), ('the measuring', 1), ('a beta apk', 1), ('my Watch', 1), ('Oh, and one more bug', 1), ('no HR data broadcasting', 1), ('A minor one', 1), ('the manual', 1), ('instructions', 1), ('the Huawei forums', 1), ('the Huawei rep', 1), ('https://consumer.huawei.com/en/community/details/HUAWEI-GT3-PRO-HR-BROADCAST/topicId\\\\_180155/', 1), ('rapid response', 1), ('All Gts series', 1), ('a classic watch', 1), ('nice and real good quality', 1), ('a sport watch', 1), ('GT1', 1), ('truesleep', 1), ('\\\\- HUAWEI WATCH', 1), ('an armed guard', 1), ('a heavy watch', 1), ('abuser', 1), ('quite a few scratches', 1), ('a few short months', 1), ('the 3 Pro', 1), ('months', 1), ('No protection', 1), ('your reply', 1), ('screen protector', 1), ('the while unit', 1), ('latest apk', 1), ('Health', 1), ('the app gallery version', 1), ('more than a year', 1), ('the Play store version', 1), ('Google search', 1), ('Huawei AppGallery download', 1), ('an official Huawei site', 1), ('huawei gallery', 1), ('(no need', 1), ('The current one', 1), ('my pixel7pro', 1), ('\"safety reasons', 1), ('the App gallery', 1), ('https://appgallery.huawei.com/Featured', 1), ('the default store', 1), ('certain models', 1), ('the pro model', 1), ('gt 3 elite', 1), ('name', 1), ('The strange thing', 1), ('the picture', 1), ('an advertisment', 1), ('a Danish store', 1), ('a specific bug', 1), ('android version', 1), ('miui', 1), ('the old notifications center', 1), ('miui settings', 1), ('swe', 1), ('MIUI', 1), ('LineageOS', 1), ('the simplest solution', 1), ('Telegram', 1), ('Telegram X', 1), ('the fault', 1), ('new notifications', 1), ('a few minutes', 1), ('the Telegram app', 1), ('the notification settings', 1), ('old notifications center', 1), ('No affiliation', 1), ('these designers', 1), ('24 hour analogue faces', 1), ('the entire GT2/3 catalogue', 1), ('these ones', 1), ('a whole day', 1), ('one hour hand rotation', 1), ('Some things', 1), ('the US iPhone users', 1), ('Your profile data', 1), ('age', 1), ('height', 1), ('The permission setting', 1), ('Apple Health', 1), ('privacy settings', 1), ('Favorite Contacts', 1), ('App goals', 1), ('a smartwatch apps user', 1), ('AW', 1), ('samsung watch', 1), ('galaxy watch', 1), ('the fitness/health tracker', 1), ('The apps', 1), ('quality', 1), ('various watches', 1), ('Best swap', 1), ('the GT series', 1), ('19-21 days', 1), ('a full charge', 1), ('all features', 1), ('💂', 1), ('a better looking watch', 1), ('the Apple', 1), ('The ONLY thing', 1), ('my desk', 1), ('the Fingerprint sensor', 1), ('so no big deal', 1), ('several Wear OS', 1), ('the past', 1), ('Pros', 1), ('The OS', 1), ('basic functions', 1), ('No ugly fat bezel border', 1), ('Price', 1), ('Cons', 1), ('pre-configurable responses', 1), ('Very limited selection', 1), ('another MAJOR overhaul', 1), ('The current version', 1), ('this iteration', 1), ('apple watch s5', 1), ('its accuracy', 1), ('hr', 1), ('the watch fit form factor', 1), ('reasons', 1), ('comfort', 1), ('weigh', 1), ('life', 1), ('content', 1), ('a squared/rectangular screen', 1), ('gt line', 1), ('the watch fit line', 1), ('a Samsung gear s2', 1), ('March', 1), ('a TicWatch', 1), ('more and better health features', 1), ('the software bugs', 1), ('the ticwatch', 1), ('WearOS', 1), ('ticwatch', 1), ('a good system', 1), ('all these years', 1), ('any additional apps', 1), ('pay features', 1), ('7 month', 1), ('the full price', 1), ('the huawei GT3 Pro', 1), ('The health features', 1), ('The only thing', 1), ('my own watchfaces', 1), ('the watchmaker app', 1), ('the huawei software workflow', 1), ('some faces', 1), ('The GT watches', 1), ('less apps', 1), ('a full harmony OS watch', 1), ('an extended app store', 1), ('the party', 1), ('way', 1), ('lock huawei', 1), ('pin lock', 1), ('ability', 1), ('activity', 1), ('shower', 1), ('the rain', 1), ('any magic', 1), ('Otherwise great watch', 1), ('over a year', 1), ('my current watch', 1), ('a big screen', 1), ('good notifications', 1), ('the swop', 1), ('Friday', 1), ('windows', 1), ('full price', 1), ('Now I', 1), ('FTFY', 1), ('Although *payed*', 1), ('autocorrection', 1), ('* Nautical context', 1), ('a surface', 1), ('tar', 1), ('resin', 1), ('The deck', 1), ('strings', 1), ('cables', 1), ('ropes', 1), ('The rope', 1), ('nautical or rope-related words', 1), ('a bot', 1), ('another look', 1), ('The polar watch', 1), ('over 48%', 1), ('all the notification', 1), ('question),the ecg', 1), ('small wrist', 1), ('179.00$', 1), ('at best buy', 1), ('Garmin Venu original', 1), ('Reply', 1), ('quick responses', 1), ('email notifications', 1), ('Screen', 1), ('30mm', 1), ('5atm water', 1), ('killer Garmin', 1), ('Killer health metrics', 1), ('BODY BATTERY', 1), ('my energy level', 1), ('And 5 days battery life', 1), ('Software', 1), ('your search', 1), ('any specific questions', 1), ('days', 1), ('sire', 1), ('ecg', 1), ('ME', 1), ('your avatar', 1), ('my iphone', 1), ('ME tab', 1), ('an old iphone', 1), ('a charm', 1), ('ID', 1), ('sim', 1), ('another country', 1), ('one card', 1), ('automatically the option', 1), ('Latin America', 1), ('the only things', 1), ('the cause', 1), ('couple weird questions', 1), (\"it's latest software\", 1), ('my original thought', 1), ('the watch body', 1), ('the 8 minute mark', 1), ('this sub', 1), ('the highest number', 1), ('members', 1), ('hence the post', 1), ('Latest updates', 1), ('the wrist bone', 1), ('a finger', 1), ('the strap and inner arm', 1), ('this ride', 1), ('the post', 1), ('a quick 2 minute blast', 1), ('the 140s', 1), ('a cliff', 1), ('the bike', 1), ('the 160s', 1), ('the 140 range', 1), ('some weird anatomical structure', 1), ('angle', 1), ('my arm', 1), ('the handlebars', 1), ('the higher rates', 1), ('a medical term', 1), ('how much veins', 1), ('a very huge variation', 1), ('vascularity', 1), ('one arm', 1), ('left arm', 1), ('even 10 beats', 1), ('minute', 1), ('Another factor', 1), ('movement', 1), ('m.\\n\\nSomething', 1), ('a wrist band', 1), ('any source', 1), ('\"custom\" ones', 1), ('used socks', 1), ('the replies', 1), ('the other arm', 1), ('the covering options', 1), ('the right device', 1), ('the accuracy issues', 1), ('pair', 1), ('a chest strap', 1), ('Correlation value', 1), ('more than 95%', 1), ('lost people', 1), ('nylon bands', 1), ('a more tight and comfortable fit', 1), ('a polar h10', 1), ('the ppg sensor', 1), ('every run', 1), ('the h10', 1), ('jaybirds', 1), ('some soundpeats', 1), ('Sound quality', 1), ('a lot more battery', 1), ('a Heart rate', 1), ('an easy run', 1), ('my bpm', 1), ('my good old hand', 1), ('the watch sensor', 1), ('The only accurate data', 1), ('a cardio Belt', 1), ('pro versions', 1), ('band', 1), ('one device', 1), ('Only one Watch', 1), ('a pop up notification', 1), ('the watch fit', 1), ('Connection', 1), ('the Physical Data Acces permission', 1), ('the needed hardware', 1), ('Not the GT', 1), ('medical purposes', 1), ('the most important ones', 1), ('your wrist bone', 1), ('wrist', 1), ('one or two fingers', 1), ('your skin', 1), ('a normal watch', 1), ('skin tone', 1), ('a really big factor', 1), ('exercise', 1), ('The NHS', 1), ('the lines', 1), ('a bike ride', 1), ('fat', 1), ('one exercise', 1), ('my resting heart rate', 1), ('its worth', 1), ('skin rashes', 1), ('my skin', 1), ('the 2nd hole', 1), ('the sensors', 1), ('the best heart rate sensors', 1), ('rashes', 1), ('my best guess', 1), ('a defective unit', 1), ('both wrists', 1), ('a garmin', 1), ('wrists', 1), ('immediate things', 1), ('alot', 1), ('peace', 1), ('papers', 1), ('these kind', 1), ('brands', 1), ('my own experiences', 1), ('the bests', 1), ('HR accuracy', 1), ('a bad product', 1), ('Glad', 1), ('https://m.gsmarena.com/huawei_watch_gt_3-11171.php\\n\\nhttps://specs-tech.com/en/huawei-watch-gt-3/', 1), ('Huawei GT2', 1), ('many times', 1), ('the changelog', 1), ('3th party apps', 1), ('appgalery', 1), ('huawei phones', 1), ('useful apps', 1), ('Display', 1), ('Favorites', 1), ('which apps', 1), ('Favourites', 1), ('Custom cards', 1), ('The [manual', 1), ('here](https://consumer.huawei.com', 1), ('ca/support/wearables', 1), ('watch-gt3/', 1), ('the favorites', 1), ('a swipe', 1), ('the other direction', 1), ('the weather/music', 1), ('your apps', 1), ('memory space', 1), ('the Android 13 update', 1), ('a similar style', 1), ('my Pebble', 1), ('any text', 1), ('faces4watch.com', 1), ('you guys', 1), ('a GT3 pro', 1), ('a bunch', 1), ('other page', 1), ('the Huawai health app', 1), ('units', 1), ('the 2018 model', 1), ('the official Huawei site', 1), ('that apk', 1), ('HMS', 1), ('that app gallery store', 1), ('version 11.0.16.10', 1), ('no', 1), ('date', 1), ('Some developers', 1), ('their own websites', 1), ('not all', 1), ('the promotional posts', 1), ('their site', 1), ('The format', 1), ('a Dev', 1), ('one person', 1), ('Shows', 1), ('digital faces', 1), ('my faces', 1), ('Oct', 1), ('so personally its an acceptable nuisance', 1), ('The fact', 1), ('half the apps', 1), ('Middle Eastern markets', 1), ('prayers', 1), ('radio', 1), ('the maps', 1), ('the time format', 1), ('every huawei watch', 1), ('a future update', 1), ('the Watch 3 program', 1), ('ear buds', 1), ('a real shame', 1), ('special access', 1), ('all the needed permissions', 1), ('Xiaomi', 1), ('the permissions', 1), ('my activity data', 1), ('our app', 1), ('the activity data', 1), ('the correct distance', 1), ('your app', 1), ('Center menu', 1), ('the route map', 1), ('a crash', 1), ('all my old maps', 1), ('Apple Maps', 1), ('Maps', 1), ('Lika', 1), ('a satteline map', 1), ('my android', 1), ('google naps', 1), ('sattelite', 1), ('https://imgur.com/a/nDXuIwY', 1), ('the funny thing', 1), ('the old rides', 1), ('the new rides', 1), ('no real fixes', 1), ('Lmao', 1), ('my man', 1), ('source', 1), ('the phone sensor', 1), ('your watch information', 1), ('the true data', 1), ('only the watch data', 1), ('No. \\n\\nShorter answer', 1), ('this option', 1), ('so many limitations', 1), ('even thoe', 1), ('software part', 1), ('No tap', 1), (', always this annoying message', 1), ('the whole number', 1), ('my older Galaxy watch', 1), ('basic stuff', 1), ('the pool', 1), ('lake', 1), ('the ocean', 1), ('a proper dive computer', 1), ('HUAWEI store', 1), ('accidents', 1), ('salt water', 1), ('that mode', 1), ('touches', 1), ('longer dives', 1), ('some specialized computer', 1), ('the layered effect', 1), ('Parp', 1), ('Ios', 1), ('[The Watch face download', 1), ('apple-watch', 1), ('-digital-watch', 1), ('face-theme/', 1), ('[Multi-Service Widget', 1), ('(https://i.imgur.com/yMF7eJP.jpg', 1), ('its a harmony os watch', 1), ('The connection', 1), ('Range', 1), ('one end', 1), ('the other taking calls', 1), ('32 ft', 1), ('airpods', 1), ('the previous version', 1), ('a multitude', 1), ('Your phone', 1), ('the culprit', 1), ('your house', 1), ('the signal', 1), ('the link', 1), ('Zip file', 1), ('.hwt', 1), ('Gt3', 1), ('the red background', 1), ('color', 1), ('the clock', 1), ('the same weather widget', 1), ('3 pro face updated](https://faces4watch.com', 1), ('ported-theme/', 1), ('the updated watch', 1), ('a hwt file', 1), ('any region', 1), ('Hvr', 1), ('any huawei watch', 1), ('the target audience', 1), ('Wtf', 1), ('a big feature', 1), ('an awesome feature', 1), ('bw', 1), ('the tru', 1), ('HRV metrics', 1), ('Apple watch', 1), ('a Garmin instead:/', 1), ('fit files', 1), ('an American-compatible brand', 1), ('the most accurate tracker', 1), ('all the android-based watches', 1), ('The Quantified Scientist YouTube channel', 1), ('the latest videos', 1), ('the apple watches', 1), ('a previous owner', 1), ('a series', 1), ('the chest strap', 1), ('pretty minor deviations', 1), ('BPM', 1), ('your next best recommendation', 1), ('your only options', 1), ('the HRV readings', 1), ('amazing hardware', 1), ('a usable metric', 1), ('pretty good sensor', 1), ('the hrv', 1), ('Why amazfit gts/r', 1), ('Any reliable reviews', 1), ('the oura ring', 1), ('hrv', 1), ('the hype', 1), ('the summit', 1), ('Rob', 1), ('(the quantified scientist', 1), ('their reviews', 1), ('most devices RN', 1), ('om accuracy', 1), ('my gf', 1), ('the claims', 1), ('a chance', 1), ('polar or Garmin tbh', 1), ('the oura thing', 1), ('the placement', 1), ('finger', 1), ('a good place', 1), ('everything:/', 1), ('all the medals', 1), ('boom', 1), ('Marathon', 1), ('your actual records', 1), ('connection Problems', 1), ('another room', 1), ('notificiations', 1), ('whatsapp', 1), ('Instagram', 1), ('no huawei wathes', 1), ('iphones', 1), ('the same poblem', 1), ('a huawei watch', 1), ('the battery health', 1), ('iphone 😡', 1), ('this big companies', 1), ('political argument', 1), ('What a pity', 1), ('maps', 1), ('an iPhone user', 1), ('the only watch', 1), ('kinda stuff', 1), ('an AW SE', 1), ('SE', 1), ('a directions arrow', 1), ('Googles navigation app', 1), ('a GPS point', 1), ('its battery', 1), ('a day', 1), ('And its a smartwatch', 1), ('a smartmatch', 1), ('No apps', 1), ('no wifi', 1), ('no calls', 1), ('no notifications', 1), ('Just good battery life', 1), ('The GT3 pro', 1), ('all watches', 1), ('polar/garmin/amazfit', 1), ('suunto/', 1), ('a bicycle', 1), ('any other occasion', 1), ('its only half', 1), ('workarounds', 1), ('those limitations', 1), ('a full silicone cover', 1), ('20 years', 1), ('these smart ones', 1), ('a big chuck', 1), ('dinner', 1), ('/training', 1), ('topic', 1), ('regular and active version', 1), ('a week no screen protector', 1), ('the heart rate sensor', 1), ('other optical ones', 1), ('a workaround', 1), ('healthsync app', 1), ('the workout', 1), ('Huawei strava integration', 1), ('Health sync', 1), ('sync problems', 1), ('manual sync', 1), ('the missing workouts', 1), ('Healthsync', 1), ('a s23', 1), ('my iPhone x', 1), ('the sleep tracking', 1), ('your bed', 1), ('bad health tracking', 1), ('so certainly a possibility', 1), ('the Play store', 1), ('a long time', 1), ('https://appgallery.huawei.com/app/C10414141', 1), ('My android', 1), ('super sus', 1), ('the China/US relations', 1), ('the privacy', 1), ('the Samsung Galaxy store', 1), ('the Huawei link', 1), ('some obscure site', 1), ('all the tech companies', 1), ('your data', 1), ('the Health Monitoring settings', 1), ('the TruSleep option', 1), ('sleep stages', 1), ('power saving features', 1), ('background', 1), ('other watches', 1), ('terms', 1), ('other Huawei Watches disassembly videos', 1), ('youtube', 1), ('iFixit', 1), ('other similar channels', 1), ('iFixit website', 1), ('GT2Pro', 1), ('no articles/guides', 1), ('the photos', 1), ('the vibration module', 1), ('the identical one', 1), ('this type', 1), ('the days', 1), ('other models', 1), ('that website', 1), ('the other comment', 1), ('huawei pay', 1), ('UK support', 1), ('install', 1), ('the the required Huawei Health app version', 1), ('an old phone', 1), ('tablet', 1), ('not the phone', 1), ('every day', 1), ('Any help', 1), ('2.1.0.258', 1), ('2.1.0.219', 1), ('another version', 1), ('yet another version', 1), ('wtf', 1), ('yet another older version', 1), ('#x200B', 1), ('Not much information', 1), ('100% sure tho', 1), ('a post', 1), (\"huawei's subreddit\", 1), ('OS', 1), ('a success', 1), ('Last version', 1), ('about half an hour', 1), ('the same thing', 1), ('4 updates', 1), ('succession', 1), ('the Bluetooth transfer rate', 1), ('the newer watches', 1), ('The same thing', 1), ('his GT', 1), ('the GT part', 1), ('the health sync app', 1), ('Huawei core services', 1), ('Celia', 1), ('a certified HM', 1), ('21.22 kms', 1), ('just 21.06 kms', 1), ('my PB', 1), ('the corners', 1), ('a different way', 1), ('big deal aniway', 1), ('a minor different way', 1), ('hc', 1), ('How', 1), ('the same distance', 1), ('a different distance', 1), ('your post', 1), ('straps', 1), ('a good brand', 1), ('Fossil straps', 1), ('a watch store', 1), ('person', 1), ('the bank', 1), ('an original one', 1), ('expensive post', 1), ('helpful info', 1), ('eBay](https://www.ebay.com/sch/i.html?_from', 1), ('=', 1), ('R40&_trksid', 1), (' You', 1), ('different European countries', 1), ('the solution', 1), ('Everyone', 1), ('macro droid', 1), ('WhatsApp call', 1), ('custom notification', 1), ('tasker', 1), ('agenda', 1), ('today', 1), ('that phone', 1), ('actions', 1), ('triggers', 1), (':)', 1), ('your given link', 1), ('continuous notifications', 1), ('the trigger', 1), ('some other functionality', 1), ('FB messenger', 1), ('your macro', 1), ('macrodroid', 1), ('incoming WhatsApp call', 1), ('locked screen', 1), ('my samsung watch', 1), ('tizen', 1), ('AFAIK', 1), ('the main reasons', 1), ('the watch4 classic', 1), ('that 1.5 battery', 1), ('46mm version', 1), ('just a huge no', 1), ('Watch5 Pro', 1), ('a toy', 1), ('a swim', 1), ('a shallow pool', 1), ('a minute', 1), ('the water', 1), ('the screen water', 1), ('the screen edges', 1), ('the bond', 1), ('the water resistant rating', 1), ('a thin bead', 1), ('glue', 1), ('Super glue', 1), ('your nearest official HUAWEI repair shop', 1), ('an independent repair shop', 1), ('the service', 1), ('the adhesive', 1), ('the body', 1), ('a new adhesive and heat gun/hairdryer', 1), ('LCMILITARY', 1), ('faces option', 1), ('Many thanks', 1), ('the hour hand', 1), ('1 full cycle', 1), ('day-', 1), ('the style', 1), ('some longhaul pilots', 1), ('This one', 1), ('its a normal 12 hour cycle', 1), ('a rare setup', 1), ('everyday smartwatches', 1), ('Aviator', 1), ('None', 1), ('the pm', 1), ('24 hour cycle', 1), ('one sw86_a_en', 1), ('designers', 1), ('24hr', 1), ('their name', 1), ('a tag', 1), ('this watch type', 1), ('Minimalist Watch', 1), ('Preview', 1), ('https://www.instagram.com/p/CjUXIgtoo-T/', 1), ('https://celest-watches.com/product/celest-1320-minimalist-watch/ 🔥🔥', 1), ('#', 1), ('a little more work', 1), ('Any other decent android phone/tablet', 1), ('BlueStacks', 1), ('similar Android emulators', 1), ('a most laptops', 1), ('a modified version', 1), ('a few videos', 1), ('a design', 1), ('Corrupted', 1), ('these frazzled pixels', 1), ('Ha! \"broken watch face', 1), ('your face', 1), ('a new one', 1), ('but now its just business', 1), ('my corporate emails', 1), ('my watchface', 1), ('the watch brandnew', 1), ('warrenty', 1), ('factory reset', 1), ('no luck', 1), ('brand', 1), ('these solutions', 1), ('unexpectedly tedious finding analogue watchfaces', 1), ('the hands', 1), ('a passing glance', 1), ('hands', 1), (\"a teen's bedroom\", 1), ('2 pics', 1), ('Kinda', 1), ('a face buying spree', 1), ('my wallet', 1), ('the free or default ones', 1), ('coffee', 1), ('one or two faces', 1), ('this watchface', 1), ('The pixel watch', 1), ('the GT 2 Pro', 1), ('a year', 1), ('no software', 1), ('no interesting things', 1), ('160 dollars', 1), ('the latest apple watch', 1), ('amazing features', 1), ('“Clear', 1), ('Its the one', 1), ('any other faces', 1), ('Pixel watch', 1), ('a CPU', 1), ('Galaxy Watch', 1), ('1st gen', 1), ('2018 lol', 1), ('a watch-face gallery', 1), ('a Sapphire crystal', 1), ('this model', 1), ('The new Apple Watch', 1), ('Sapphire', 1), ('Stainless steel', 1), ('The standard Apple Watch display', 1), ('VPN', 1), ('Opening Huawei Health', 1), ('some other place', 1), ('weather', 1), ('the newer apple watches', 1), ('more protection', 1), ('a good screen protector', 1), ('a few dollars', 1), ('the watchface store', 1), ('the same display', 1), ('My Series', 1), ('small swirls', 1), ('maybe sheets', 1), ('ya screen protector', 1), ('a necessity', 1), ('the Ultra', 1), ('Its something', 1), ('screen protectors', 1), ('Trusted VPN', 1), ('Mozilla VPN', 1), ('Nord VPN', 1), ('a month', 1), ('very high reputation', 1), ('privacy', 1), ('the subscription', 1), ('series', 1), ('not a single scratch', 1), ('Nord', 1), ('the iPhone', 1), ('the high price', 1), ('the Apple Watches', 1), ('Sapphire displays', 1), ('maybe an S5', 1), ('a titanium case', 1), ('good shape', 1), (\"your huawei health's app setting\", 1), ('notifications option', 1), ('U', 1), ('any app u', 1), ('your notification', 1), ('an common issue', 1), ('honor phones', 1), ('some notifications', 1), ('un', 1), ('the huawei app store', 1), ('the google play store \"petal health', 1), ('all the notifications', 1), ('the phone alarms', 1), ('Hope', 1), ('Any solution', 1), ('your phone notification setting', 1), ('more\" button', 1), ('u.', 1), ('fastest solution', 1), ('a honor watch', 1), ('İ', 1), ('ok buddy', 1), ('both these watches', 1), ('so premium', 1), ('almost a year', 1), ('max', 1), ('not the 2 weeks', 1), ('a Garmin', 1), ('bug', 1), ('inaccurate tracking data', 1), ('Imo', 1), ('a Fitbit', 1), ('the best fitness tracking', 1), ('no one', 1), ('130€', 1), ('superior HR tracking', 1), ('possibly gps tracking', 1), ('The bad thing', 1), ('the software', 1), (\"Garmin's software\", 1), ('that regard', 1), ('ups', 1), ('downs', 1), ('this watches', 1), ('the predictions', 1), ('the feature', 1), ('the AI couch', 1), ('AI running program', 1), ('beginner and advanced runners', 1), ('charm', 1), ('good battery life', 1), ('decent HR tracking', 1), ('an integration standpoint', 1), ('3rd party services', 1), ('adidas', 1), ('gpx files', 1), ('Huawei gt runner', 1), ('gt runners', 1), ('a good margin', 1), ('fenix', 1), ('a different history', 1), ('your timings', 1), ('my cycle routes', 1), ('speeds', 1), ('my times', 1), ('around 3 - 4, 3 hour rides', 1), ('charges', 1), ('nearly 2 years', 1), ('the bare minimum equipment', 1), ('love', 1), ('my main interest', 1), ('some hiking', 1), ('the same exactly price', 1), ('a Garmin device', 1), ('their advantages', 1), ('other brands', 1), ('predictions', 1), ('marathons', 1), ('the track', 1), ('the same functions', 1), ('the best heart rate monitors', 1), ('lactate threshold', 1), ('cycling', 1), ('your answers', 1), ('garmin watches', 1), ('more flexibility', 1), ('the garmin screen', 1), ('power', 1), ('the hauwei', 1), ('more stuff', 1), ('more data', 1), ('some sort', 1), ('Spotify', 1), ('compatible devices', 1), ('The forerunner', 1), ('this apps', 1), ('continuous tracking', 1), ('the only advantage', 1), ('PacePro', 1), ('more feautres', 1), ('power meters', 1), ('your bike', 1), ('no real advantage', 1), ('the FR', 1), ('some datafields', 1), ('Training load', 1), ('your distance', 1), ('the GT  Runner', 1), ('some Garmins', 1), ('the last year', 1), ('the Userinterface', 1), ('overall health data', 1), ('The only disadvantage', 1), ('any info', 1), ('Wallet', 1), ('Their Maps app', 1), ('some critical infrastructure projects', 1), ('the only choice', 1), ('That animation', 1), ('The point', 1), ('the frequency', 1), ('the specific sport', 1), ('a movement sensor', 1), ('your arm', 1), ('a step.even', 1), ('changing brands', 1), ('very little difference', 1), ('the opposite arm', 1), ('the arm', 1), ('my mind', 1), ('u/Rude-Possibility4682 Thanks', 1), ('the step counter', 1), (\"this watch's sensor\", 1), ('My old mi band', 1), ('this kind', 1), ('no sensor', 1), ('at least a good one', 1), ('the supposed value', 1), ('Today', 1), ('my off day', 1), ('3k steps', 1), ('my old watch', 1), ('a xiaomi', 1), ('s1', 1), ('its button', 1), ('my gloves', 1), (\"it's velcro\", 1), ('the outer part', 1), ('my hand', 1), ('the accidental button press', 1), ('reaaally reaaaly', 1), (\"it's design\", 1), ('extremely good looking', 1), ('my use', 1), ('its charging cables', 1), ('my days', 1), ('a couch potato', 1), ('the early afternoon', 1), ('a few toilet trips', 1), ('refill', 1), ('the coffee cup', 1), ('1500 steps', 1), ('the Amazefit', 1), ('my head', 1), ('the phone app', 1), ('your pocket', 1), ('the most accurate actual step count', 1), ('leg movement', 1), ('a really sedentary person', 1), ('my chair', 1), ('work/play games', 1), ('toilet breaks', 1), ('the step counts', 1), ('the gym', 1), ('accurate step counting', 1), ('xiaomi', 1), ('Even the apple watch', 1), ('the calories', 1), ('the heart rate monitor', 1), ('a 50 minute strength workout', 1), ('30 minutes', 1), ('intense cardio/CrossFit', 1), ('the intensity', 1), ('Garmin estimates', 1), ('several software updates', 1), ('The firmware version', 1), ('my GT3 watch', 1), ('so many updates', 1), ('blocks', 1), ('version', 1), ('the current version', 1), ('that version', 1), ('the full path', 1), ('each update fix', 1), ('specific parts', 1), ('the whole OS', 1), ('the latest and greatest update', 1), ('all the previous fixes', 1), ('that pile', 1), ('a laugh', 1), ('the exercise part', 1), ('\"custom', 1), ('a plus sign', 1), ('the 100 or so exercises', 1), ('the standard watchface', 1), ('execise', 1), ('apple fitness', 1), ('the only drawback', 1), ('the entire hr graph', 1), ('more than 1 sample', 1), ('a graph', 1), ('the apple sleep', 1), ('its normal behavior', 1), ('fitness app', 1), ('a data source', 1), ('the fitness app', 1), ('oh well thanks', 1), ('Steps', 1), ('no workouts', 1), ('Up to $5.5 AUD', 1), ('3.7 USD', 1), ('Mechanical orange', 1), ('strong sunlight', 1), ('a gentle pulsing', 1), ('a glowing furnace', 1), ('icons', 1), ('the Hybrid listings', 1), ('The first two images', 1), ('animations', 1), ('The 3rd and 4th pics', 1), ('the new Pokemon', 1), ('the nicer looking ones', 1), ('still screenshots', 1), ('their prices', 1), ('(black orange pulsing icons', 1), ('The rest', 1), ('Smart Watch', 1), ('some effort', 1), ('a Twenty second job', 1), ('far better ones', 1), ('a HIIT profile', 1), ('HIIT', 1), ('Crossfit', 1), ('correct calories', 1), ('that type', 1), ('the workout type', 1), ('the bottom right button', 1), ('the menu', 1), ('\"HIIT', 1), ('bottom right button', 1), ('\"Custom', 1), ('Special', 1), ('Exercise Settings', 1), ('big orange', 1), ('all the other workout types', 1), ('harmony OS', 1), ('china', 1), ('beta time', 1), ('the Huawei GT Runner', 1), ('the release', 1), ('Watch GT3', 1), ('January', 1), ('further delays', 1), ('3 and 3 Pro', 1), ('not the GT3 series', 1), ('the same treatment', 1), ('the housing materials', 1), ('dimensions', 1), ('watch3', 1), ('gt/gt', 1), ('Me', 1), ('the same boat', 1), ('united Kingdom', 1), ('delet Huawei healt', 1), ('store and hms app', 1), ('the tip', 1), ('the UK version', 1), ('my región', 1), ('the United Kingdom', 1), ('800 steps', 1), ('50 calories', 1), ('a seat', 1), ('your safety', 1), ('the people', 1), ('My gt', 1), ('weird stuff', 1), ('that \\nGL', 1), ('em', 1), ('the watch behavior', 1), ('any outdoor activities', 1), ('20 mins', 1), ('each wrist', 1), ('2 times', 1), ('outside activities', 1), ('\"weird stuff', 1), ('836 calories', 1), ('6k steps', 1), ('your watches', 1), ('Laird', 1), ('my 2 fav watchface designers', 1), ('the great work', 1), (\"a custom 'course\", 1), ('Exercise', 1), ('Outdoor Run', 1), ('then All Courses', 1), ('the 3 pre set ones', 1), ('the only ones', 1), ('the arrow', 1), ('new ones', 1), ('the others', 1), ('FYI', 1), ('all my designs', 1), ('all Huawei models', 1), ('a compliment', 1), (':)  \\n\\n\\nFYI designers', 1), ('a price tier', 1), ('global sales', 1), ('china sales', 1), ('no say', 1), ('each country', 1), ('maximum half', 1), ('the sales price', 1), ('your name', 1), ('the buy', 1), ('the search term', 1), ('the image', 1), ('\"CW5400', 1), ('the future promo images', 1), ('10-12 days', 1), ('all Sensors', 1), ('workout tracking', 1), ('week', 1), ('My GT3 Pro', 1), ('about more than a week', 1), ('any workouts', 1), ('the opportunity', 1), ('10 to 15 days', 1), ('7 Days', 1), ('my bicycle route', 1), ('only sleep and heart rate tracking', 1), ('Your battery', 1), ('4 days', 1), ('100 % to 80 %', 1), ('2 days', 1), ('T and O2 sensor', 1), ('stress measurement', 1), ('80 % to 8 %', 1), ('the sleep Phase alarm', 1), ('the Feature', 1), ('my pro', 1), ('more details', 1), ('the Blood Pressure', 1), ('record', 1), ('the measurement option', 1), ('no difference', 1), ('no app', 1), ('my problem', 1), ('the list', 1), ('the countries', 1), ('https://consumer.huawei.com/ae-en/support/content/en-us15893330/', 1), ('Poland', 1), ('Finland', 1), ('Cech', 1), ('Romania', 1), ('Hungary', 1), ('Bulgaria', 1), ('Croatia', 1), ('Lithuania', 1), ('Austria', 1), ('other people', 1), ('My app', 1), ('any ECG function', 1), ('the version', 1), ('a screen replacement', 1), ('The best thing', 1), ('a screed protector', 1), ('future damage', 1), ('an old wives tale', 1), ('a soft cloth', 1), ('a dab', 1), ('ash', 1), ('a circular motion', 1), ('the older generation', 1), ('Worth', 1), ('Displex', 1), ('the major things', 1), ('this flat screen', 1), ('absolutely zero protective bezel trend', 1), ('just a micron', 1), ('a beveled edge', 1), ('concrete', 1), ('a brief moment', 1), ('some damn stray cats', 1), ('No good deed', 1), ('the only \"recovery', 1), ('tempered glass', 1), ('a metal bezel ring case', 1), ('definitely cool and brand new look', 1), ('a dremel and diamond polish', 1), ('my GT2e', 1), ('watch face', 1), ('the glass', 1), ('short bursts', 1), ('5-10 seconds max', 1), ('even deep scratches', 1), ('experience', 1), ('Next time', 1), ('a must', 1), ('some hydrogel protectors', 1), ('a fingernail', 1), ('The worst part', 1), ('my attention', 1), ('about 10 scratches', 1), ('the same direction', 1), ('the Hauwei', 1), ('3 program update', 1), ('a real time map', 1), ('research', 1), ('a product', 1), ('Woops', 1), ('He', 1), ('this information', 1), ('the internet', 1), ('an incredibly basic function', 1), ('the GPS point', 1), ('an image file', 1), ('coordinates', 1), ('a function', 1), ('No one', 1), ('Older watches', 1), ('the \"navigation\" apps', 1), ('navigation apps', 1), ('10 meters', 1), ('20 meters', 1), ('every GPS navigation system', 1), ('every single exercise app', 1), ('your GPS point', 1), ('the last 10 years', 1), ('the whole watch', 1), (\"menu's you\", 1), ('\"border', 1), ('actually screen', 1), ('agains', 1), ('the same black rim', 1), ('¯\\\\_(ツ)_/¯\\n\\nEdit', 1), ('the official website photos', 1), ('https://consumer.huawei.com/es/wearables/watch-gt3/', 1), ('The reason', 1), ('the Watch GT2', 1), ('a lower resolution', 1), ('The result', 1), ('unused pixels', 1), ('Watchfaces', 1), ('the correct resolution', 1), ('the black border', 1), ('bfUAvTJ.jpg](https://i.imgur.com/bfUAvTJ.jpg)\\nEdit', 1), ('a different watchface', 1), ('some user photos', 1), ('the same border', 1), ('a watchface upscaling issue', 1), ('factory settings', 1), ('all your data', 1), ('the cloud', 1), ('a reset', 1), ('Yes a factory reset', 1), ('the latest firmware update', 1), ('the Box', 1), ('a gt runner', 1), ('the official product media launch material', 1), ('tremendous borders', 1), ('idea', 1), ('this things', 1), ('a faulty device', 1), ('effort', 1), ('cooperation', 1), ('your side', 1), ('The stress', 1), ('a gimmicky feature', 1), ('a solid few days/weeks', 1), ('baseline data', 1), ('a good estimate', 1), ('The HR', 1), ('the best wrist based PPG devices', 1), ('the gt2 line', 1), ('gt3 line', 1), ('the same PPG sensor', 1), ('a Polar h10 ecg chest strap', 1), ('more than 50 different sessions', 1), ('calistenics', 1), ('soccer', 1), ('the deviation', 1), ('- 1 BPM', 1), ('99%', 1), ('some times', 1), ('+3', 1), ('those results', 1), ('one finger', 1), ('Skin tone', 1), ('a difference', 1), ('tattoos', 1), ('the device sensor', 1), ('the hood', 1), ('70 ish % accuracy', 1), ('just Fitbit', 1), ('the apple', 1), ('Watchaos', 1), ('70 ish percent accuracy', 1), ('good detecting time', 1), ('apple watch series', 1), (', fitbit sense', 1), ('bands', 1), ('amazfit/xiaomi', 1), ('a few other brands', 1), ('good accuracy', 1), ('my GF', 1), ('herself', 1), ('the band', 1), ('her wrist', 1), ('nights', 1), ('a better sleep data', 1), ('the wearable fault', 1), ('another smart watch', 1), ('health app', 1), ('the Garmin app', 1), ('every major IOS', 1), ('the app code', 1), ('the lack', 1), ('the QR code link', 1), ('initial setup', 1), ('dozens', 1), ('different watch', 1), ('Any idea', 1), ('this work', 1), ('the Pixel 6 pro alog', 1), ('Huawei Watch', 1), ('tab', 1), ('a US model', 1), ('the application', 1), ('the easiest way', 1), ('a UK/Canada model', 1), ('an international model', 1), ('The model', 1), ('JPT', 1), ('B29', 1), ('a LG G8 ThinQ', 1), ('UK/CA', 1), ('a UK and Canadian model', 1), ('all the prices', 1), ('purchasable items', 1), ('pounds', 1), ('the faces tab', 1), ('a JPT', 1), ('B19', 1), ('a different model', 1), ('a non-US phone', 1), ('a non-US SIM card', 1), ('a region', 1), ('the American model', 1), ('the UK/Canada model', 1), ('the first faces', 1), ('a good experience', 1), ('simple faces', 1), ('my other work', 1), ('the \"app gallery\" application', 1), ('latest version', 1), ('huawei health app', 1), ('the HMS', 1), ('huawei mobile services', 1), ('this screen', 1), ('A new option', 1), ('Mexico', 1), ('restrictions', 1), ('your Huawei account', 1), ('The android version', 1), ('https://consumer.huawei.com/en/community/details/Health-App-on-iOS/topicId_118123/', 1), ('Pixel', 1), ('my account', 1), ('the App Gallery app', 1), ('the HMS Core app', 1), ('what device', 1), ('what region', 1), ('Ya', 1), ('a HUAWEI account', 1), ('the global version', 1), ('the GT2 Pro', 1), ('my Huawei GT3', 1), ('vacation', 1), ('all my data', 1), ('additional watchfaces', 1), ('that app', 1), ('This app gallery', 1), ('an iPhone 13 Pro', 1), ('Understood', 1), ('my iCloud account', 1), ('the bans', 1), ('places', 1), ('the explanation', 1), ('the gallery app', 1), ('other users', 1), ('Spain', 1), ('your problem', 1), ('your region', 1), ('a different country', 1), ('Huawei support', 1), ('https://consumer.huawei.com/us/contact-us/', 1), ('that option', 1), ('fine!Download health app', 1), ('the AppStore', 1), ('What version Huawei Health app', 1), ('the GR3 pro watch', 1), ('an iPhone 14 pro', 1), ('the menus', 1), ('My main problem', 1), ('the user experience', 1), ('continuous HR', 1), ('Skin', 1), ('Even the tilt', 1), ('gesture', 1), ('the app selection', 1), ('haves', 1), ('the calculator', 1), ('Gmaps navigation', 1), ('the selection', 1), ('Some games', 1), ('a gorgeous design', 1), ('stellar battery life', 1), ('lacking software', 1), ('the third party app department', 1), ('specific questions', 1), ('almost 2 weeks', 1), ('The all black blends', 1), (', nice build quality- battery life', 1), ('great, limited app', 1), ('many faces', 1), ('a lot free ones', 1), ('3 weeks', 1), ('vacations', 1), ('140.56MB', 1), ('The battery', 1), ('The resolution', 1), ('the materials', 1), ('an affordable watch', 1), ('Sapphire glass and Titanium coating', 1), ('no Garmin', 1), ('one question', 1), ('autonomous navigation', 1), ('my phone home', 1), ('a route back feature', 1), ('no phone', 1), ('no apps', 1), ('offline maps', 1), ('third party support', 1), ('some research', 1), ('red', 1), ('whatches', 1), ('the torch/flashlight functionality', 1), ('even the new garmin', 1), ('an actual physical torch', 1), ('those times', 1), ('the midle', 1), ('the night', 1), ('a restroom stop', 1), ('a red torch app', 1), ('different AOD', 1), ('the default one', 1), ('a watch face', 1), ('\"dotface', 1), ('your suggestion', 1), ('(dotface', 1), ('my suggestion', 1), ('new update', 1), ('the AOD', 1), ('zero volume', 1), ('the voice', 1), ('sounds', 1), ('my music', 1), ('the sound', 1), ('the music volume', 1), ('no broadcast', 1), ('Menu>workout>workout settings', 1), ('workout broadcasts', 1), ('another thread', 1), ('a huawei service centre', 1), ('a new watch', 1), ('weeks', 1), ('your info', 1), ('service', 1), ('the TriRing watch face', 1), ('Enough information', 1), ('a nice AOD', 1), ('Night Glow', 1), ('its AOD', 1), ('My favorite', 1), ('Power', 1), ('a stress', 1), ('Another similar one', 1), ('the watch face', 1), ('several free ones', 1), ('My favourites', 1), ('BlackTie', 1), ('my motorbike', 1), ('Smp105', 1), ('JND0267', 1), ('my go', 1), ('Smp', 1), ('a simple red and white line', 1), ('JND', 1), ('the digital time', 1), ('the right', 1), ('the whole sleeve', 1), ('a suit jacket', 1), ('more Lairds', 1), ('All their faces', 1), ('Those', 1), ('the free ones', 1), ('a bit... rubbish', 1), ('End', 1), ('a few practical digital ones', 1), ('\\U0001f929 Available', 1), ('This guy', 1), ('both my Amazfit TRex', 1), ('this premium watch', 1), ('so inaccurate sleep sensor', 1), ('the Amazfit', 1), ('the awake times', 1), ('the sleep stages', 1), ('No, only quick replies', 1), ('some other apps', 1), ('Messenger', 1), ('instagram', 1), ('a detachable one', 1), ('Whaaaat', 1), ('Alexa integration', 1), ('Alexa', 1), ('these messages', 1), ('no ports', 1), ('alexa', 1), ('celia', 1), (\"huawei's assistant\", 1), ('a frw countries', 1), ('a oneplus 7t pro', 1), ('11t pro', 1), ('Not big deal', 1), ('a little bit more variety', 1), ('Many many groups', 1), ('only 12 faces', 1), ('more watch faces', 1), ('\"Devices', 1), ('a magic workaround', 1), ('a Chinese account', 1), ('your ISP', 1), ('the blind', 1), ('Hundreds', 1), ('my Pixel', 1), ('the variety', 1), ('thaaaat', 1), ('my follow up question', 1), ('variety', 1), ('xiaomi bands', 1), ('the mi watch', 1), ('a really good option', 1), ('accuracy perspective', 1), ('the HR department', 1), ('the gallery', 1), ('3 different designs', 1), ('the hour/date', 1), ('the top row', 1), ('free ones', 1), ('the help', 1), ('screenshot', 1), ('those free ones', 1), ('https://t.me/darkstarfreewatchfaces', 1), ('(GT2', 1), ('android phone', 1), ('24h mode', 1), ('a big fix', 1), ('Same problem', 1), ('a second Android phone', 1), ('24h format', 1), ('am', 1), ('/pm format', 1), ('Does the update', 1), ('the App store', 1), ('some known issues', 1), ('my battery issue', 1), ('the same time', 1), ('single charge', 1), ('the looks', 1), ('a brand', 1), ('soul', 1), ('accurate results', 1), ('all gt series', 1), ('the hr sensor', 1), ('the  software version', 1), ('those people', 1), ('good readings', 1), ('the most accurate hr measurements', 1), ('any band', 1), ('none', 1), ('garmin vivosport line', 1), ('not xiaomi bands', 1), ('galaxy bands', 1), ('huawei bands', 1), ('its the sensors quality', 1), ('the SAME sensor', 1), ('their weight', 1), ('some activity', 1), ('Lighter devices', 1), ('the skin', 1), ('less noise', 1), ('just a drawback', 1), ('the PPG technology NOICE', 1), ('E.g.', 1), ('hand movement', 1), ('tension', 1), ('context', 1), ('one software version', 1), ('those cases', 1), ('weight', 1), ('a factor', 1), ('the quantified scientist reviews', 1), ('so much better results', 1), ('software updates', 1), ('point', 1)]\n"
     ]
    }
   ],
   "source": [
    "import operator\n",
    "np_dict = {}\n",
    "for doc in docs:\n",
    "    for np in doc.noun_chunks:\n",
    "        np_dict[np.text]=np_dict.get(np.text,0)+1\n",
    "sortedDict = sorted(np_dict.items(),key=operator.itemgetter(1),reverse=True)\n",
    "print(sortedDict)"
   ]
  },
  {
   "cell_type": "code",
   "execution_count": 14,
   "id": "b3983efc",
   "metadata": {},
   "outputs": [
    {
     "name": "stdout",
     "output_type": "stream",
     "text": [
      "[('Huawei', 111), ('3', 67), ('GT', 55), ('one', 41), ('Strava', 33), ('46mm', 30), ('Huawei Health', 28), ('Garmin', 27), ('first', 25), ('US', 23), ('2', 22), ('GT2', 22), ('Pro', 18), ('UK', 17), ('Google', 15), ('gt3', 14), ('android', 13), ('Health', 13), ('GT Runner', 11), ('watchface', 11), ('China', 10), ('Compatible', 9), ('4', 9), ('third', 8), ('two', 8), ('5', 8), ('Android', 8), ('Samsung', 7), ('Europe', 7), ('Germany', 6), ('Bluetooth', 6), ('today', 6), ('Huawei Health App', 6), ('half', 6), ('6', 6), ('42mm', 6), ('3 Pro', 6), ('AOD', 6), ('100%', 5), ('2e', 5), ('\\U0001f929', 5), ('\\U0001f929\\U0001f929', 5), ('Health Sync', 5), ('the day', 5), ('3rd', 5), ('HONOR MagicWatch', 5), ('SE', 5), ('Canada', 5), ('USA', 5), ('13', 5), ('Amazon', 5), ('7', 4), ('AppGallery', 4), ('Amazfit', 4), ('HRV', 4), ('\\\\-', 4), ('GT Cyber', 4), ('HMS', 4), ('huawei', 4), ('daily', 4), ('5 days', 4), ('Fitbit', 4), ('Apple', 4), ('GT3', 4), ('Pixel', 4), ('Sapphire', 4), ('tomorrow', 3), ('NFC', 3), ('the GT Runner', 3), ('gps', 3), ('99%', 3), ('Australia', 3), ('Petal', 3), ('5k', 3), ('Apple Watch', 3), ('Polar', 3), ('PRO', 3), ('1', 3), ('Chinese', 3), ('the Huawei Health', 3), ('Telegram', 3), ('First', 3), ('LiteOS', 3), ('ECG', 3), ('4 years', 3), ('second', 3), ('16', 3), ('Huawei AppGallery', 3), ('YouTube', 3), ('yesterday', 3), ('10', 3), ('Galaxy', 3), ('American', 3), ('😡', 3), ('zero', 3), ('the Huawei AppGallery', 3), ('Greece', 3), ('55', 3), ('HIIT', 3), ('PPG', 3), ('Hong Kong', 3), ('1 week', 2), ('Timex', 2), ('Watch Fit 2', 2), ('hundreds', 2), ('Spotify', 2), ('Half', 2), ('only one', 2), ('245', 2), ('Turkey', 2), ('Idk', 2), ('16.3', 2), ('a year ago', 2), ('ecg', 2), ('wich', 2), ('PB', 2), ('every day', 2), ('7 days', 2), ('Help Center', 2), ('about 3', 2), ('125', 2), ('4th', 2), ('Galaxy Watch 5 Pro', 2), ('the Google Play Store', 2), ('HarmonyOS', 2), ('night', 2), ('Appgallery', 2), ('appgallery', 2), ('Hauwei Watch', 2), ('8', 2), ('True Sleep', 2), ('two years', 2), ('https://celest-watches.com/product/celest-5419-military-watch 🔥🔥🔥', 2), ('ebay', 2), ('One', 2), ('1 minute', 2), ('8 days', 2), ('4 days', 2), ('2 months', 2), ('Harmony', 2), ('5ATM', 2), ('22810:2010', 2), ('5atm', 2), ('DarkBlue', 2), ('24 hour', 2), ('years', 2), ('these days', 2), ('Mac', 2), ('Garmin Venu', 2), ('Fit', 2), ('2nd', 2), ('uk', 2), ('2018', 2), ('AU', 2), ('BPM', 2), ('a few dollars', 2), ('APKs', 2), ('2.1.0.258', 2), ('the hour', 2), ('12 hours', 2), ('2.6.3', 2), ('English', 2), ('china', 2), ('Worth', 2), ('2019', 2), ('non-US', 2), ('Madrid', 2), ('24h', 2), ('Heartrate', 1), ('the Watch Fit', 1), ('Watch Fit', 1), ('Privatespace', 1), ('Mainspace', 1), ('EMUI 12', 1), ('Music', 1), ('the Band 4E', 1), ('15k', 1), ('about a month', 1), ('about a week ago', 1), ('just £119', 1), ('Black Friday', 1), ('only £10', 1), ('3 days ago', 1), ('USD150', 1), ('Malaysia', 1), ('Hauwei', 1), ('Coros Pace', 1), ('about a month ago', 1), ('Fenix 6', 1), ('a week', 1), ('2023', 1), ('Asia', 1), ('EU', 1), ('Middle East', 1), ('some months', 1), ('Three months', 1), ('30%', 1), ('10%/day', 1), ('Harmony OS', 1), ('7km', 1), ('11.2', 1), ('notifs', 1), ('every couple of hours', 1), ('almost 2 years', 1), ('the O/S', 1), ('Hua', 1), ('2-3 day', 1), ('https://i.redd.it/0hk2qjd2z1r91.jpg', 1), ('Watch', 1), ('Cyprus', 1), ('more than a week', 1), ('Afib', 1), ('almost zero', 1), ('mastercard 😁', 1), ('my HW 3 Active', 1), ('around £100', 1), ('Mo Farah', 1), ('Series', 1), ('Thinkrider', 1), ('a Tom Tom', 1), ('more than a month', 1), ('SpO2', 1), ('this morning', 1), ('about 200 mts', 1), ('about half', 1), ('10-12', 1), ('just days', 1), ('android 13 Health Sync', 1), ('a couple of minutes', 1), ('hours last night', 1), ('xiamo', 1), ('Every night', 1), ('4 years ago', 1), ('Gt2', 1), ('1.0.12.26', 1), ('C03', 1), ('chinese', 1), ('year old', 1), ('just over two years', 1), ('between 7 to 10 days', 1), ('one year ago', 1), ('9 to 10 days', 1), ('2 year old', 1), ('neglectable', 1), ('every 12 days', 1), ('huawei & iPhone', 1), ('6 weeks', 1), ('16.2', 1), ('two years ago', 1), ('a couple of years', 1), ('a few weeks ago', 1), ('a few years', 1), ('4 months', 1), ('11 months', 1), ('6 months', 1), ('lyte', 1), ('Viber', 1), ('119', 1), ('copywright', 1), ('traingpeaks', 1), ('so many years', 1), ('monthly', 1), ('August', 1), ('September', 1), ('2022 summer', 1), ('December 2022', 1), ('Huawei Watch 3', 1), ('Pro GPS', 1), ('youtube channel scientific', 1), ('https://youtu.be/QoOWZ9HrWXM', 1), ('the GW5 Pro', 1), ('WhatsApp', 1), ('GMail', 1), ('6a', 1), ('DnD', 1), ('12', 1), ('il', 1), ('Harmony os 3.0', 1), ('EMUI 13', 1), ('3.0', 1), ('Super', 1), ('46 mm', 1), ('2-*XYZ', 1), ('Bluetooth).\\\\', 1), ('2GB', 1), ('32MB', 1), ('1,5 years', 1), ('the GT3', 1), ('heaphones', 1), ('DND', 1), ('BT', 1), ('AGt', 1), ('at least two years', 1), ('the past two years', 1), ('first day', 1), ('GP', 1), ('the Huawei App Store', 1), ('samsung', 1), ('about 2 weeks', 1), ('Stravs ni', 1), ('singapore', 1), ('Native', 1), ('Connector10', 1), ('0%', 1), ('24 hours', 1), ('iphone xr', 1), ('watch gt', 1), ('Route', 1), ('3x', 1), ('SIM', 1), ('100m', 1), ('1 minute Plank', 1), ('GT RUNNER', 1), ('GT3 PRO, Watch', 1), ('30 to 60 minutes', 1), ('60 to 120 minutes', 1), ('between 8 to 9 days', 1), ('no more than 3 days', 1), ('us', 1), ('phone(it', 1), ('last 14 days', 1), ('3 days', 1), ('2 years', 1), ('little under 6 months', 1), ('Signal', 1), ('4-5 days', 1), ('3 years', 1), ('a full day', 1), ('Galaxy Watches', 1), ('latin america', 1), ('32', 1), ('50m', 1), ('50 meters', 1), ('ISO', 1), ('https://consumer.huawei.com/en/wearables/watch-gt3/specs/', 1), ('5 minute', 1), ('https://youtu.be/Pmdqi1EujLw', 1), ('the last few weeks', 1), ('week', 1), ('Milanese', 1), ('only a few hours', 1), ('TIME', 1), ('Coz', 1), ('hiit', 1), ('MAF', 1), ('180', 1), ('Jog', 1), ('10 days', 1), ('about 2.5', 1), ('BIP S. 16.2', 1), ('https://www.reddit.com/r/HuaweiWatchGT/comments/10kbe8b/notifications_issue_gt2ios_163/j5v52ba/?utm_source=share&utm_medium=ios_app&utm_name=iossmf&context=3', 1), ('a few short months', 1), ('the 3 Pro for months now', 1), ('more than a year', 1), ('Danish', 1), ('MIUI', 1), ('Telegram X', 1), ('a few minutes', 1), ('one hour', 1), ('Apple Health', 1), ('Favorite Contacts', 1), ('samsung watch', 1), ('19-21 days', 1), ('Fingerprint', 1), ('thousand', 1), ('MAJOR', 1), ('March', 1), ('TicWatch', 1), ('WearOS', 1), ('ticwatch', 1), ('all these years', 1), ('7 month', 1), ('GT3 Pro', 1), ('Edit 2', 1), ('autolocking', 1), ('over a year', 1), ('swop', 1), ('Friday', 1), ('FTFY', 1), ('Payed', 1), ('48%', 1), ('179.00$', 1), ('30mm', 1), ('all day', 1), ('a couple of days ago', 1), ('IOS 16!', 1), ('14.6', 1), ('Latin America', 1), ('8 minute', 1), ('2 minute', 1), ('140s', 1), ('140', 1), ('im.\\n\\nSomething', 1), ('more than 95%', 1), ('around 90', 1), ('190', 1), ('150-160 bpm', 1), ('6,and', 1), ('Only one', 1), ('Physical Data Acces', 1), ('NHS', 1), ('58-65', 1), ('https://m.gsmarena.com/huawei_watch_gt_3-11171.php\\n\\nhttps://specs-tech.com/en/huawei-watch-gt-3/', 1), ('3th', 1), ('thnx', 1), ('Pebble', 1), ('Huawai', 1), ('11.0.16.10', 1), ('10-8', 1), ('Middle Eastern', 1), ('Xiaomi', 1), ('Apple Maps', 1), ('Lika', 1), ('sattelite', 1), ('freedive', 1), ('Parp', 1), ('Multi-Service Widget', 1), ('About 10metres', 1), ('32 ft', 1), ('just a week ago', 1), ('Hvr', 1), ('5.0', 1), ('Rob', 1), ('70', 1), ('80', 1), ('4km', 1), ('Instagram', 1), ('Ueah', 1), ('Googles', 1), ('a day', 1), ('only half', 1), ('> few hundred', 1), ('20 years', 1), ('Healthsync', 1), ('this year', 1), ('Secondly', 1), ('42', 1), ('TruSleep', 1), ('Huawei Watches', 1), ('youtube', 1), ('iFixit', 1), ('the days', 1), ('about a year ago', 1), ('2.1.0.376', 1), ('about half an hour', 1), ('two months ago', 1), ('Celia', 1), ('last month', 1), ('21.22 kms', 1), ('21.06 kms', 1), ('aniway', 1), ('Fossil', 1), ('Huawei+gt+strap&_sacat=0', 1), ('European', 1), ('macrodroid', 1), ('10%left', 1), ('AFAIK', 1), ('watch4', 1), ('1.5', 1), ('the other day', 1), ('a minute', 1), ('LCMILITARY', 1), ('12 hour', 1), ('Aviator', 1), ('the pm', 1), ('24hr', 1), ('1320', 1), ('https://www.reddit.com/r/Huawei/comments/vhqz5w/huawei\\\\_watch\\\\_gt\\\\_2\\\\_pro\\\\_battery\\\\_problems\\\\_solved/', 1), ('last 2 weeks', 1), ('a year', 1), ('160 dollars', 1), ('just 160', 1), ('Galaxy Watch', 1), ('1st', 1), ('Apple Watch with Sapphire', 1), ('Stainless', 1), ('Opening Huawei Health', 1), ('Ultra', 1), ('Mozilla', 1), ('Nord VPN', 1), ('a month', 1), ('Nord', 1), ('un', 1), ('the huawei health app', 1), ('almost a year', 1), ('only last 3 days', 1), ('max', 1), ('the 2 weeks', 1), ('130€', 1), ('AI', 1), ('adidas', 1), ('about 955', 1), ('fenix', 1), ('3 hour', 1), ('nearly 2 years', 1), ('marathons', 1), ('10 years', 1), ('130', 1), ('Komoot', 1), ('PacePro', 1), ('about +500€', 1), ('Garmins', 1), ('the last year', 1), ('Userinterface', 1), ('a few years ago', 1), ('every 10 minutes', 1), ('Xiaomi s1', 1), ('Today', 1), ('3k', 1), ('200-300', 1), ('the early afternoon', 1), ('1500', 1), ('Amazefit', 1), ('6 days', 1), ('50 minute', 1), ('30 minutes', 1), ('2.1.0.399', 1), ('2.1', 1), ('2.1.2', 1), ('2.2.5', 1), ('1.99', 1), ('100', 1), ('more than 1', 1), ('at least 10', 1), ('Up to $5.5 AUD', 1), ('3.7 USD', 1), ('Pokemon', 1), ('5€', 1), ('Rubbish', 1), ('5403', 1), ('Twenty second', 1), ('Crossfit', 1), ('2 months ago', 1), ('https://www.google.com/amp/s/www.huaweicentral.com/huawei-watch-3-and-watch-3-pro-begins-harmonyos-3-0-journey/amp/', 1), ('HarmonyOS 3', 1), ('the end of January 2023', 1), ('watch3', 1), ('united Kingdom', 1), ('delet Huawei', 1), ('hms', 1), ('the Health App', 1), ('the United Kingdom', 1), ('800', 1), ('50 calories', 1), ('GL', 1), ('Calibrate', 1), ('20 mins', 1), ('836 calories', 1), ('6k', 1), ('Laird', 1), ('2 fav', 1), ('the end after 2 months', 1), ('10-12 days', 1), ('about 8h', 1), ('around 8% to 10%', 1), ('about more than a week', 1), ('10 to 15 days', 1), ('7 Days', 1), ('14 days', 1), ('100 % to 80 %', 1), ('2 days', 1), ('O2', 1), ('80 % to 8 %', 1), ('the Blood Pressure', 1), ('https://consumer.huawei.com/ae-en/support/content/en-us15893330/', 1), ('Poland', 1), ('Finland', 1), ('Cech', 1), ('Romania', 1), ('Hungary', 1), ('Bulgaria', 1), ('Croatia', 1), ('Lithuania', 1), ('Austria', 1), ('Nice', 1), ('🤔', 1), ('Displex', 1), ('5-10 seconds', 1), ('15-20min', 1), ('about 10', 1), ('10 meters', 1), ('20 meters', 1), ('the last 10 years', 1), ('a solid few days/weeks', 1), ('more than 50', 1), ('the first days', 1), ('70 ish %', 1), ('Watchaos 9', 1), ('70 ish percent', 1), ('dozens', 1), ('Huawei Watch', 1), ('JPT-B29', 1), ('LG', 1), ('G8', 1), ('Canadian', 1), ('huawei health app', 1), ('Mexico', 1), ('https://consumer.huawei.com/en/community/details/Health-App-on-iOS/topicId_118123/', 1), ('App Gallery', 1), ('HMS Core', 1), ('Spain', 1), ('https://consumer.huawei.com/us/contact-us/', 1), ('AppStore', 1), ('14', 1), ('almost 2 weeks', 1), ('3 weeks', 1), ('Harmony OS 2.1.0.399', 1), ('140.56MB', 1), ('a couple months ago', 1), ('A couple of weeks', 1), ('Night Glow', 1), ('Clear', 1), ('Smp105 and JND0267 are', 1), ('JND', 1), ('Lairds', 1), ('about 3 years old', 1), ('Alexa', 1), ('celia', 1), ('frw', 1), ('11', 1), ('only 12', 1), ('ISP', 1), ('Hundreds', 1), ('50', 1), ('8-10', 1), ('now days', 1), ('12.1.8.315', 1), ('6 hours ago', 1), ('App', 1), ('58%', 1), ('day 4', 1), ('gt3 series', 1), ('vivosport', 1)]\n"
     ]
    }
   ],
   "source": [
    "entity_dict = {}\n",
    "for doc in docs:\n",
    "    for entity in doc.ents:\n",
    "        entity_dict[entity.text]=entity_dict.get(entity.text,0)+1\n",
    "sortedDict = sorted(entity_dict.items(),key=operator.itemgetter(1),reverse=True)\n",
    "print(sortedDict)"
   ]
  },
  {
   "cell_type": "code",
   "execution_count": 16,
   "id": "5f891901",
   "metadata": {},
   "outputs": [
    {
     "name": "stdout",
     "output_type": "stream",
     "text": [
      "[('work', 116), ('watch', 79), ('think', 74), ('get', 72), ('use', 70), ('try', 69), ('find', 63), ('look', 59), ('know', 57), ('face', 52)]\n"
     ]
    }
   ],
   "source": [
    "# To get SpaCy tag list :https://machinelearningknowledge.ai/tutorial-on-spacy-part-of-speech-pos-tagging/\n",
    "from collections import Counter\n",
    "verbs = []\n",
    "for doc in docs:\n",
    "    for token in doc: \n",
    "        if (not token.is_stop and not token.is_punct and token.pos_==\"VERB\"):\n",
    "            verbs.append(token.lemma_)\n",
    "verb_freq = Counter(verbs)\n",
    "common_verbs = verb_freq.most_common(10)\n",
    "print(common_verbs)"
   ]
  },
  {
   "cell_type": "code",
   "execution_count": null,
   "id": "8071bd04",
   "metadata": {},
   "outputs": [],
   "source": []
  }
 ],
 "metadata": {
  "kernelspec": {
   "display_name": "Python 3 (ipykernel)",
   "language": "python",
   "name": "python3"
  },
  "language_info": {
   "codemirror_mode": {
    "name": "ipython",
    "version": 3
   },
   "file_extension": ".py",
   "mimetype": "text/x-python",
   "name": "python",
   "nbconvert_exporter": "python",
   "pygments_lexer": "ipython3",
   "version": "3.9.16"
  }
 },
 "nbformat": 4,
 "nbformat_minor": 5
}
